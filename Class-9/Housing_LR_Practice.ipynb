{
 "cells": [
  {
   "cell_type": "markdown",
   "id": "368e23dc",
   "metadata": {},
   "source": [
    "<center><bold><span style=\"font-size: 3em;\">Linear Regression</span></bold></center>"
   ]
  },
  {
   "cell_type": "code",
   "execution_count": 35,
   "id": "066c7f83",
   "metadata": {},
   "outputs": [],
   "source": [
    "import numpy as np\n",
    "import pandas as pd"
   ]
  },
  {
   "cell_type": "code",
   "execution_count": 36,
   "id": "5857f6eb",
   "metadata": {},
   "outputs": [],
   "source": [
    "hr = pd.read_csv('housing3.csv')"
   ]
  },
  {
   "cell_type": "code",
   "execution_count": 37,
   "id": "dfe5f044",
   "metadata": {},
   "outputs": [
    {
     "data": {
      "text/html": [
       "<div>\n",
       "<style scoped>\n",
       "    .dataframe tbody tr th:only-of-type {\n",
       "        vertical-align: middle;\n",
       "    }\n",
       "\n",
       "    .dataframe tbody tr th {\n",
       "        vertical-align: top;\n",
       "    }\n",
       "\n",
       "    .dataframe thead th {\n",
       "        text-align: right;\n",
       "    }\n",
       "</style>\n",
       "<table border=\"1\" class=\"dataframe\">\n",
       "  <thead>\n",
       "    <tr style=\"text-align: right;\">\n",
       "      <th></th>\n",
       "      <th>price</th>\n",
       "      <th>area</th>\n",
       "      <th>bedrooms</th>\n",
       "      <th>bathrooms</th>\n",
       "      <th>stories</th>\n",
       "      <th>mainroad</th>\n",
       "      <th>guestroom</th>\n",
       "      <th>basement</th>\n",
       "      <th>hotwaterheating</th>\n",
       "      <th>airconditioning</th>\n",
       "      <th>parking</th>\n",
       "      <th>furnishingstatus</th>\n",
       "      <th>locality</th>\n",
       "    </tr>\n",
       "  </thead>\n",
       "  <tbody>\n",
       "    <tr>\n",
       "      <th>0</th>\n",
       "      <td>13300000</td>\n",
       "      <td>7420</td>\n",
       "      <td>4</td>\n",
       "      <td>2</td>\n",
       "      <td>3</td>\n",
       "      <td>yes</td>\n",
       "      <td>no</td>\n",
       "      <td>no</td>\n",
       "      <td>no</td>\n",
       "      <td>yes</td>\n",
       "      <td>2</td>\n",
       "      <td>furnished</td>\n",
       "      <td>gulshan</td>\n",
       "    </tr>\n",
       "    <tr>\n",
       "      <th>1</th>\n",
       "      <td>12250000</td>\n",
       "      <td>8960</td>\n",
       "      <td>4</td>\n",
       "      <td>4</td>\n",
       "      <td>4</td>\n",
       "      <td>yes</td>\n",
       "      <td>no</td>\n",
       "      <td>no</td>\n",
       "      <td>no</td>\n",
       "      <td>yes</td>\n",
       "      <td>3</td>\n",
       "      <td>furnished</td>\n",
       "      <td>mohakhali</td>\n",
       "    </tr>\n",
       "    <tr>\n",
       "      <th>2</th>\n",
       "      <td>12250000</td>\n",
       "      <td>9960</td>\n",
       "      <td>3</td>\n",
       "      <td>2</td>\n",
       "      <td>2</td>\n",
       "      <td>yes</td>\n",
       "      <td>no</td>\n",
       "      <td>yes</td>\n",
       "      <td>no</td>\n",
       "      <td>no</td>\n",
       "      <td>2</td>\n",
       "      <td>semi-furnished</td>\n",
       "      <td>bashundhara</td>\n",
       "    </tr>\n",
       "    <tr>\n",
       "      <th>3</th>\n",
       "      <td>12215000</td>\n",
       "      <td>7500</td>\n",
       "      <td>4</td>\n",
       "      <td>2</td>\n",
       "      <td>2</td>\n",
       "      <td>yes</td>\n",
       "      <td>no</td>\n",
       "      <td>yes</td>\n",
       "      <td>no</td>\n",
       "      <td>yes</td>\n",
       "      <td>3</td>\n",
       "      <td>furnished</td>\n",
       "      <td>bashundhara</td>\n",
       "    </tr>\n",
       "    <tr>\n",
       "      <th>4</th>\n",
       "      <td>11410000</td>\n",
       "      <td>7420</td>\n",
       "      <td>4</td>\n",
       "      <td>1</td>\n",
       "      <td>2</td>\n",
       "      <td>yes</td>\n",
       "      <td>yes</td>\n",
       "      <td>yes</td>\n",
       "      <td>no</td>\n",
       "      <td>yes</td>\n",
       "      <td>2</td>\n",
       "      <td>furnished</td>\n",
       "      <td>azimpur</td>\n",
       "    </tr>\n",
       "    <tr>\n",
       "      <th>5</th>\n",
       "      <td>10850000</td>\n",
       "      <td>7500</td>\n",
       "      <td>3</td>\n",
       "      <td>3</td>\n",
       "      <td>1</td>\n",
       "      <td>yes</td>\n",
       "      <td>no</td>\n",
       "      <td>yes</td>\n",
       "      <td>no</td>\n",
       "      <td>yes</td>\n",
       "      <td>2</td>\n",
       "      <td>semi-furnished</td>\n",
       "      <td>banani</td>\n",
       "    </tr>\n",
       "    <tr>\n",
       "      <th>6</th>\n",
       "      <td>10150000</td>\n",
       "      <td>8580</td>\n",
       "      <td>4</td>\n",
       "      <td>3</td>\n",
       "      <td>4</td>\n",
       "      <td>yes</td>\n",
       "      <td>no</td>\n",
       "      <td>no</td>\n",
       "      <td>no</td>\n",
       "      <td>yes</td>\n",
       "      <td>2</td>\n",
       "      <td>semi-furnished</td>\n",
       "      <td>gulshan</td>\n",
       "    </tr>\n",
       "    <tr>\n",
       "      <th>7</th>\n",
       "      <td>10150000</td>\n",
       "      <td>16200</td>\n",
       "      <td>5</td>\n",
       "      <td>3</td>\n",
       "      <td>2</td>\n",
       "      <td>yes</td>\n",
       "      <td>no</td>\n",
       "      <td>no</td>\n",
       "      <td>no</td>\n",
       "      <td>no</td>\n",
       "      <td>0</td>\n",
       "      <td>unfurnished</td>\n",
       "      <td>banasree</td>\n",
       "    </tr>\n",
       "    <tr>\n",
       "      <th>8</th>\n",
       "      <td>9870000</td>\n",
       "      <td>8100</td>\n",
       "      <td>4</td>\n",
       "      <td>1</td>\n",
       "      <td>2</td>\n",
       "      <td>yes</td>\n",
       "      <td>yes</td>\n",
       "      <td>yes</td>\n",
       "      <td>no</td>\n",
       "      <td>yes</td>\n",
       "      <td>2</td>\n",
       "      <td>furnished</td>\n",
       "      <td>banani</td>\n",
       "    </tr>\n",
       "    <tr>\n",
       "      <th>9</th>\n",
       "      <td>9800000</td>\n",
       "      <td>5750</td>\n",
       "      <td>3</td>\n",
       "      <td>2</td>\n",
       "      <td>4</td>\n",
       "      <td>yes</td>\n",
       "      <td>yes</td>\n",
       "      <td>no</td>\n",
       "      <td>no</td>\n",
       "      <td>yes</td>\n",
       "      <td>1</td>\n",
       "      <td>unfurnished</td>\n",
       "      <td>banani</td>\n",
       "    </tr>\n",
       "  </tbody>\n",
       "</table>\n",
       "</div>"
      ],
      "text/plain": [
       "      price   area  bedrooms  bathrooms  stories mainroad guestroom basement  \\\n",
       "0  13300000   7420         4          2        3      yes        no       no   \n",
       "1  12250000   8960         4          4        4      yes        no       no   \n",
       "2  12250000   9960         3          2        2      yes        no      yes   \n",
       "3  12215000   7500         4          2        2      yes        no      yes   \n",
       "4  11410000   7420         4          1        2      yes       yes      yes   \n",
       "5  10850000   7500         3          3        1      yes        no      yes   \n",
       "6  10150000   8580         4          3        4      yes        no       no   \n",
       "7  10150000  16200         5          3        2      yes        no       no   \n",
       "8   9870000   8100         4          1        2      yes       yes      yes   \n",
       "9   9800000   5750         3          2        4      yes       yes       no   \n",
       "\n",
       "  hotwaterheating airconditioning  parking furnishingstatus     locality  \n",
       "0              no             yes        2        furnished      gulshan  \n",
       "1              no             yes        3        furnished    mohakhali  \n",
       "2              no              no        2   semi-furnished  bashundhara  \n",
       "3              no             yes        3        furnished  bashundhara  \n",
       "4              no             yes        2        furnished      azimpur  \n",
       "5              no             yes        2   semi-furnished       banani  \n",
       "6              no             yes        2   semi-furnished      gulshan  \n",
       "7              no              no        0      unfurnished     banasree  \n",
       "8              no             yes        2        furnished       banani  \n",
       "9              no             yes        1      unfurnished       banani  "
      ]
     },
     "execution_count": 37,
     "metadata": {},
     "output_type": "execute_result"
    }
   ],
   "source": [
    "hr.head(10)"
   ]
  },
  {
   "cell_type": "markdown",
   "id": "46b867e3",
   "metadata": {},
   "source": [
    "# Check for null values"
   ]
  },
  {
   "cell_type": "code",
   "execution_count": 38,
   "id": "3c07a0d6",
   "metadata": {},
   "outputs": [
    {
     "data": {
      "text/html": [
       "<div>\n",
       "<style scoped>\n",
       "    .dataframe tbody tr th:only-of-type {\n",
       "        vertical-align: middle;\n",
       "    }\n",
       "\n",
       "    .dataframe tbody tr th {\n",
       "        vertical-align: top;\n",
       "    }\n",
       "\n",
       "    .dataframe thead th {\n",
       "        text-align: right;\n",
       "    }\n",
       "</style>\n",
       "<table border=\"1\" class=\"dataframe\">\n",
       "  <thead>\n",
       "    <tr style=\"text-align: right;\">\n",
       "      <th></th>\n",
       "      <th>price</th>\n",
       "      <th>area</th>\n",
       "      <th>bedrooms</th>\n",
       "      <th>bathrooms</th>\n",
       "      <th>stories</th>\n",
       "      <th>mainroad</th>\n",
       "      <th>guestroom</th>\n",
       "      <th>basement</th>\n",
       "      <th>hotwaterheating</th>\n",
       "      <th>airconditioning</th>\n",
       "      <th>parking</th>\n",
       "      <th>furnishingstatus</th>\n",
       "      <th>locality</th>\n",
       "    </tr>\n",
       "  </thead>\n",
       "  <tbody>\n",
       "    <tr>\n",
       "      <th>0</th>\n",
       "      <td>False</td>\n",
       "      <td>False</td>\n",
       "      <td>False</td>\n",
       "      <td>False</td>\n",
       "      <td>False</td>\n",
       "      <td>False</td>\n",
       "      <td>False</td>\n",
       "      <td>False</td>\n",
       "      <td>False</td>\n",
       "      <td>False</td>\n",
       "      <td>False</td>\n",
       "      <td>False</td>\n",
       "      <td>False</td>\n",
       "    </tr>\n",
       "    <tr>\n",
       "      <th>1</th>\n",
       "      <td>False</td>\n",
       "      <td>False</td>\n",
       "      <td>False</td>\n",
       "      <td>False</td>\n",
       "      <td>False</td>\n",
       "      <td>False</td>\n",
       "      <td>False</td>\n",
       "      <td>False</td>\n",
       "      <td>False</td>\n",
       "      <td>False</td>\n",
       "      <td>False</td>\n",
       "      <td>False</td>\n",
       "      <td>False</td>\n",
       "    </tr>\n",
       "    <tr>\n",
       "      <th>2</th>\n",
       "      <td>False</td>\n",
       "      <td>False</td>\n",
       "      <td>False</td>\n",
       "      <td>False</td>\n",
       "      <td>False</td>\n",
       "      <td>False</td>\n",
       "      <td>False</td>\n",
       "      <td>False</td>\n",
       "      <td>False</td>\n",
       "      <td>False</td>\n",
       "      <td>False</td>\n",
       "      <td>False</td>\n",
       "      <td>False</td>\n",
       "    </tr>\n",
       "    <tr>\n",
       "      <th>3</th>\n",
       "      <td>False</td>\n",
       "      <td>False</td>\n",
       "      <td>False</td>\n",
       "      <td>False</td>\n",
       "      <td>False</td>\n",
       "      <td>False</td>\n",
       "      <td>False</td>\n",
       "      <td>False</td>\n",
       "      <td>False</td>\n",
       "      <td>False</td>\n",
       "      <td>False</td>\n",
       "      <td>False</td>\n",
       "      <td>False</td>\n",
       "    </tr>\n",
       "    <tr>\n",
       "      <th>4</th>\n",
       "      <td>False</td>\n",
       "      <td>False</td>\n",
       "      <td>False</td>\n",
       "      <td>False</td>\n",
       "      <td>False</td>\n",
       "      <td>False</td>\n",
       "      <td>False</td>\n",
       "      <td>False</td>\n",
       "      <td>False</td>\n",
       "      <td>False</td>\n",
       "      <td>False</td>\n",
       "      <td>False</td>\n",
       "      <td>False</td>\n",
       "    </tr>\n",
       "    <tr>\n",
       "      <th>...</th>\n",
       "      <td>...</td>\n",
       "      <td>...</td>\n",
       "      <td>...</td>\n",
       "      <td>...</td>\n",
       "      <td>...</td>\n",
       "      <td>...</td>\n",
       "      <td>...</td>\n",
       "      <td>...</td>\n",
       "      <td>...</td>\n",
       "      <td>...</td>\n",
       "      <td>...</td>\n",
       "      <td>...</td>\n",
       "      <td>...</td>\n",
       "    </tr>\n",
       "    <tr>\n",
       "      <th>540</th>\n",
       "      <td>False</td>\n",
       "      <td>False</td>\n",
       "      <td>False</td>\n",
       "      <td>False</td>\n",
       "      <td>False</td>\n",
       "      <td>False</td>\n",
       "      <td>False</td>\n",
       "      <td>False</td>\n",
       "      <td>False</td>\n",
       "      <td>False</td>\n",
       "      <td>False</td>\n",
       "      <td>False</td>\n",
       "      <td>False</td>\n",
       "    </tr>\n",
       "    <tr>\n",
       "      <th>541</th>\n",
       "      <td>False</td>\n",
       "      <td>False</td>\n",
       "      <td>False</td>\n",
       "      <td>False</td>\n",
       "      <td>False</td>\n",
       "      <td>False</td>\n",
       "      <td>False</td>\n",
       "      <td>False</td>\n",
       "      <td>False</td>\n",
       "      <td>False</td>\n",
       "      <td>False</td>\n",
       "      <td>False</td>\n",
       "      <td>False</td>\n",
       "    </tr>\n",
       "    <tr>\n",
       "      <th>542</th>\n",
       "      <td>False</td>\n",
       "      <td>False</td>\n",
       "      <td>False</td>\n",
       "      <td>False</td>\n",
       "      <td>False</td>\n",
       "      <td>False</td>\n",
       "      <td>False</td>\n",
       "      <td>False</td>\n",
       "      <td>False</td>\n",
       "      <td>False</td>\n",
       "      <td>False</td>\n",
       "      <td>False</td>\n",
       "      <td>False</td>\n",
       "    </tr>\n",
       "    <tr>\n",
       "      <th>543</th>\n",
       "      <td>False</td>\n",
       "      <td>False</td>\n",
       "      <td>False</td>\n",
       "      <td>False</td>\n",
       "      <td>False</td>\n",
       "      <td>False</td>\n",
       "      <td>False</td>\n",
       "      <td>False</td>\n",
       "      <td>False</td>\n",
       "      <td>False</td>\n",
       "      <td>False</td>\n",
       "      <td>False</td>\n",
       "      <td>False</td>\n",
       "    </tr>\n",
       "    <tr>\n",
       "      <th>544</th>\n",
       "      <td>False</td>\n",
       "      <td>False</td>\n",
       "      <td>False</td>\n",
       "      <td>False</td>\n",
       "      <td>False</td>\n",
       "      <td>False</td>\n",
       "      <td>False</td>\n",
       "      <td>False</td>\n",
       "      <td>False</td>\n",
       "      <td>False</td>\n",
       "      <td>False</td>\n",
       "      <td>False</td>\n",
       "      <td>False</td>\n",
       "    </tr>\n",
       "  </tbody>\n",
       "</table>\n",
       "<p>545 rows × 13 columns</p>\n",
       "</div>"
      ],
      "text/plain": [
       "     price   area  bedrooms  bathrooms  stories  mainroad  guestroom  \\\n",
       "0    False  False     False      False    False     False      False   \n",
       "1    False  False     False      False    False     False      False   \n",
       "2    False  False     False      False    False     False      False   \n",
       "3    False  False     False      False    False     False      False   \n",
       "4    False  False     False      False    False     False      False   \n",
       "..     ...    ...       ...        ...      ...       ...        ...   \n",
       "540  False  False     False      False    False     False      False   \n",
       "541  False  False     False      False    False     False      False   \n",
       "542  False  False     False      False    False     False      False   \n",
       "543  False  False     False      False    False     False      False   \n",
       "544  False  False     False      False    False     False      False   \n",
       "\n",
       "     basement  hotwaterheating  airconditioning  parking  furnishingstatus  \\\n",
       "0       False            False            False    False             False   \n",
       "1       False            False            False    False             False   \n",
       "2       False            False            False    False             False   \n",
       "3       False            False            False    False             False   \n",
       "4       False            False            False    False             False   \n",
       "..        ...              ...              ...      ...               ...   \n",
       "540     False            False            False    False             False   \n",
       "541     False            False            False    False             False   \n",
       "542     False            False            False    False             False   \n",
       "543     False            False            False    False             False   \n",
       "544     False            False            False    False             False   \n",
       "\n",
       "     locality  \n",
       "0       False  \n",
       "1       False  \n",
       "2       False  \n",
       "3       False  \n",
       "4       False  \n",
       "..        ...  \n",
       "540     False  \n",
       "541     False  \n",
       "542     False  \n",
       "543     False  \n",
       "544     False  \n",
       "\n",
       "[545 rows x 13 columns]"
      ]
     },
     "execution_count": 38,
     "metadata": {},
     "output_type": "execute_result"
    }
   ],
   "source": [
    "hr.isnull()"
   ]
  },
  {
   "cell_type": "markdown",
   "id": "166c1d3c",
   "metadata": {},
   "source": [
    "#### Find how many null values are there in each column\n"
   ]
  },
  {
   "cell_type": "code",
   "execution_count": null,
   "id": "7adb10ac",
   "metadata": {},
   "outputs": [],
   "source": []
  },
  {
   "cell_type": "code",
   "execution_count": 39,
   "id": "48b7de88",
   "metadata": {},
   "outputs": [
    {
     "data": {
      "text/html": [
       "<div>\n",
       "<style scoped>\n",
       "    .dataframe tbody tr th:only-of-type {\n",
       "        vertical-align: middle;\n",
       "    }\n",
       "\n",
       "    .dataframe tbody tr th {\n",
       "        vertical-align: top;\n",
       "    }\n",
       "\n",
       "    .dataframe thead th {\n",
       "        text-align: right;\n",
       "    }\n",
       "</style>\n",
       "<table border=\"1\" class=\"dataframe\">\n",
       "  <thead>\n",
       "    <tr style=\"text-align: right;\">\n",
       "      <th></th>\n",
       "      <th>price</th>\n",
       "      <th>area</th>\n",
       "      <th>bedrooms</th>\n",
       "      <th>bathrooms</th>\n",
       "      <th>stories</th>\n",
       "      <th>parking</th>\n",
       "    </tr>\n",
       "  </thead>\n",
       "  <tbody>\n",
       "    <tr>\n",
       "      <th>count</th>\n",
       "      <td>5.450000e+02</td>\n",
       "      <td>545.000000</td>\n",
       "      <td>545.000000</td>\n",
       "      <td>545.000000</td>\n",
       "      <td>545.000000</td>\n",
       "      <td>545.000000</td>\n",
       "    </tr>\n",
       "    <tr>\n",
       "      <th>mean</th>\n",
       "      <td>4.766729e+06</td>\n",
       "      <td>5150.541284</td>\n",
       "      <td>2.965138</td>\n",
       "      <td>1.286239</td>\n",
       "      <td>1.805505</td>\n",
       "      <td>0.693578</td>\n",
       "    </tr>\n",
       "    <tr>\n",
       "      <th>std</th>\n",
       "      <td>1.870440e+06</td>\n",
       "      <td>2170.141023</td>\n",
       "      <td>0.738064</td>\n",
       "      <td>0.502470</td>\n",
       "      <td>0.867492</td>\n",
       "      <td>0.861586</td>\n",
       "    </tr>\n",
       "    <tr>\n",
       "      <th>min</th>\n",
       "      <td>1.750000e+06</td>\n",
       "      <td>1650.000000</td>\n",
       "      <td>1.000000</td>\n",
       "      <td>1.000000</td>\n",
       "      <td>1.000000</td>\n",
       "      <td>0.000000</td>\n",
       "    </tr>\n",
       "    <tr>\n",
       "      <th>25%</th>\n",
       "      <td>3.430000e+06</td>\n",
       "      <td>3600.000000</td>\n",
       "      <td>2.000000</td>\n",
       "      <td>1.000000</td>\n",
       "      <td>1.000000</td>\n",
       "      <td>0.000000</td>\n",
       "    </tr>\n",
       "    <tr>\n",
       "      <th>50%</th>\n",
       "      <td>4.340000e+06</td>\n",
       "      <td>4600.000000</td>\n",
       "      <td>3.000000</td>\n",
       "      <td>1.000000</td>\n",
       "      <td>2.000000</td>\n",
       "      <td>0.000000</td>\n",
       "    </tr>\n",
       "    <tr>\n",
       "      <th>75%</th>\n",
       "      <td>5.740000e+06</td>\n",
       "      <td>6360.000000</td>\n",
       "      <td>3.000000</td>\n",
       "      <td>2.000000</td>\n",
       "      <td>2.000000</td>\n",
       "      <td>1.000000</td>\n",
       "    </tr>\n",
       "    <tr>\n",
       "      <th>max</th>\n",
       "      <td>1.330000e+07</td>\n",
       "      <td>16200.000000</td>\n",
       "      <td>6.000000</td>\n",
       "      <td>4.000000</td>\n",
       "      <td>4.000000</td>\n",
       "      <td>3.000000</td>\n",
       "    </tr>\n",
       "  </tbody>\n",
       "</table>\n",
       "</div>"
      ],
      "text/plain": [
       "              price          area    bedrooms   bathrooms     stories  \\\n",
       "count  5.450000e+02    545.000000  545.000000  545.000000  545.000000   \n",
       "mean   4.766729e+06   5150.541284    2.965138    1.286239    1.805505   \n",
       "std    1.870440e+06   2170.141023    0.738064    0.502470    0.867492   \n",
       "min    1.750000e+06   1650.000000    1.000000    1.000000    1.000000   \n",
       "25%    3.430000e+06   3600.000000    2.000000    1.000000    1.000000   \n",
       "50%    4.340000e+06   4600.000000    3.000000    1.000000    2.000000   \n",
       "75%    5.740000e+06   6360.000000    3.000000    2.000000    2.000000   \n",
       "max    1.330000e+07  16200.000000    6.000000    4.000000    4.000000   \n",
       "\n",
       "          parking  \n",
       "count  545.000000  \n",
       "mean     0.693578  \n",
       "std      0.861586  \n",
       "min      0.000000  \n",
       "25%      0.000000  \n",
       "50%      0.000000  \n",
       "75%      1.000000  \n",
       "max      3.000000  "
      ]
     },
     "execution_count": 39,
     "metadata": {},
     "output_type": "execute_result"
    }
   ],
   "source": [
    "hr.describe()"
   ]
  },
  {
   "cell_type": "markdown",
   "id": "cb30f876",
   "metadata": {},
   "source": [
    "# Exploratory Data Analysis"
   ]
  },
  {
   "cell_type": "code",
   "execution_count": 40,
   "id": "a5e3c0b7",
   "metadata": {},
   "outputs": [],
   "source": [
    "import matplotlib.pyplot as plt\n",
    "import seaborn as sns\n",
    "%matplotlib inline"
   ]
  },
  {
   "cell_type": "markdown",
   "id": "ca29d353",
   "metadata": {},
   "source": [
    "## Check area vs price plot"
   ]
  },
  {
   "cell_type": "markdown",
   "id": "354d4294",
   "metadata": {},
   "source": [
    "#### Create a scatterplot of area vs price"
   ]
  },
  {
   "cell_type": "code",
   "execution_count": 41,
   "id": "1f1dfc93",
   "metadata": {},
   "outputs": [
    {
     "data": {
      "text/plain": [
       "Text(0, 0.5, 'price')"
      ]
     },
     "execution_count": 41,
     "metadata": {},
     "output_type": "execute_result"
    },
    {
     "data": {
      "image/png": "[encoded data removed]",
      "text/plain": [
       "<Figure size 640x480 with 1 Axes>"
      ]
     },
     "metadata": {},
     "output_type": "display_data"
    }
   ],
   "source": [
    "plt.scatter(hr['area'], hr['price'])\n",
    "plt.xlabel('area')\n",
    "plt.ylabel('price')"
   ]
  },
  {
   "cell_type": "markdown",
   "id": "740cf5d7",
   "metadata": {},
   "source": [
    "### Check prices for houses near the main road\n",
    "\n",
    "#### hue: vector or key in data\n",
    "Grouping variable that will produce points with different colors. Can be either categorical or numeric, although color mapping will behave differently in latter case."
   ]
  },
  {
   "cell_type": "code",
   "execution_count": null,
   "id": "5c0db769",
   "metadata": {},
   "outputs": [],
   "source": []
  },
  {
   "cell_type": "markdown",
   "id": "70e6c581",
   "metadata": {},
   "source": [
    "# Cost Function\n",
    "### We want to minimize the following cost function"
   ]
  },
  {
   "cell_type": "markdown",
   "id": "99d8bd25",
   "metadata": {},
   "source": [
    "## Formula for Single Variable Linear Regression\n",
    "<br>\n",
    "<hr>\n",
    "<center><bold><i><span style=\"font-size: 3em;\">Y = A + BX</span></i></bold></center>\n"
   ]
  },
  {
   "cell_type": "markdown",
   "id": "fa31ea3b",
   "metadata": {},
   "source": [
    "![Formula](formula2.png)"
   ]
  },
  {
   "cell_type": "code",
   "execution_count": 42,
   "id": "6716acc4",
   "metadata": {},
   "outputs": [],
   "source": [
    "sx = hr['area'].sum().astype(float)\n",
    "sy = hr['price'].sum().astype(float)\n",
    "sxy = (hr['area'] * hr['price']).sum().astype(float)\n",
    "sx2 = (hr['area'] * hr['area']).sum().astype(float)\n",
    "n = hr['area'].size"
   ]
  },
  {
   "cell_type": "markdown",
   "id": "2f241176",
   "metadata": {},
   "source": [
    "### Intercept (A)"
   ]
  },
  {
   "cell_type": "code",
   "execution_count": 43,
   "id": "5b826976",
   "metadata": {},
   "outputs": [],
   "source": [
    "a = (sy*sx2 - sx*sxy) / (n*sx2 - sx*sx)"
   ]
  },
  {
   "cell_type": "code",
   "execution_count": 44,
   "id": "95dc45dd",
   "metadata": {},
   "outputs": [
    {
     "data": {
      "text/plain": [
       "np.float64(2387308.482396426)"
      ]
     },
     "execution_count": 44,
     "metadata": {},
     "output_type": "execute_result"
    }
   ],
   "source": [
    "a"
   ]
  },
  {
   "cell_type": "markdown",
   "id": "5ac32e5e",
   "metadata": {},
   "source": [
    "### Coefficient (B)"
   ]
  },
  {
   "cell_type": "code",
   "execution_count": 45,
   "id": "fc9c570e",
   "metadata": {},
   "outputs": [],
   "source": [
    "b = (n*sxy - sx*sy) / (n*sx2 - sx*sx)"
   ]
  },
  {
   "cell_type": "code",
   "execution_count": 46,
   "id": "8ecde603",
   "metadata": {},
   "outputs": [
    {
     "data": {
      "text/plain": [
       "np.float64(461.97489427278344)"
      ]
     },
     "execution_count": 46,
     "metadata": {},
     "output_type": "execute_result"
    }
   ],
   "source": [
    "b"
   ]
  },
  {
   "cell_type": "code",
   "execution_count": 60,
   "id": "fac3182c",
   "metadata": {},
   "outputs": [
    {
     "data": {
      "image/png": "[encoded data removed]",
      "text/plain": [
       "<Figure size 640x480 with 1 Axes>"
      ]
     },
     "metadata": {},
     "output_type": "display_data"
    }
   ],
   "source": [
    "sns.scatterplot(x='area', y='price', data=hr);\n",
    "plt.plot(hr['area'], hr['area']*b+a, color='r');"
   ]
  },
  {
   "cell_type": "markdown",
   "id": "3d0a35e7",
   "metadata": {},
   "source": [
    "## Using SKLearn"
   ]
  },
  {
   "cell_type": "code",
   "execution_count": 48,
   "id": "891a31b7",
   "metadata": {},
   "outputs": [],
   "source": [
    "from sklearn.linear_model import LinearRegression"
   ]
  },
  {
   "cell_type": "markdown",
   "id": "b9af3bed",
   "metadata": {},
   "source": [
    "####  Create a model instance"
   ]
  },
  {
   "cell_type": "code",
   "execution_count": 49,
   "id": "0df94b96",
   "metadata": {},
   "outputs": [],
   "source": [
    "LRModel = LinearRegression()"
   ]
  },
  {
   "cell_type": "markdown",
   "id": "df4491a5",
   "metadata": {},
   "source": [
    "### Fit data using the model"
   ]
  },
  {
   "cell_type": "code",
   "execution_count": 50,
   "id": "9f778b66",
   "metadata": {},
   "outputs": [
    {
     "data": {
      "text/html": [
       "<style>#sk-container-id-2 {\n",
       "  /* Definition of color scheme common for light and dark mode */\n",
       "  --sklearn-color-text: black;\n",
       "  --sklearn-color-line: gray;\n",
       "  /* Definition of color scheme for unfitted estimators */\n",
       "  --sklearn-color-unfitted-level-0: #fff5e6;\n",
       "  --sklearn-color-unfitted-level-1: #f6e4d2;\n",
       "  --sklearn-color-unfitted-level-2: #ffe0b3;\n",
       "  --sklearn-color-unfitted-level-3: chocolate;\n",
       "  /* Definition of color scheme for fitted estimators */\n",
       "  --sklearn-color-fitted-level-0: #f0f8ff;\n",
       "  --sklearn-color-fitted-level-1: #d4ebff;\n",
       "  --sklearn-color-fitted-level-2: #b3dbfd;\n",
       "  --sklearn-color-fitted-level-3: cornflowerblue;\n",
       "\n",
       "  /* Specific color for light theme */\n",
       "  --sklearn-color-text-on-default-background: var(--sg-text-color, var(--theme-code-foreground, var(--jp-content-font-color1, black)));\n",
       "  --sklearn-color-background: var(--sg-background-color, var(--theme-background, var(--jp-layout-color0, white)));\n",
       "  --sklearn-color-border-box: var(--sg-text-color, var(--theme-code-foreground, var(--jp-content-font-color1, black)));\n",
       "  --sklearn-color-icon: #696969;\n",
       "\n",
       "  @media (prefers-color-scheme: dark) {\n",
       "    /* Redefinition of color scheme for dark theme */\n",
       "    --sklearn-color-text-on-default-background: var(--sg-text-color, var(--theme-code-foreground, var(--jp-content-font-color1, white)));\n",
       "    --sklearn-color-background: var(--sg-background-color, var(--theme-background, var(--jp-layout-color0, #111)));\n",
       "    --sklearn-color-border-box: var(--sg-text-color, var(--theme-code-foreground, var(--jp-content-font-color1, white)));\n",
       "    --sklearn-color-icon: #878787;\n",
       "  }\n",
       "}\n",
       "\n",
       "#sk-container-id-2 {\n",
       "  color: var(--sklearn-color-text);\n",
       "}\n",
       "\n",
       "#sk-container-id-2 pre {\n",
       "  padding: 0;\n",
       "}\n",
       "\n",
       "#sk-container-id-2 input.sk-hidden--visually {\n",
       "  border: 0;\n",
       "  clip: rect(1px 1px 1px 1px);\n",
       "  clip: rect(1px, 1px, 1px, 1px);\n",
       "  height: 1px;\n",
       "  margin: -1px;\n",
       "  overflow: hidden;\n",
       "  padding: 0;\n",
       "  position: absolute;\n",
       "  width: 1px;\n",
       "}\n",
       "\n",
       "#sk-container-id-2 div.sk-dashed-wrapped {\n",
       "  border: 1px dashed var(--sklearn-color-line);\n",
       "  margin: 0 0.4em 0.5em 0.4em;\n",
       "  box-sizing: border-box;\n",
       "  padding-bottom: 0.4em;\n",
       "  background-color: var(--sklearn-color-background);\n",
       "}\n",
       "\n",
       "#sk-container-id-2 div.sk-container {\n",
       "  /* jupyter's `normalize.less` sets `[hidden] { display: none; }`\n",
       "     but bootstrap.min.css set `[hidden] { display: none !important; }`\n",
       "     so we also need the `!important` here to be able to override the\n",
       "     default hidden behavior on the sphinx rendered scikit-learn.org.\n",
       "     See: https://github.com/scikit-learn/scikit-learn/issues/21755 */\n",
       "  display: inline-block !important;\n",
       "  position: relative;\n",
       "}\n",
       "\n",
       "#sk-container-id-2 div.sk-text-repr-fallback {\n",
       "  display: none;\n",
       "}\n",
       "\n",
       "div.sk-parallel-item,\n",
       "div.sk-serial,\n",
       "div.sk-item {\n",
       "  /* draw centered vertical line to link estimators */\n",
       "  background-image: linear-gradient(var(--sklearn-color-text-on-default-background), var(--sklearn-color-text-on-default-background));\n",
       "  background-size: 2px 100%;\n",
       "  background-repeat: no-repeat;\n",
       "  background-position: center center;\n",
       "}\n",
       "\n",
       "/* Parallel-specific style estimator block */\n",
       "\n",
       "#sk-container-id-2 div.sk-parallel-item::after {\n",
       "  content: \"\";\n",
       "  width: 100%;\n",
       "  border-bottom: 2px solid var(--sklearn-color-text-on-default-background);\n",
       "  flex-grow: 1;\n",
       "}\n",
       "\n",
       "#sk-container-id-2 div.sk-parallel {\n",
       "  display: flex;\n",
       "  align-items: stretch;\n",
       "  justify-content: center;\n",
       "  background-color: var(--sklearn-color-background);\n",
       "  position: relative;\n",
       "}\n",
       "\n",
       "#sk-container-id-2 div.sk-parallel-item {\n",
       "  display: flex;\n",
       "  flex-direction: column;\n",
       "}\n",
       "\n",
       "#sk-container-id-2 div.sk-parallel-item:first-child::after {\n",
       "  align-self: flex-end;\n",
       "  width: 50%;\n",
       "}\n",
       "\n",
       "#sk-container-id-2 div.sk-parallel-item:last-child::after {\n",
       "  align-self: flex-start;\n",
       "  width: 50%;\n",
       "}\n",
       "\n",
       "#sk-container-id-2 div.sk-parallel-item:only-child::after {\n",
       "  width: 0;\n",
       "}\n",
       "\n",
       "/* Serial-specific style estimator block */\n",
       "\n",
       "#sk-container-id-2 div.sk-serial {\n",
       "  display: flex;\n",
       "  flex-direction: column;\n",
       "  align-items: center;\n",
       "  background-color: var(--sklearn-color-background);\n",
       "  padding-right: 1em;\n",
       "  padding-left: 1em;\n",
       "}\n",
       "\n",
       "\n",
       "/* Toggleable style: style used for estimator/Pipeline/ColumnTransformer box that is\n",
       "clickable and can be expanded/collapsed.\n",
       "- Pipeline and ColumnTransformer use this feature and define the default style\n",
       "- Estimators will overwrite some part of the style using the `sk-estimator` class\n",
       "*/\n",
       "\n",
       "/* Pipeline and ColumnTransformer style (default) */\n",
       "\n",
       "#sk-container-id-2 div.sk-toggleable {\n",
       "  /* Default theme specific background. It is overwritten whether we have a\n",
       "  specific estimator or a Pipeline/ColumnTransformer */\n",
       "  background-color: var(--sklearn-color-background);\n",
       "}\n",
       "\n",
       "/* Toggleable label */\n",
       "#sk-container-id-2 label.sk-toggleable__label {\n",
       "  cursor: pointer;\n",
       "  display: block;\n",
       "  width: 100%;\n",
       "  margin-bottom: 0;\n",
       "  padding: 0.5em;\n",
       "  box-sizing: border-box;\n",
       "  text-align: center;\n",
       "}\n",
       "\n",
       "#sk-container-id-2 label.sk-toggleable__label-arrow:before {\n",
       "  /* Arrow on the left of the label */\n",
       "  content: \"▸\";\n",
       "  float: left;\n",
       "  margin-right: 0.25em;\n",
       "  color: var(--sklearn-color-icon);\n",
       "}\n",
       "\n",
       "#sk-container-id-2 label.sk-toggleable__label-arrow:hover:before {\n",
       "  color: var(--sklearn-color-text);\n",
       "}\n",
       "\n",
       "/* Toggleable content - dropdown */\n",
       "\n",
       "#sk-container-id-2 div.sk-toggleable__content {\n",
       "  max-height: 0;\n",
       "  max-width: 0;\n",
       "  overflow: hidden;\n",
       "  text-align: left;\n",
       "  /* unfitted */\n",
       "  background-color: var(--sklearn-color-unfitted-level-0);\n",
       "}\n",
       "\n",
       "#sk-container-id-2 div.sk-toggleable__content.fitted {\n",
       "  /* fitted */\n",
       "  background-color: var(--sklearn-color-fitted-level-0);\n",
       "}\n",
       "\n",
       "#sk-container-id-2 div.sk-toggleable__content pre {\n",
       "  margin: 0.2em;\n",
       "  border-radius: 0.25em;\n",
       "  color: var(--sklearn-color-text);\n",
       "  /* unfitted */\n",
       "  background-color: var(--sklearn-color-unfitted-level-0);\n",
       "}\n",
       "\n",
       "#sk-container-id-2 div.sk-toggleable__content.fitted pre {\n",
       "  /* unfitted */\n",
       "  background-color: var(--sklearn-color-fitted-level-0);\n",
       "}\n",
       "\n",
       "#sk-container-id-2 input.sk-toggleable__control:checked~div.sk-toggleable__content {\n",
       "  /* Expand drop-down */\n",
       "  max-height: 200px;\n",
       "  max-width: 100%;\n",
       "  overflow: auto;\n",
       "}\n",
       "\n",
       "#sk-container-id-2 input.sk-toggleable__control:checked~label.sk-toggleable__label-arrow:before {\n",
       "  content: \"▾\";\n",
       "}\n",
       "\n",
       "/* Pipeline/ColumnTransformer-specific style */\n",
       "\n",
       "#sk-container-id-2 div.sk-label input.sk-toggleable__control:checked~label.sk-toggleable__label {\n",
       "  color: var(--sklearn-color-text);\n",
       "  background-color: var(--sklearn-color-unfitted-level-2);\n",
       "}\n",
       "\n",
       "#sk-container-id-2 div.sk-label.fitted input.sk-toggleable__control:checked~label.sk-toggleable__label {\n",
       "  background-color: var(--sklearn-color-fitted-level-2);\n",
       "}\n",
       "\n",
       "/* Estimator-specific style */\n",
       "\n",
       "/* Colorize estimator box */\n",
       "#sk-container-id-2 div.sk-estimator input.sk-toggleable__control:checked~label.sk-toggleable__label {\n",
       "  /* unfitted */\n",
       "  background-color: var(--sklearn-color-unfitted-level-2);\n",
       "}\n",
       "\n",
       "#sk-container-id-2 div.sk-estimator.fitted input.sk-toggleable__control:checked~label.sk-toggleable__label {\n",
       "  /* fitted */\n",
       "  background-color: var(--sklearn-color-fitted-level-2);\n",
       "}\n",
       "\n",
       "#sk-container-id-2 div.sk-label label.sk-toggleable__label,\n",
       "#sk-container-id-2 div.sk-label label {\n",
       "  /* The background is the default theme color */\n",
       "  color: var(--sklearn-color-text-on-default-background);\n",
       "}\n",
       "\n",
       "/* On hover, darken the color of the background */\n",
       "#sk-container-id-2 div.sk-label:hover label.sk-toggleable__label {\n",
       "  color: var(--sklearn-color-text);\n",
       "  background-color: var(--sklearn-color-unfitted-level-2);\n",
       "}\n",
       "\n",
       "/* Label box, darken color on hover, fitted */\n",
       "#sk-container-id-2 div.sk-label.fitted:hover label.sk-toggleable__label.fitted {\n",
       "  color: var(--sklearn-color-text);\n",
       "  background-color: var(--sklearn-color-fitted-level-2);\n",
       "}\n",
       "\n",
       "/* Estimator label */\n",
       "\n",
       "#sk-container-id-2 div.sk-label label {\n",
       "  font-family: monospace;\n",
       "  font-weight: bold;\n",
       "  display: inline-block;\n",
       "  line-height: 1.2em;\n",
       "}\n",
       "\n",
       "#sk-container-id-2 div.sk-label-container {\n",
       "  text-align: center;\n",
       "}\n",
       "\n",
       "/* Estimator-specific */\n",
       "#sk-container-id-2 div.sk-estimator {\n",
       "  font-family: monospace;\n",
       "  border: 1px dotted var(--sklearn-color-border-box);\n",
       "  border-radius: 0.25em;\n",
       "  box-sizing: border-box;\n",
       "  margin-bottom: 0.5em;\n",
       "  /* unfitted */\n",
       "  background-color: var(--sklearn-color-unfitted-level-0);\n",
       "}\n",
       "\n",
       "#sk-container-id-2 div.sk-estimator.fitted {\n",
       "  /* fitted */\n",
       "  background-color: var(--sklearn-color-fitted-level-0);\n",
       "}\n",
       "\n",
       "/* on hover */\n",
       "#sk-container-id-2 div.sk-estimator:hover {\n",
       "  /* unfitted */\n",
       "  background-color: var(--sklearn-color-unfitted-level-2);\n",
       "}\n",
       "\n",
       "#sk-container-id-2 div.sk-estimator.fitted:hover {\n",
       "  /* fitted */\n",
       "  background-color: var(--sklearn-color-fitted-level-2);\n",
       "}\n",
       "\n",
       "/* Specification for estimator info (e.g. \"i\" and \"?\") */\n",
       "\n",
       "/* Common style for \"i\" and \"?\" */\n",
       "\n",
       ".sk-estimator-doc-link,\n",
       "a:link.sk-estimator-doc-link,\n",
       "a:visited.sk-estimator-doc-link {\n",
       "  float: right;\n",
       "  font-size: smaller;\n",
       "  line-height: 1em;\n",
       "  font-family: monospace;\n",
       "  background-color: var(--sklearn-color-background);\n",
       "  border-radius: 1em;\n",
       "  height: 1em;\n",
       "  width: 1em;\n",
       "  text-decoration: none !important;\n",
       "  margin-left: 1ex;\n",
       "  /* unfitted */\n",
       "  border: var(--sklearn-color-unfitted-level-1) 1pt solid;\n",
       "  color: var(--sklearn-color-unfitted-level-1);\n",
       "}\n",
       "\n",
       ".sk-estimator-doc-link.fitted,\n",
       "a:link.sk-estimator-doc-link.fitted,\n",
       "a:visited.sk-estimator-doc-link.fitted {\n",
       "  /* fitted */\n",
       "  border: var(--sklearn-color-fitted-level-1) 1pt solid;\n",
       "  color: var(--sklearn-color-fitted-level-1);\n",
       "}\n",
       "\n",
       "/* On hover */\n",
       "div.sk-estimator:hover .sk-estimator-doc-link:hover,\n",
       ".sk-estimator-doc-link:hover,\n",
       "div.sk-label-container:hover .sk-estimator-doc-link:hover,\n",
       ".sk-estimator-doc-link:hover {\n",
       "  /* unfitted */\n",
       "  background-color: var(--sklearn-color-unfitted-level-3);\n",
       "  color: var(--sklearn-color-background);\n",
       "  text-decoration: none;\n",
       "}\n",
       "\n",
       "div.sk-estimator.fitted:hover .sk-estimator-doc-link.fitted:hover,\n",
       ".sk-estimator-doc-link.fitted:hover,\n",
       "div.sk-label-container:hover .sk-estimator-doc-link.fitted:hover,\n",
       ".sk-estimator-doc-link.fitted:hover {\n",
       "  /* fitted */\n",
       "  background-color: var(--sklearn-color-fitted-level-3);\n",
       "  color: var(--sklearn-color-background);\n",
       "  text-decoration: none;\n",
       "}\n",
       "\n",
       "/* Span, style for the box shown on hovering the info icon */\n",
       ".sk-estimator-doc-link span {\n",
       "  display: none;\n",
       "  z-index: 9999;\n",
       "  position: relative;\n",
       "  font-weight: normal;\n",
       "  right: .2ex;\n",
       "  padding: .5ex;\n",
       "  margin: .5ex;\n",
       "  width: min-content;\n",
       "  min-width: 20ex;\n",
       "  max-width: 50ex;\n",
       "  color: var(--sklearn-color-text);\n",
       "  box-shadow: 2pt 2pt 4pt #999;\n",
       "  /* unfitted */\n",
       "  background: var(--sklearn-color-unfitted-level-0);\n",
       "  border: .5pt solid var(--sklearn-color-unfitted-level-3);\n",
       "}\n",
       "\n",
       ".sk-estimator-doc-link.fitted span {\n",
       "  /* fitted */\n",
       "  background: var(--sklearn-color-fitted-level-0);\n",
       "  border: var(--sklearn-color-fitted-level-3);\n",
       "}\n",
       "\n",
       ".sk-estimator-doc-link:hover span {\n",
       "  display: block;\n",
       "}\n",
       "\n",
       "/* \"?\"-specific style due to the `<a>` HTML tag */\n",
       "\n",
       "#sk-container-id-2 a.estimator_doc_link {\n",
       "  float: right;\n",
       "  font-size: 1rem;\n",
       "  line-height: 1em;\n",
       "  font-family: monospace;\n",
       "  background-color: var(--sklearn-color-background);\n",
       "  border-radius: 1rem;\n",
       "  height: 1rem;\n",
       "  width: 1rem;\n",
       "  text-decoration: none;\n",
       "  /* unfitted */\n",
       "  color: var(--sklearn-color-unfitted-level-1);\n",
       "  border: var(--sklearn-color-unfitted-level-1) 1pt solid;\n",
       "}\n",
       "\n",
       "#sk-container-id-2 a.estimator_doc_link.fitted {\n",
       "  /* fitted */\n",
       "  border: var(--sklearn-color-fitted-level-1) 1pt solid;\n",
       "  color: var(--sklearn-color-fitted-level-1);\n",
       "}\n",
       "\n",
       "/* On hover */\n",
       "#sk-container-id-2 a.estimator_doc_link:hover {\n",
       "  /* unfitted */\n",
       "  background-color: var(--sklearn-color-unfitted-level-3);\n",
       "  color: var(--sklearn-color-background);\n",
       "  text-decoration: none;\n",
       "}\n",
       "\n",
       "#sk-container-id-2 a.estimator_doc_link.fitted:hover {\n",
       "  /* fitted */\n",
       "  background-color: var(--sklearn-color-fitted-level-3);\n",
       "}\n",
       "</style><div id=\"sk-container-id-2\" class=\"sk-top-container\"><div class=\"sk-text-repr-fallback\"><pre>LinearRegression()</pre><b>In a Jupyter environment, please rerun this cell to show the HTML representation or trust the notebook. <br />On GitHub, the HTML representation is unable to render, please try loading this page with nbviewer.org.</b></div><div class=\"sk-container\" hidden><div class=\"sk-item\"><div class=\"sk-estimator fitted sk-toggleable\"><input class=\"sk-toggleable__control sk-hidden--visually\" id=\"sk-estimator-id-2\" type=\"checkbox\" checked><label for=\"sk-estimator-id-2\" class=\"sk-toggleable__label fitted sk-toggleable__label-arrow fitted\">&nbsp;&nbsp;LinearRegression<a class=\"sk-estimator-doc-link fitted\" rel=\"noreferrer\" target=\"_blank\" href=\"https://scikit-learn.org/1.5/modules/generated/sklearn.linear_model.LinearRegression.html\">?<span>Documentation for LinearRegression</span></a><span class=\"sk-estimator-doc-link fitted\">i<span>Fitted</span></span></label><div class=\"sk-toggleable__content fitted\"><pre>LinearRegression()</pre></div> </div></div></div></div>"
      ],
      "text/plain": [
       "LinearRegression()"
      ]
     },
     "execution_count": 50,
     "metadata": {},
     "output_type": "execute_result"
    }
   ],
   "source": [
    "LRModel.fit(hr[['area']], hr['price'])"
   ]
  },
  {
   "cell_type": "markdown",
   "id": "8d0e62b6",
   "metadata": {},
   "source": [
    "### Show the coefficients"
   ]
  },
  {
   "cell_type": "code",
   "execution_count": 51,
   "id": "e41c95a8",
   "metadata": {},
   "outputs": [
    {
     "data": {
      "text/plain": [
       "array([461.97489427])"
      ]
     },
     "execution_count": 51,
     "metadata": {},
     "output_type": "execute_result"
    }
   ],
   "source": [
    "LRModel.coef_"
   ]
  },
  {
   "cell_type": "code",
   "execution_count": 52,
   "id": "0f06167c",
   "metadata": {},
   "outputs": [
    {
     "data": {
      "text/plain": [
       "np.float64(2387308.4823964303)"
      ]
     },
     "execution_count": 52,
     "metadata": {},
     "output_type": "execute_result"
    }
   ],
   "source": [
    "LRModel.intercept_"
   ]
  },
  {
   "cell_type": "markdown",
   "id": "3620803f",
   "metadata": {},
   "source": [
    "## Same values obtained as before"
   ]
  },
  {
   "cell_type": "markdown",
   "id": "303f43c0",
   "metadata": {},
   "source": [
    "### How do we use this model? We can use it to predict prices of unknown houses"
   ]
  },
  {
   "cell_type": "code",
   "execution_count": 53,
   "id": "ac746307",
   "metadata": {},
   "outputs": [
    {
     "name": "stderr",
     "output_type": "stream",
     "text": [
      "d:\\Intro_to_AI-BKIAC-main\\.conda\\Lib\\site-packages\\sklearn\\base.py:493: UserWarning: X does not have valid feature names, but LinearRegression was fitted with feature names\n",
      "  warnings.warn(\n"
     ]
    },
    {
     "data": {
      "text/plain": [
       "array([2849283.37666921])"
      ]
     },
     "execution_count": 53,
     "metadata": {},
     "output_type": "execute_result"
    }
   ],
   "source": [
    "LRModel.predict([[1000]])"
   ]
  },
  {
   "cell_type": "markdown",
   "id": "299ec1d5",
   "metadata": {},
   "source": [
    "### We have predicted the price of a 1000 square feet house."
   ]
  },
  {
   "cell_type": "markdown",
   "id": "ddd2bde2",
   "metadata": {},
   "source": [
    "# How to evaluate our model?\n",
    "- **Split data into training and test data**\n",
    "- **Train model using training data**\n",
    "- **Evaluate using test data**"
   ]
  },
  {
   "cell_type": "code",
   "execution_count": 54,
   "id": "893eee83",
   "metadata": {},
   "outputs": [],
   "source": [
    "from sklearn.model_selection import train_test_split"
   ]
  },
  {
   "cell_type": "markdown",
   "id": "ef8cb747",
   "metadata": {},
   "source": [
    "### Copy the dataframe into X, but drop the price column"
   ]
  },
  {
   "cell_type": "code",
   "execution_count": null,
   "id": "28d79aff",
   "metadata": {},
   "outputs": [],
   "source": []
  },
  {
   "cell_type": "code",
   "execution_count": null,
   "id": "42748d42",
   "metadata": {},
   "outputs": [],
   "source": []
  },
  {
   "cell_type": "markdown",
   "id": "4983d727",
   "metadata": {},
   "source": [
    "### Copy only the price column in y"
   ]
  },
  {
   "cell_type": "code",
   "execution_count": null,
   "id": "3a4f0e09",
   "metadata": {},
   "outputs": [],
   "source": []
  },
  {
   "cell_type": "code",
   "execution_count": null,
   "id": "4f33e696",
   "metadata": {},
   "outputs": [],
   "source": []
  },
  {
   "cell_type": "markdown",
   "id": "777f0373",
   "metadata": {},
   "source": [
    "### Split the data into training and test sets\n"
   ]
  },
  {
   "cell_type": "code",
   "execution_count": null,
   "id": "dda9473b",
   "metadata": {},
   "outputs": [],
   "source": []
  },
  {
   "cell_type": "code",
   "execution_count": 55,
   "id": "bed9e5e3",
   "metadata": {},
   "outputs": [
    {
     "ename": "NameError",
     "evalue": "name 'X' is not defined",
     "output_type": "error",
     "traceback": [
      "\u001b[1;31m---------------------------------------------------------------------------\u001b[0m",
      "\u001b[1;31mNameError\u001b[0m                                 Traceback (most recent call last)",
      "Cell \u001b[1;32mIn[55], line 1\u001b[0m\n\u001b[1;32m----> 1\u001b[0m \u001b[43mX\u001b[49m\u001b[38;5;241m.\u001b[39mshape\n",
      "\u001b[1;31mNameError\u001b[0m: name 'X' is not defined"
     ]
    }
   ],
   "source": [
    "X.shape"
   ]
  },
  {
   "cell_type": "code",
   "execution_count": null,
   "id": "fb7672ae",
   "metadata": {},
   "outputs": [],
   "source": [
    "X_train.shape"
   ]
  },
  {
   "cell_type": "code",
   "execution_count": null,
   "id": "a55c9d73",
   "metadata": {},
   "outputs": [],
   "source": [
    "y_train.shape"
   ]
  },
  {
   "cell_type": "markdown",
   "id": "283fb0a4",
   "metadata": {},
   "source": [
    "### Fit the model again, only use 'area' from X"
   ]
  },
  {
   "cell_type": "code",
   "execution_count": null,
   "id": "75412bc0",
   "metadata": {},
   "outputs": [],
   "source": []
  },
  {
   "cell_type": "code",
   "execution_count": null,
   "id": "a2dfc0fb",
   "metadata": {},
   "outputs": [],
   "source": [
    "LRModel.coef_"
   ]
  },
  {
   "cell_type": "code",
   "execution_count": null,
   "id": "ab4ccf52",
   "metadata": {},
   "outputs": [],
   "source": [
    "LRModel.intercept_"
   ]
  },
  {
   "cell_type": "markdown",
   "id": "b7083717",
   "metadata": {},
   "source": [
    "### Make predictions using the model on X_test"
   ]
  },
  {
   "cell_type": "code",
   "execution_count": null,
   "id": "3469b526",
   "metadata": {},
   "outputs": [],
   "source": []
  },
  {
   "cell_type": "markdown",
   "id": "416936a7",
   "metadata": {},
   "source": [
    "### Visulize both true and predicted y values on the test set"
   ]
  },
  {
   "cell_type": "code",
   "execution_count": null,
   "id": "b805123f",
   "metadata": {},
   "outputs": [],
   "source": [
    "plt.plot(X_test['area'], ypred, color='r');\n",
    "plt.scatter(X_test['area'], y_test);"
   ]
  },
  {
   "cell_type": "markdown",
   "id": "53216d0e",
   "metadata": {},
   "source": [
    "## Evaluating our model"
   ]
  },
  {
   "cell_type": "markdown",
   "id": "7bc14b3a",
   "metadata": {},
   "source": [
    "### We define two helpful functions"
   ]
  },
  {
   "cell_type": "code",
   "execution_count": null,
   "id": "2b5904a6",
   "metadata": {},
   "outputs": [],
   "source": [
    "from sklearn.metrics import mean_absolute_error, mean_squared_error, confusion_matrix, r2_score"
   ]
  },
  {
   "cell_type": "code",
   "execution_count": null,
   "id": "ab4ede6e",
   "metadata": {},
   "outputs": [],
   "source": [
    "def eval(model, X_train, y_train, X_test, y_test):\n",
    "    print(\"The training score is,\", model.score(X_train, y_train), end='\\n')\n",
    "    print(\"The testing score is,\", model.score(X_test, y_test))"
   ]
  },
  {
   "cell_type": "code",
   "execution_count": null,
   "id": "d11041a9",
   "metadata": {},
   "outputs": [],
   "source": [
    "def metric_score(y_test, ypred):\n",
    "    print(\"The mean absolute error is: \", mean_absolute_error(y_test, ypred))\n",
    "    print(\"The mean squared error is: \", mean_squared_error(y_test, ypred))\n",
    "    print(\"The R2 score is: \", r2_score(y_test, ypred)) "
   ]
  },
  {
   "cell_type": "markdown",
   "id": "e1f5bdf6",
   "metadata": {},
   "source": [
    "#### Use the functions now"
   ]
  },
  {
   "cell_type": "code",
   "execution_count": null,
   "id": "f95a6d0c",
   "metadata": {},
   "outputs": [],
   "source": [
    "eval(LRModel, X_train[['area']], y_train, X_test[['area']], y_test)"
   ]
  },
  {
   "cell_type": "code",
   "execution_count": null,
   "id": "69b524b7",
   "metadata": {},
   "outputs": [],
   "source": [
    "metric_score(y_test, ypred)"
   ]
  },
  {
   "cell_type": "markdown",
   "id": "180ac9f6",
   "metadata": {},
   "source": [
    "## Interpretation of R-Squared\n",
    "The most common interpretation of r-squared is how well the regression model explains observed data. For example, an r-squared of 60% reveals that 60% of the variability observed in the target variable is explained by the regression model. Generally, a higher r-squared indicates more variability is explained by the model."
   ]
  },
  {
   "cell_type": "markdown",
   "id": "fdb14c15",
   "metadata": {},
   "source": [
    "# Using multiple features: Multiple Regresssion"
   ]
  },
  {
   "cell_type": "markdown",
   "id": "1dd0d7c4",
   "metadata": {},
   "source": [
    "# More exploratory data anlaysis"
   ]
  },
  {
   "cell_type": "markdown",
   "id": "42c94ec1",
   "metadata": {},
   "source": [
    "## # of bedrooms vs price: boxplot"
   ]
  },
  {
   "cell_type": "markdown",
   "id": "c4bdb291",
   "metadata": {},
   "source": [
    "#### Create a boxplot, showing relation between number of bedrooms and the price"
   ]
  },
  {
   "cell_type": "code",
   "execution_count": null,
   "id": "80c40f6d",
   "metadata": {},
   "outputs": [],
   "source": []
  },
  {
   "cell_type": "markdown",
   "id": "67d4db98",
   "metadata": {},
   "source": [
    "Houses with 4 to 5 bedrooms are the most expensive."
   ]
  },
  {
   "cell_type": "markdown",
   "id": "a0a4eb56",
   "metadata": {},
   "source": [
    "## parking vs price: boxplot"
   ]
  },
  {
   "cell_type": "markdown",
   "id": "aa4f26d6",
   "metadata": {},
   "source": [
    "#### Create a boxplot showing relation between parking status and price"
   ]
  },
  {
   "cell_type": "code",
   "execution_count": null,
   "id": "66b57b8a",
   "metadata": {},
   "outputs": [],
   "source": []
  },
  {
   "cell_type": "markdown",
   "id": "18435803",
   "metadata": {},
   "source": [
    "Houses with 2 parking spots are the most expensive."
   ]
  },
  {
   "cell_type": "markdown",
   "id": "d20baa8d",
   "metadata": {},
   "source": [
    "## Furnishing vs price: violin plot"
   ]
  },
  {
   "cell_type": "code",
   "execution_count": null,
   "id": "1c3e1ec3",
   "metadata": {},
   "outputs": [],
   "source": []
  },
  {
   "cell_type": "markdown",
   "id": "407c3632",
   "metadata": {},
   "source": [
    "Unfurnished houses are the most economical."
   ]
  },
  {
   "cell_type": "markdown",
   "id": "b211bc66",
   "metadata": {},
   "source": [
    "## Correlation between 2 attributes"
   ]
  },
  {
   "cell_type": "code",
   "execution_count": null,
   "id": "07b6e55b",
   "metadata": {},
   "outputs": [],
   "source": []
  },
  {
   "cell_type": "markdown",
   "id": "686d3a6a",
   "metadata": {},
   "source": [
    "### Area, bathrooms, stories have great impact on the price"
   ]
  },
  {
   "cell_type": "markdown",
   "id": "0c3ed314",
   "metadata": {},
   "source": [
    "## View the datatypes in our dataset"
   ]
  },
  {
   "cell_type": "code",
   "execution_count": null,
   "id": "a98c0a73",
   "metadata": {},
   "outputs": [],
   "source": []
  },
  {
   "cell_type": "code",
   "execution_count": null,
   "id": "1a158eb4",
   "metadata": {},
   "outputs": [],
   "source": [
    "hr.head(5)"
   ]
  },
  {
   "cell_type": "markdown",
   "id": "e1fb91d8",
   "metadata": {},
   "source": [
    "#### We need to turn the objects into numeric values"
   ]
  },
  {
   "cell_type": "markdown",
   "id": "f13ee3e2",
   "metadata": {},
   "source": [
    "### Let us first create a task, we want to predict the price of this house"
   ]
  },
  {
   "cell_type": "code",
   "execution_count": null,
   "id": "6b0f9cc9",
   "metadata": {},
   "outputs": [],
   "source": [
    "task = [7000, 2, 2, 2, 'no', 'yes', 'no', 'no', 'yes', 1, 'furnished', 'mohakhali']"
   ]
  },
  {
   "cell_type": "code",
   "execution_count": null,
   "id": "24e343ed",
   "metadata": {},
   "outputs": [],
   "source": [
    "hr2 = pd.read_csv('housing3.csv')"
   ]
  },
  {
   "cell_type": "code",
   "execution_count": null,
   "id": "d6ffb4e6",
   "metadata": {},
   "outputs": [],
   "source": [
    "hr2.columns"
   ]
  },
  {
   "cell_type": "code",
   "execution_count": null,
   "id": "02662204",
   "metadata": {},
   "outputs": [],
   "source": [
    "hr2.columns[1:]"
   ]
  },
  {
   "cell_type": "code",
   "execution_count": null,
   "id": "4e448bf4",
   "metadata": {},
   "outputs": [],
   "source": [
    "taskdf = pd.DataFrame([task], columns=hr2.columns[1:])"
   ]
  },
  {
   "cell_type": "code",
   "execution_count": null,
   "id": "0b5a529a",
   "metadata": {},
   "outputs": [],
   "source": [
    "taskdf"
   ]
  },
  {
   "cell_type": "markdown",
   "id": "4d45dfbe",
   "metadata": {},
   "source": [
    "# How to use categorical features?"
   ]
  },
  {
   "cell_type": "markdown",
   "id": "4241e4aa",
   "metadata": {},
   "source": [
    "## We can label them using numbers"
   ]
  },
  {
   "cell_type": "code",
   "execution_count": null,
   "id": "70e593d9",
   "metadata": {},
   "outputs": [],
   "source": [
    "from sklearn.preprocessing import LabelEncoder, OneHotEncoder"
   ]
  },
  {
   "cell_type": "markdown",
   "id": "9213b4dc",
   "metadata": {},
   "source": [
    " ####  An example first"
   ]
  },
  {
   "cell_type": "code",
   "execution_count": null,
   "id": "2d2a873d",
   "metadata": {},
   "outputs": [],
   "source": [
    "hr['furnishingstatus'].unique()"
   ]
  },
  {
   "cell_type": "markdown",
   "id": "1afd803f",
   "metadata": {},
   "source": [
    "#### Encode the column"
   ]
  },
  {
   "cell_type": "code",
   "execution_count": null,
   "id": "a864bc38",
   "metadata": {},
   "outputs": [],
   "source": [
    "lb = LabelEncoder()\n",
    "lb.fit_transform(hr['furnishingstatus'])[:10]"
   ]
  },
  {
   "cell_type": "code",
   "execution_count": null,
   "id": "6ff76928",
   "metadata": {},
   "outputs": [],
   "source": [
    "hr['furnishingstatus'].head(10)"
   ]
  },
  {
   "cell_type": "markdown",
   "id": "d3f0eff1",
   "metadata": {},
   "source": [
    "### furnished -> 0\n",
    "### semi-furnished -> 1\n",
    "### furnished -> 2"
   ]
  },
  {
   "cell_type": "markdown",
   "id": "a6e69102",
   "metadata": {},
   "source": [
    "#### How do we encode all such columns?"
   ]
  },
  {
   "cell_type": "markdown",
   "id": "fe0b05ee",
   "metadata": {},
   "source": [
    "#### We will use a loop"
   ]
  },
  {
   "cell_type": "code",
   "execution_count": null,
   "id": "18b10fe2",
   "metadata": {},
   "outputs": [],
   "source": [
    "lb_encoders = {}"
   ]
  },
  {
   "cell_type": "code",
   "execution_count": null,
   "id": "a5f60ac4",
   "metadata": {},
   "outputs": [],
   "source": [
    "label_columns = ['mainroad', 'guestroom', 'basement', 'hotwaterheating', 'airconditioning', 'furnishingstatus']"
   ]
  },
  {
   "cell_type": "code",
   "execution_count": null,
   "id": "45068059",
   "metadata": {},
   "outputs": [],
   "source": [
    "hr[label_columns].head(5)"
   ]
  },
  {
   "cell_type": "code",
   "execution_count": null,
   "id": "4ff21b42",
   "metadata": {},
   "outputs": [],
   "source": [
    "for i in label_columns:\n",
    "    pass"
   ]
  },
  {
   "cell_type": "code",
   "execution_count": null,
   "id": "66ce8e68",
   "metadata": {},
   "outputs": [],
   "source": [
    "hr.head(5)"
   ]
  },
  {
   "cell_type": "markdown",
   "id": "7b85a9bb",
   "metadata": {},
   "source": [
    "### We also need to transform the input data that will be used for prediction"
   ]
  },
  {
   "cell_type": "code",
   "execution_count": null,
   "id": "bbf10307",
   "metadata": {},
   "outputs": [],
   "source": [
    "taskdf"
   ]
  },
  {
   "cell_type": "code",
   "execution_count": null,
   "id": "7a2d82a8",
   "metadata": {},
   "outputs": [],
   "source": [
    "for i in label_columns:\n",
    "    pass"
   ]
  },
  {
   "cell_type": "code",
   "execution_count": null,
   "id": "8daf8f46",
   "metadata": {},
   "outputs": [],
   "source": [
    "taskdf"
   ]
  },
  {
   "cell_type": "markdown",
   "id": "d5c3cc6d",
   "metadata": {},
   "source": [
    "## But some categories have to be one hot encoded"
   ]
  },
  {
   "cell_type": "code",
   "execution_count": null,
   "id": "0232122e",
   "metadata": {},
   "outputs": [],
   "source": [
    "hr['locality'].unique()"
   ]
  },
  {
   "cell_type": "markdown",
   "id": "50fd3607",
   "metadata": {},
   "source": [
    " Assigning numerical values to these locations does not make sense\n",
    "## We need to use one hot encoding instead"
   ]
  },
  {
   "cell_type": "code",
   "execution_count": null,
   "id": "dfe22213",
   "metadata": {},
   "outputs": [],
   "source": [
    "ohc = OneHotEncoder(drop='first')"
   ]
  },
  {
   "cell_type": "code",
   "execution_count": null,
   "id": "ebc40273",
   "metadata": {},
   "outputs": [],
   "source": [
    "# ohc = pd.get_dummies(hr['locality'], drop_first=True)"
   ]
  },
  {
   "cell_type": "markdown",
   "id": "3cf6b00b",
   "metadata": {},
   "source": [
    "#### Use fit transform now"
   ]
  },
  {
   "cell_type": "code",
   "execution_count": null,
   "id": "dcbf935f",
   "metadata": {},
   "outputs": [],
   "source": []
  },
  {
   "cell_type": "code",
   "execution_count": null,
   "id": "b2b4cae5",
   "metadata": {},
   "outputs": [],
   "source": [
    "tmp.toarray()"
   ]
  },
  {
   "cell_type": "markdown",
   "id": "1e0859d2",
   "metadata": {},
   "source": [
    "### We need to insert it into our \"hr\" dataframe"
   ]
  },
  {
   "cell_type": "code",
   "execution_count": null,
   "id": "2f449c8e",
   "metadata": {},
   "outputs": [],
   "source": [
    "ohc.categories_[0]"
   ]
  },
  {
   "cell_type": "code",
   "execution_count": null,
   "id": "0c96c9b8",
   "metadata": {},
   "outputs": [],
   "source": []
  },
  {
   "cell_type": "code",
   "execution_count": null,
   "id": "298aaf5b",
   "metadata": {},
   "outputs": [],
   "source": [
    "hr.head()"
   ]
  },
  {
   "cell_type": "code",
   "execution_count": null,
   "id": "710281d2",
   "metadata": {},
   "outputs": [],
   "source": [
    "# hr = pd.concat([hr, ohc], axis=1)"
   ]
  },
  {
   "cell_type": "code",
   "execution_count": null,
   "id": "d7fcb24e",
   "metadata": {},
   "outputs": [],
   "source": [
    "ohc.categories_"
   ]
  },
  {
   "cell_type": "markdown",
   "id": "a77af1ad",
   "metadata": {},
   "source": [
    "**Drop locality as it is no longer needed**"
   ]
  },
  {
   "cell_type": "code",
   "execution_count": null,
   "id": "5bb50943",
   "metadata": {},
   "outputs": [],
   "source": []
  },
  {
   "cell_type": "code",
   "execution_count": null,
   "id": "dcc99fe8",
   "metadata": {},
   "outputs": [],
   "source": [
    "hr.head(5)"
   ]
  },
  {
   "cell_type": "markdown",
   "id": "58d342bb",
   "metadata": {},
   "source": [
    "#### We need to transform \"task\" too"
   ]
  },
  {
   "cell_type": "code",
   "execution_count": null,
   "id": "e9923745",
   "metadata": {},
   "outputs": [],
   "source": [
    "taskdf['locality']"
   ]
  },
  {
   "cell_type": "code",
   "execution_count": null,
   "id": "0ebf6389",
   "metadata": {},
   "outputs": [],
   "source": []
  },
  {
   "cell_type": "code",
   "execution_count": null,
   "id": "6eae854f",
   "metadata": {},
   "outputs": [],
   "source": [
    "taskdf"
   ]
  },
  {
   "cell_type": "markdown",
   "id": "792934e1",
   "metadata": {},
   "source": [
    "### Drop locality from taskdf"
   ]
  },
  {
   "cell_type": "code",
   "execution_count": null,
   "id": "f6bddafe",
   "metadata": {},
   "outputs": [],
   "source": []
  },
  {
   "cell_type": "code",
   "execution_count": null,
   "id": "e805fa3e",
   "metadata": {},
   "outputs": [],
   "source": [
    "taskdf"
   ]
  },
  {
   "cell_type": "markdown",
   "id": "75dc6fb3",
   "metadata": {},
   "source": [
    "### We can now start training"
   ]
  },
  {
   "cell_type": "markdown",
   "id": "e8d3dfd3",
   "metadata": {},
   "source": [
    "#### Split the data just like before"
   ]
  },
  {
   "cell_type": "code",
   "execution_count": null,
   "id": "d9c9b6a9",
   "metadata": {},
   "outputs": [],
   "source": []
  },
  {
   "cell_type": "code",
   "execution_count": null,
   "id": "7d191224",
   "metadata": {},
   "outputs": [],
   "source": []
  },
  {
   "cell_type": "code",
   "execution_count": null,
   "id": "5b4e321b",
   "metadata": {},
   "outputs": [],
   "source": []
  },
  {
   "cell_type": "markdown",
   "id": "8b6516bb",
   "metadata": {},
   "source": [
    "#### Create a new LinearRegression Model instance"
   ]
  },
  {
   "cell_type": "code",
   "execution_count": null,
   "id": "8c39ae1c",
   "metadata": {},
   "outputs": [],
   "source": []
  },
  {
   "cell_type": "markdown",
   "id": "d3c0c3f0",
   "metadata": {},
   "source": [
    "#### Fit the model, but this time use all the features"
   ]
  },
  {
   "cell_type": "code",
   "execution_count": null,
   "id": "f70c658a",
   "metadata": {},
   "outputs": [],
   "source": []
  },
  {
   "cell_type": "code",
   "execution_count": null,
   "id": "5149845e",
   "metadata": {},
   "outputs": [],
   "source": [
    "LRModel2.coef_"
   ]
  },
  {
   "cell_type": "code",
   "execution_count": null,
   "id": "84565fcd",
   "metadata": {},
   "outputs": [],
   "source": [
    "LRModel2.intercept_"
   ]
  },
  {
   "cell_type": "markdown",
   "id": "0e74b407",
   "metadata": {},
   "source": [
    "#### Plot the coefficients of each column (feature)"
   ]
  },
  {
   "cell_type": "code",
   "execution_count": null,
   "id": "cd07beb5",
   "metadata": {},
   "outputs": [],
   "source": [
    "sns.barplot(LRModel2.coef_, X_train.columns)"
   ]
  },
  {
   "cell_type": "markdown",
   "id": "3c0c11c6",
   "metadata": {},
   "source": [
    "#### The coefficients can give us an idea about how each feature is being used"
   ]
  },
  {
   "cell_type": "code",
   "execution_count": null,
   "id": "1d5df98c",
   "metadata": {},
   "outputs": [],
   "source": [
    "LRModel2.coef_.sum()"
   ]
  },
  {
   "cell_type": "markdown",
   "id": "e89e9457",
   "metadata": {},
   "source": [
    "#### Evaluate the model now"
   ]
  },
  {
   "cell_type": "code",
   "execution_count": null,
   "id": "266ef02d",
   "metadata": {},
   "outputs": [],
   "source": [
    "eval(LRModel2, X_train, y_train, X_test, y_test)"
   ]
  },
  {
   "cell_type": "code",
   "execution_count": null,
   "id": "d5952f51",
   "metadata": {},
   "outputs": [],
   "source": [
    "metric_score(y_test, LRModel2.predict(X_test))"
   ]
  },
  {
   "cell_type": "markdown",
   "id": "985860a0",
   "metadata": {},
   "source": [
    "#### Much higher score now"
   ]
  },
  {
   "cell_type": "markdown",
   "id": "1e665414",
   "metadata": {},
   "source": [
    "### We can now also make a prediction for our desired \"task\""
   ]
  },
  {
   "cell_type": "code",
   "execution_count": null,
   "id": "9d97c618",
   "metadata": {},
   "outputs": [],
   "source": [
    "LRModel2.predict(taskdf)"
   ]
  },
  {
   "cell_type": "markdown",
   "id": "95dc56ac",
   "metadata": {},
   "source": [
    "# Regularization"
   ]
  },
  {
   "cell_type": "markdown",
   "id": "e210ad91",
   "metadata": {},
   "source": [
    "## Lasso (L1) Regularization"
   ]
  },
  {
   "cell_type": "code",
   "execution_count": null,
   "id": "d732bb55",
   "metadata": {},
   "outputs": [],
   "source": [
    "from sklearn.linear_model import Lasso"
   ]
  },
  {
   "cell_type": "code",
   "execution_count": null,
   "id": "d7cb9375",
   "metadata": {},
   "outputs": [],
   "source": [
    "LassoModel = Lasso()"
   ]
  },
  {
   "cell_type": "code",
   "execution_count": null,
   "id": "0de5c6fa",
   "metadata": {},
   "outputs": [],
   "source": [
    "LassoModel.fit(X_train, y_train);"
   ]
  },
  {
   "cell_type": "code",
   "execution_count": null,
   "id": "3fdb63af",
   "metadata": {},
   "outputs": [],
   "source": [
    "eval(LassoModel, X_train, y_train, X_test, y_test)"
   ]
  },
  {
   "cell_type": "code",
   "execution_count": null,
   "id": "3821aaae",
   "metadata": {},
   "outputs": [],
   "source": [
    "sns.barplot(LassoModel.coef_, X_train.columns)"
   ]
  },
  {
   "cell_type": "code",
   "execution_count": null,
   "id": "2d5072f3",
   "metadata": {},
   "outputs": [],
   "source": [
    "LassoModel.coef_.sum()"
   ]
  },
  {
   "cell_type": "code",
   "execution_count": null,
   "id": "b13db1eb",
   "metadata": {},
   "outputs": [],
   "source": [
    "metric_score(y_test, LassoModel.predict(X_test))"
   ]
  },
  {
   "cell_type": "code",
   "execution_count": null,
   "id": "79d40ba8",
   "metadata": {},
   "outputs": [],
   "source": [
    "from sklearn.linear_model import Ridge"
   ]
  },
  {
   "cell_type": "code",
   "execution_count": null,
   "id": "129b90bf",
   "metadata": {},
   "outputs": [],
   "source": [
    "RidgeModel = Ridge(alpha=10)"
   ]
  },
  {
   "cell_type": "code",
   "execution_count": null,
   "id": "3a8ccffe",
   "metadata": {},
   "outputs": [],
   "source": [
    "RidgeModel.fit(X_train, y_train)"
   ]
  },
  {
   "cell_type": "code",
   "execution_count": null,
   "id": "8559fcf5",
   "metadata": {},
   "outputs": [],
   "source": [
    "eval(RidgeModel, X_train, y_train, X_test, y_test)"
   ]
  },
  {
   "cell_type": "code",
   "execution_count": null,
   "id": "320299c4",
   "metadata": {},
   "outputs": [],
   "source": [
    "sns.barplot(RidgeModel.coef_, X_train.columns)"
   ]
  },
  {
   "cell_type": "code",
   "execution_count": null,
   "id": "974aaf93",
   "metadata": {},
   "outputs": [],
   "source": [
    "RidgeModel.coef_.sum()"
   ]
  },
  {
   "cell_type": "code",
   "execution_count": null,
   "id": "2d5910b3",
   "metadata": {},
   "outputs": [],
   "source": [
    "metric_score(y_test, RidgeModel.predict(X_test))"
   ]
  },
  {
   "cell_type": "code",
   "execution_count": null,
   "id": "73ec992e",
   "metadata": {},
   "outputs": [],
   "source": [
    "from sklearn.linear_model import ElasticNet"
   ]
  },
  {
   "cell_type": "code",
   "execution_count": null,
   "id": "fc22bef1",
   "metadata": {},
   "outputs": [],
   "source": [
    "ENModel = ElasticNet()"
   ]
  },
  {
   "cell_type": "code",
   "execution_count": null,
   "id": "5783c060",
   "metadata": {},
   "outputs": [],
   "source": [
    "ENModel.fit(X_train, y_train)"
   ]
  },
  {
   "cell_type": "code",
   "execution_count": null,
   "id": "2083f142",
   "metadata": {},
   "outputs": [],
   "source": [
    "eval(ENModel, X_train, y_train, X_test, y_test)"
   ]
  },
  {
   "cell_type": "code",
   "execution_count": null,
   "id": "ae89ef24",
   "metadata": {},
   "outputs": [],
   "source": []
  }
 ],
 "metadata": {
  "kernelspec": {
   "display_name": "Python 3 (ipykernel)",
   "language": "python",
   "name": "python3"
  },
  "language_info": {
   "codemirror_mode": {
    "name": "ipython",
    "version": 3
   },
   "file_extension": ".py",
   "mimetype": "text/x-python",
   "name": "python",
   "nbconvert_exporter": "python",
   "pygments_lexer": "ipython3",
   "version": "3.12.4"
  }
 },
 "nbformat": 4,
 "nbformat_minor": 5
}
