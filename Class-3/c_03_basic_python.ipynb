{
 "cells": [
  {
   "cell_type": "markdown",
   "metadata": {},
   "source": [
    "#### for loop"
   ]
  },
  {
   "cell_type": "code",
   "execution_count": null,
   "metadata": {},
   "outputs": [],
   "source": [
    "# print 5 times your name \n"
   ]
  },
  {
   "cell_type": "code",
   "execution_count": 1,
   "metadata": {},
   "outputs": [
    {
     "name": "stdout",
     "output_type": "stream",
     "text": [
      "kowshic\n",
      "kowshic\n",
      "kowshic\n",
      "kowshic\n",
      "kowshic\n"
     ]
    }
   ],
   "source": [
    "for i in range(5):\n",
    "    print(\"kowshic\")"
   ]
  },
  {
   "cell_type": "code",
   "execution_count": 2,
   "metadata": {},
   "outputs": [
    {
     "name": "stdout",
     "output_type": "stream",
     "text": [
      "0 th time saying kowshic\n",
      "1 th time saying kowshic\n",
      "2 th time saying kowshic\n",
      "3 th time saying kowshic\n",
      "4 th time saying kowshic\n"
     ]
    }
   ],
   "source": [
    "for i in range(5):\n",
    "    print(f\"{i} th time saying kowshic\")"
   ]
  },
  {
   "cell_type": "code",
   "execution_count": 4,
   "metadata": {},
   "outputs": [
    {
     "name": "stdout",
     "output_type": "stream",
     "text": [
      "1 th time saying kowshic\n",
      "2 th time saying kowshic\n",
      "3 th time saying kowshic\n",
      "4 th time saying kowshic\n"
     ]
    }
   ],
   "source": [
    "# print 5 times your name except 1st time\n",
    "for i in range(5):\n",
    "    if i == 0:\n",
    "        continue\n",
    "    print(f\"{i} th time saying kowshic\")"
   ]
  },
  {
   "cell_type": "code",
   "execution_count": 7,
   "metadata": {},
   "outputs": [
    {
     "name": "stdout",
     "output_type": "stream",
     "text": [
      "0 th time saying kowshic\n",
      "1 th time saying kowshic\n",
      "2 th time saying kowshic\n"
     ]
    }
   ],
   "source": [
    "# print 3 times your name except 1st time\n",
    "for i in range(5):\n",
    "    if i == 3:\n",
    "        break\n",
    "    print(f\"{i} th time saying kowshic\")\n"
   ]
  },
  {
   "cell_type": "code",
   "execution_count": 8,
   "metadata": {},
   "outputs": [
    {
     "name": "stdout",
     "output_type": "stream",
     "text": [
      "0 th time saying kowshic\n",
      "1 th time saying kowshic\n",
      "2 th time saying kowshic\n",
      "3 th time saying kowshic\n",
      "4 th time saying kowshic\n"
     ]
    }
   ],
   "source": [
    "for i in range(5):\n",
    "    if i == 2:\n",
    "        # we have not decided what to do\n",
    "        pass\n",
    "    print(f\"{i} th time saying kowshic\")"
   ]
  },
  {
   "cell_type": "code",
   "execution_count": 11,
   "metadata": {},
   "outputs": [
    {
     "name": "stdout",
     "output_type": "stream",
     "text": [
      "1 x 5 = 5\n",
      "2 x 5 = 10\n",
      "3 x 5 = 15\n",
      "4 x 5 = 20\n",
      "5 x 5 = 25\n",
      "6 x 5 = 30\n",
      "7 x 5 = 35\n",
      "8 x 5 = 40\n",
      "9 x 5 = 45\n",
      "10 x 5 = 50\n"
     ]
    }
   ],
   "source": [
    "# now 5 er namota\n",
    "\n",
    "\n",
    "# for i in range(1,11):\n",
    "#     print(f\"{i} x 5 = {i*5}\")"
   ]
  },
  {
   "cell_type": "code",
   "execution_count": 16,
   "metadata": {},
   "outputs": [
    {
     "name": "stdout",
     "output_type": "stream",
     "text": [
      "multiplication table of 1:\n",
      "1 x 1 = 1\n",
      "2 x 1 = 2\n",
      "3 x 1 = 3\n",
      "4 x 1 = 4\n",
      "5 x 1 = 5\n",
      "6 x 1 = 6\n",
      "7 x 1 = 7\n",
      "8 x 1 = 8\n",
      "9 x 1 = 9\n",
      "10 x 1 = 10\n",
      "====================\n",
      "multiplication table of 2:\n",
      "1 x 2 = 2\n",
      "2 x 2 = 4\n",
      "3 x 2 = 6\n",
      "4 x 2 = 8\n",
      "5 x 2 = 10\n",
      "6 x 2 = 12\n",
      "7 x 2 = 14\n",
      "8 x 2 = 16\n",
      "9 x 2 = 18\n",
      "10 x 2 = 20\n",
      "====================\n",
      "multiplication table of 3:\n",
      "1 x 3 = 3\n",
      "2 x 3 = 6\n",
      "3 x 3 = 9\n",
      "4 x 3 = 12\n",
      "5 x 3 = 15\n",
      "6 x 3 = 18\n",
      "7 x 3 = 21\n",
      "8 x 3 = 24\n",
      "9 x 3 = 27\n",
      "10 x 3 = 30\n",
      "====================\n",
      "multiplication table of 4:\n",
      "1 x 4 = 4\n",
      "2 x 4 = 8\n",
      "3 x 4 = 12\n",
      "4 x 4 = 16\n",
      "5 x 4 = 20\n",
      "6 x 4 = 24\n",
      "7 x 4 = 28\n",
      "8 x 4 = 32\n",
      "9 x 4 = 36\n",
      "10 x 4 = 40\n",
      "====================\n",
      "multiplication table of 5:\n",
      "1 x 5 = 5\n",
      "2 x 5 = 10\n",
      "3 x 5 = 15\n",
      "4 x 5 = 20\n",
      "5 x 5 = 25\n",
      "6 x 5 = 30\n",
      "7 x 5 = 35\n",
      "8 x 5 = 40\n",
      "9 x 5 = 45\n",
      "10 x 5 = 50\n",
      "====================\n",
      "multiplication table of 6:\n",
      "1 x 6 = 6\n",
      "2 x 6 = 12\n",
      "3 x 6 = 18\n",
      "4 x 6 = 24\n",
      "5 x 6 = 30\n",
      "6 x 6 = 36\n",
      "7 x 6 = 42\n",
      "8 x 6 = 48\n",
      "9 x 6 = 54\n",
      "10 x 6 = 60\n",
      "====================\n",
      "multiplication table of 7:\n",
      "1 x 7 = 7\n",
      "2 x 7 = 14\n",
      "3 x 7 = 21\n",
      "4 x 7 = 28\n",
      "5 x 7 = 35\n",
      "6 x 7 = 42\n",
      "7 x 7 = 49\n",
      "8 x 7 = 56\n",
      "9 x 7 = 63\n",
      "10 x 7 = 70\n",
      "====================\n",
      "multiplication table of 8:\n",
      "1 x 8 = 8\n",
      "2 x 8 = 16\n",
      "3 x 8 = 24\n",
      "4 x 8 = 32\n",
      "5 x 8 = 40\n",
      "6 x 8 = 48\n",
      "7 x 8 = 56\n",
      "8 x 8 = 64\n",
      "9 x 8 = 72\n",
      "10 x 8 = 80\n",
      "====================\n",
      "multiplication table of 9:\n",
      "1 x 9 = 9\n",
      "2 x 9 = 18\n",
      "3 x 9 = 27\n",
      "4 x 9 = 36\n",
      "5 x 9 = 45\n",
      "6 x 9 = 54\n",
      "7 x 9 = 63\n",
      "8 x 9 = 72\n",
      "9 x 9 = 81\n",
      "10 x 9 = 90\n",
      "====================\n",
      "multiplication table of 10:\n",
      "1 x 10 = 10\n",
      "2 x 10 = 20\n",
      "3 x 10 = 30\n",
      "4 x 10 = 40\n",
      "5 x 10 = 50\n",
      "6 x 10 = 60\n",
      "7 x 10 = 70\n",
      "8 x 10 = 80\n",
      "9 x 10 = 90\n",
      "10 x 10 = 100\n",
      "====================\n"
     ]
    }
   ],
   "source": [
    "# n = 5\n",
    "for n in range(1, 11): \n",
    "    print(f\"multiplication table of {n}:\")\n",
    "    for i in range(1, 11):\n",
    "        m = i * n\n",
    "        print(f\"{i} x {n} = {m}\")\n",
    "    print(\"=\" * 20)"
   ]
  },
  {
   "cell_type": "markdown",
   "metadata": {},
   "source": []
  },
  {
   "cell_type": "markdown",
   "metadata": {},
   "source": [
    "### FILE"
   ]
  },
  {
   "cell_type": "code",
   "execution_count": 23,
   "metadata": {},
   "outputs": [],
   "source": [
    "with open(\"multiplication-table.txt\", 'w') as f:\n",
    "    for n in range(1, 11): \n",
    "        print(f\"multiplication table of {n}:\", file=f)\n",
    "        for i in range(1, 11):\n",
    "            m = i * n\n",
    "            print(f\"{i} x {n} = {m}\", file=f)\n",
    "        print(\"=\" * 20, file=f)"
   ]
  },
  {
   "cell_type": "code",
   "execution_count": 28,
   "metadata": {},
   "outputs": [
    {
     "name": "stdout",
     "output_type": "stream",
     "text": [
      "['multiplication table of 1:\\n', '1 x 1 = 1\\n', '2 x 1 = 2\\n', '3 x 1 = 3\\n', '4 x 1 = 4\\n', '5 x 1 = 5\\n', '6 x 1 = 6\\n', '7 x 1 = 7\\n', '8 x 1 = 8\\n', '9 x 1 = 9\\n', '10 x 1 = 10\\n', '====================\\n', 'multiplication table of 2:\\n', '1 x 2 = 2\\n', '2 x 2 = 4\\n', '3 x 2 = 6\\n', '4 x 2 = 8\\n', '5 x 2 = 10\\n', '6 x 2 = 12\\n', '7 x 2 = 14\\n', '8 x 2 = 16\\n', '9 x 2 = 18\\n', '10 x 2 = 20\\n', '====================\\n', 'multiplication table of 3:\\n', '1 x 3 = 3\\n', '2 x 3 = 6\\n', '3 x 3 = 9\\n', '4 x 3 = 12\\n', '5 x 3 = 15\\n', '6 x 3 = 18\\n', '7 x 3 = 21\\n', '8 x 3 = 24\\n', '9 x 3 = 27\\n', '10 x 3 = 30\\n', '====================\\n', 'multiplication table of 4:\\n', '1 x 4 = 4\\n', '2 x 4 = 8\\n', '3 x 4 = 12\\n', '4 x 4 = 16\\n', '5 x 4 = 20\\n', '6 x 4 = 24\\n', '7 x 4 = 28\\n', '8 x 4 = 32\\n', '9 x 4 = 36\\n', '10 x 4 = 40\\n', '====================\\n', 'multiplication table of 5:\\n', '1 x 5 = 5\\n', '2 x 5 = 10\\n', '3 x 5 = 15\\n', '4 x 5 = 20\\n', '5 x 5 = 25\\n', '6 x 5 = 30\\n', '7 x 5 = 35\\n', '8 x 5 = 40\\n', '9 x 5 = 45\\n', '10 x 5 = 50\\n', '====================\\n', 'multiplication table of 6:\\n', '1 x 6 = 6\\n', '2 x 6 = 12\\n', '3 x 6 = 18\\n', '4 x 6 = 24\\n', '5 x 6 = 30\\n', '6 x 6 = 36\\n', '7 x 6 = 42\\n', '8 x 6 = 48\\n', '9 x 6 = 54\\n', '10 x 6 = 60\\n', '====================\\n', 'multiplication table of 7:\\n', '1 x 7 = 7\\n', '2 x 7 = 14\\n', '3 x 7 = 21\\n', '4 x 7 = 28\\n', '5 x 7 = 35\\n', '6 x 7 = 42\\n', '7 x 7 = 49\\n', '8 x 7 = 56\\n', '9 x 7 = 63\\n', '10 x 7 = 70\\n', '====================\\n', 'multiplication table of 8:\\n', '1 x 8 = 8\\n', '2 x 8 = 16\\n', '3 x 8 = 24\\n', '4 x 8 = 32\\n', '5 x 8 = 40\\n', '6 x 8 = 48\\n', '7 x 8 = 56\\n', '8 x 8 = 64\\n', '9 x 8 = 72\\n', '10 x 8 = 80\\n', '====================\\n', 'multiplication table of 9:\\n', '1 x 9 = 9\\n', '2 x 9 = 18\\n', '3 x 9 = 27\\n', '4 x 9 = 36\\n', '5 x 9 = 45\\n', '6 x 9 = 54\\n', '7 x 9 = 63\\n', '8 x 9 = 72\\n', '9 x 9 = 81\\n', '10 x 9 = 90\\n', '====================\\n', 'multiplication table of 10:\\n', '1 x 10 = 10\\n', '2 x 10 = 20\\n', '3 x 10 = 30\\n', '4 x 10 = 40\\n', '5 x 10 = 50\\n', '6 x 10 = 60\\n', '7 x 10 = 70\\n', '8 x 10 = 80\\n', '9 x 10 = 90\\n', '10 x 10 = 100\\n', '====================\\n']\n",
      "multiplication table of 1:\n",
      "1 x 1 = 1\n",
      "2 x 1 = 2\n",
      "3 x 1 = 3\n",
      "4 x 1 = 4\n",
      "5 x 1 = 5\n",
      "6 x 1 = 6\n",
      "7 x 1 = 7\n",
      "8 x 1 = 8\n",
      "9 x 1 = 9\n",
      "10 x 1 = 10\n",
      "====================\n",
      "multiplication table of 2:\n",
      "1 x 2 = 2\n",
      "2 x 2 = 4\n",
      "3 x 2 = 6\n",
      "4 x 2 = 8\n",
      "5 x 2 = 10\n",
      "6 x 2 = 12\n",
      "7 x 2 = 14\n",
      "8 x 2 = 16\n",
      "9 x 2 = 18\n",
      "10 x 2 = 20\n",
      "====================\n",
      "multiplication table of 3:\n",
      "1 x 3 = 3\n",
      "2 x 3 = 6\n",
      "3 x 3 = 9\n",
      "4 x 3 = 12\n",
      "5 x 3 = 15\n",
      "6 x 3 = 18\n",
      "7 x 3 = 21\n",
      "8 x 3 = 24\n",
      "9 x 3 = 27\n",
      "10 x 3 = 30\n",
      "====================\n",
      "multiplication table of 4:\n",
      "1 x 4 = 4\n",
      "2 x 4 = 8\n",
      "3 x 4 = 12\n",
      "4 x 4 = 16\n",
      "5 x 4 = 20\n",
      "6 x 4 = 24\n",
      "7 x 4 = 28\n",
      "8 x 4 = 32\n",
      "9 x 4 = 36\n",
      "10 x 4 = 40\n",
      "====================\n",
      "multiplication table of 5:\n",
      "1 x 5 = 5\n",
      "2 x 5 = 10\n",
      "3 x 5 = 15\n",
      "4 x 5 = 20\n",
      "5 x 5 = 25\n",
      "6 x 5 = 30\n",
      "7 x 5 = 35\n",
      "8 x 5 = 40\n",
      "9 x 5 = 45\n",
      "10 x 5 = 50\n",
      "====================\n",
      "multiplication table of 6:\n",
      "1 x 6 = 6\n",
      "2 x 6 = 12\n",
      "3 x 6 = 18\n",
      "4 x 6 = 24\n",
      "5 x 6 = 30\n",
      "6 x 6 = 36\n",
      "7 x 6 = 42\n",
      "8 x 6 = 48\n",
      "9 x 6 = 54\n",
      "10 x 6 = 60\n",
      "====================\n",
      "multiplication table of 7:\n",
      "1 x 7 = 7\n",
      "2 x 7 = 14\n",
      "3 x 7 = 21\n",
      "4 x 7 = 28\n",
      "5 x 7 = 35\n",
      "6 x 7 = 42\n",
      "7 x 7 = 49\n",
      "8 x 7 = 56\n",
      "9 x 7 = 63\n",
      "10 x 7 = 70\n",
      "====================\n",
      "multiplication table of 8:\n",
      "1 x 8 = 8\n",
      "2 x 8 = 16\n",
      "3 x 8 = 24\n",
      "4 x 8 = 32\n",
      "5 x 8 = 40\n",
      "6 x 8 = 48\n",
      "7 x 8 = 56\n",
      "8 x 8 = 64\n",
      "9 x 8 = 72\n",
      "10 x 8 = 80\n",
      "====================\n",
      "multiplication table of 9:\n",
      "1 x 9 = 9\n",
      "2 x 9 = 18\n",
      "3 x 9 = 27\n",
      "4 x 9 = 36\n",
      "5 x 9 = 45\n",
      "6 x 9 = 54\n",
      "7 x 9 = 63\n",
      "8 x 9 = 72\n",
      "9 x 9 = 81\n",
      "10 x 9 = 90\n",
      "====================\n",
      "multiplication table of 10:\n",
      "1 x 10 = 10\n",
      "2 x 10 = 20\n",
      "3 x 10 = 30\n",
      "4 x 10 = 40\n",
      "5 x 10 = 50\n",
      "6 x 10 = 60\n",
      "7 x 10 = 70\n",
      "8 x 10 = 80\n",
      "9 x 10 = 90\n",
      "10 x 10 = 100\n",
      "====================\n"
     ]
    }
   ],
   "source": [
    "with open(\"multiplication-table.txt\", 'r') as f:\n",
    "    # content = f.read()\n",
    "    content = f.readlines()\n",
    "    print(content)\n",
    "    for line in content:\n",
    "        print(line, end='')"
   ]
  },
  {
   "cell_type": "markdown",
   "metadata": {},
   "source": [
    "#### FUNCTION"
   ]
  },
  {
   "cell_type": "code",
   "execution_count": 29,
   "metadata": {},
   "outputs": [
    {
     "name": "stdout",
     "output_type": "stream",
     "text": [
      "multiplication table of 1:\n",
      "1 x 1 = 1\n",
      "2 x 1 = 2\n",
      "3 x 1 = 3\n",
      "4 x 1 = 4\n",
      "5 x 1 = 5\n",
      "6 x 1 = 6\n",
      "7 x 1 = 7\n",
      "8 x 1 = 8\n",
      "9 x 1 = 9\n",
      "10 x 1 = 10\n",
      "====================\n",
      "multiplication table of 2:\n",
      "1 x 2 = 2\n",
      "2 x 2 = 4\n",
      "3 x 2 = 6\n",
      "4 x 2 = 8\n",
      "5 x 2 = 10\n",
      "6 x 2 = 12\n",
      "7 x 2 = 14\n",
      "8 x 2 = 16\n",
      "9 x 2 = 18\n",
      "10 x 2 = 20\n",
      "====================\n",
      "multiplication table of 3:\n",
      "1 x 3 = 3\n",
      "2 x 3 = 6\n",
      "3 x 3 = 9\n",
      "4 x 3 = 12\n",
      "5 x 3 = 15\n",
      "6 x 3 = 18\n",
      "7 x 3 = 21\n",
      "8 x 3 = 24\n",
      "9 x 3 = 27\n",
      "10 x 3 = 30\n",
      "====================\n",
      "multiplication table of 4:\n",
      "1 x 4 = 4\n",
      "2 x 4 = 8\n",
      "3 x 4 = 12\n",
      "4 x 4 = 16\n",
      "5 x 4 = 20\n",
      "6 x 4 = 24\n",
      "7 x 4 = 28\n",
      "8 x 4 = 32\n",
      "9 x 4 = 36\n",
      "10 x 4 = 40\n",
      "====================\n",
      "multiplication table of 5:\n",
      "1 x 5 = 5\n",
      "2 x 5 = 10\n",
      "3 x 5 = 15\n",
      "4 x 5 = 20\n",
      "5 x 5 = 25\n",
      "6 x 5 = 30\n",
      "7 x 5 = 35\n",
      "8 x 5 = 40\n",
      "9 x 5 = 45\n",
      "10 x 5 = 50\n",
      "====================\n",
      "multiplication table of 6:\n",
      "1 x 6 = 6\n",
      "2 x 6 = 12\n",
      "3 x 6 = 18\n",
      "4 x 6 = 24\n",
      "5 x 6 = 30\n",
      "6 x 6 = 36\n",
      "7 x 6 = 42\n",
      "8 x 6 = 48\n",
      "9 x 6 = 54\n",
      "10 x 6 = 60\n",
      "====================\n",
      "multiplication table of 7:\n",
      "1 x 7 = 7\n",
      "2 x 7 = 14\n",
      "3 x 7 = 21\n",
      "4 x 7 = 28\n",
      "5 x 7 = 35\n",
      "6 x 7 = 42\n",
      "7 x 7 = 49\n",
      "8 x 7 = 56\n",
      "9 x 7 = 63\n",
      "10 x 7 = 70\n",
      "====================\n",
      "multiplication table of 8:\n",
      "1 x 8 = 8\n",
      "2 x 8 = 16\n",
      "3 x 8 = 24\n",
      "4 x 8 = 32\n",
      "5 x 8 = 40\n",
      "6 x 8 = 48\n",
      "7 x 8 = 56\n",
      "8 x 8 = 64\n",
      "9 x 8 = 72\n",
      "10 x 8 = 80\n",
      "====================\n",
      "multiplication table of 9:\n",
      "1 x 9 = 9\n",
      "2 x 9 = 18\n",
      "3 x 9 = 27\n",
      "4 x 9 = 36\n",
      "5 x 9 = 45\n",
      "6 x 9 = 54\n",
      "7 x 9 = 63\n",
      "8 x 9 = 72\n",
      "9 x 9 = 81\n",
      "10 x 9 = 90\n",
      "====================\n",
      "multiplication table of 10:\n",
      "1 x 10 = 10\n",
      "2 x 10 = 20\n",
      "3 x 10 = 30\n",
      "4 x 10 = 40\n",
      "5 x 10 = 50\n",
      "6 x 10 = 60\n",
      "7 x 10 = 70\n",
      "8 x 10 = 80\n",
      "9 x 10 = 90\n",
      "10 x 10 = 100\n",
      "====================\n"
     ]
    }
   ],
   "source": [
    "# n = 5\n",
    "for n in range(1, 11): \n",
    "    print(f\"multiplication table of {n}:\")\n",
    "    for i in range(1, 11):\n",
    "        m = i * n\n",
    "        print(f\"{i} x {n} = {m}\")\n",
    "    print(\"=\" * 20)"
   ]
  },
  {
   "cell_type": "code",
   "execution_count": 30,
   "metadata": {},
   "outputs": [],
   "source": [
    "def dhan_vangar_machine(dhan):\n",
    "    # documentation how chal is prepared\n",
    "    # some how prepare chal \n",
    "    chal = dhan * .75\n",
    "    return chal"
   ]
  },
  {
   "cell_type": "code",
   "execution_count": 33,
   "metadata": {},
   "outputs": [],
   "source": [
    "def ruti_bananor_machine(chal, pani):\n",
    "    return chal + pani"
   ]
  },
  {
   "cell_type": "code",
   "execution_count": 35,
   "metadata": {},
   "outputs": [
    {
     "name": "stdout",
     "output_type": "stream",
     "text": [
      "11\n"
     ]
    }
   ],
   "source": [
    "def add(a,b):\n",
    "  sum = a+b\n",
    "  return sum\n",
    "\n"
   ]
  },
  {
   "cell_type": "code",
   "execution_count": 37,
   "metadata": {},
   "outputs": [
    {
     "name": "stdout",
     "output_type": "stream",
     "text": [
      "11\n"
     ]
    }
   ],
   "source": [
    "print(add(5,6))"
   ]
  },
  {
   "cell_type": "code",
   "execution_count": 38,
   "metadata": {},
   "outputs": [],
   "source": [
    "def print_multiplication_table(n):\n",
    "    print(f\"multiplication table for {n}\")\n",
    "    for i in range(1, 11):\n",
    "        print(f\"{n} x {i} = {n*i}\")"
   ]
  },
  {
   "cell_type": "code",
   "execution_count": 39,
   "metadata": {},
   "outputs": [
    {
     "name": "stdout",
     "output_type": "stream",
     "text": [
      "multiplication table for 20\n",
      "20 x 1 = 20\n",
      "20 x 2 = 40\n",
      "20 x 3 = 60\n",
      "20 x 4 = 80\n",
      "20 x 5 = 100\n",
      "20 x 6 = 120\n",
      "20 x 7 = 140\n",
      "20 x 8 = 160\n",
      "20 x 9 = 180\n",
      "20 x 10 = 200\n"
     ]
    }
   ],
   "source": [
    "print_multiplication_table(20)"
   ]
  },
  {
   "cell_type": "code",
   "execution_count": null,
   "metadata": {},
   "outputs": [],
   "source": [
    "# delete the multiplication table file "
   ]
  },
  {
   "cell_type": "code",
   "execution_count": 34,
   "metadata": {},
   "outputs": [
    {
     "name": "stdout",
     "output_type": "stream",
     "text": [
      "1035 1035.0\n"
     ]
    }
   ],
   "source": [
    "# 1 + 2 + 3 + 4 + ... + n = ?\n",
    "# n <= input\n",
    "\n",
    "n = int(input())\n",
    "sum = 0\n",
    "for i in range(1, n+1):\n",
    "  sum = sum + i\n",
    "\n",
    "print(sum, (n*(n+1)) /2 )"
   ]
  },
  {
   "cell_type": "code",
   "execution_count": 41,
   "metadata": {},
   "outputs": [],
   "source": [
    "def summation(_list):\n",
    "  sum = 0\n",
    "  for i in range(len(_list)):\n",
    "    sum = sum + _list[i]\n",
    "  # print(sum)\n",
    "  return sum"
   ]
  },
  {
   "cell_type": "code",
   "execution_count": 43,
   "metadata": {},
   "outputs": [
    {
     "data": {
      "text/plain": [
       "31"
      ]
     },
     "execution_count": 43,
     "metadata": {},
     "output_type": "execute_result"
    }
   ],
   "source": [
    "summation([11, 20])"
   ]
  },
  {
   "cell_type": "code",
   "execution_count": 50,
   "metadata": {},
   "outputs": [
    {
     "name": "stdout",
     "output_type": "stream",
     "text": [
      "parameter is (1, 2, 3), type is <class 'tuple'>\n"
     ]
    }
   ],
   "source": [
    "def random_func(*a):\n",
    "  print(f\"parameter is {a}, type is {type(a)}\")\n",
    "\n",
    "random_func(1, 2, 3)"
   ]
  },
  {
   "cell_type": "code",
   "execution_count": 51,
   "metadata": {},
   "outputs": [
    {
     "name": "stdout",
     "output_type": "stream",
     "text": [
      "parameter is {'a': 10, 'b': 15, 'c': 56}, type is <class 'dict'>\n",
      "None\n"
     ]
    }
   ],
   "source": [
    "def random_func(m, **a):\n",
    "  print(f\"parameter is {a}, type is {type(a)}\")\n",
    "\n",
    "print(random_func(5, a=10, b=15, c=56))"
   ]
  },
  {
   "cell_type": "code",
   "execution_count": 53,
   "metadata": {},
   "outputs": [],
   "source": [
    "def add(a=50, b=60):\n",
    "  return a+b"
   ]
  },
  {
   "cell_type": "code",
   "execution_count": 52,
   "metadata": {},
   "outputs": [
    {
     "ename": "TypeError",
     "evalue": "add() missing 2 required positional arguments: 'a' and 'b'",
     "output_type": "error",
     "traceback": [
      "\u001b[1;31m---------------------------------------------------------------------------\u001b[0m",
      "\u001b[1;31mTypeError\u001b[0m                                 Traceback (most recent call last)",
      "Cell \u001b[1;32mIn[52], line 1\u001b[0m\n\u001b[1;32m----> 1\u001b[0m \u001b[38;5;28mprint\u001b[39m(\u001b[43madd\u001b[49m\u001b[43m(\u001b[49m\u001b[43m)\u001b[49m)\n\u001b[0;32m      2\u001b[0m \u001b[38;5;28mprint\u001b[39m(add(a\u001b[38;5;241m=\u001b[39m\u001b[38;5;241m500\u001b[39m))\n\u001b[0;32m      3\u001b[0m \u001b[38;5;28mprint\u001b[39m(add(b\u001b[38;5;241m=\u001b[39m\u001b[38;5;241m100\u001b[39m))\n",
      "\u001b[1;31mTypeError\u001b[0m: add() missing 2 required positional arguments: 'a' and 'b'"
     ]
    }
   ],
   "source": [
    "print(add())\n",
    "print(add(a=500))\n",
    "print(add(b=100))\n",
    "print(add(a=500, b=100))"
   ]
  },
  {
   "cell_type": "markdown",
   "metadata": {},
   "source": [
    "#### Class"
   ]
  },
  {
   "cell_type": "code",
   "execution_count": 54,
   "metadata": {},
   "outputs": [],
   "source": [
    "# class"
   ]
  },
  {
   "cell_type": "code",
   "execution_count": 55,
   "metadata": {},
   "outputs": [],
   "source": [
    "class Student:\n",
    "  def __init__(self):\n",
    "    self.name = 'name'\n",
    "    self.roll = 0\n",
    "    self.level = 4\n",
    "    self.term = 2\n"
   ]
  },
  {
   "cell_type": "code",
   "execution_count": 56,
   "metadata": {},
   "outputs": [
    {
     "name": "stdout",
     "output_type": "stream",
     "text": [
      "name\n",
      "0\n",
      "4\n",
      "2\n"
     ]
    }
   ],
   "source": [
    "a = Student()\n",
    "\n",
    "print(a.name)\n",
    "print(a.roll)\n",
    "print(a.level)\n",
    "print(a.term)"
   ]
  },
  {
   "cell_type": "code",
   "execution_count": 57,
   "metadata": {},
   "outputs": [],
   "source": [
    "class Calculator:\n",
    "    \"\"\"Do addition, subtraction, multiplication and division.\"\"\"\n",
    "\n",
    "    def addition(self, a, b):\n",
    "        return a+b\n",
    "\n",
    "    def subtraction(self, a, b):\n",
    "        return a-b\n",
    "\n",
    "    def multiplication(self, a, b):\n",
    "        return a*b\n",
    "\n",
    "    def division(self, a, b):\n",
    "        try:\n",
    "            return a/b\n",
    "        except ZeroDivisionError:\n",
    "            return 'It is impossible to divide by zero.'"
   ]
  },
  {
   "cell_type": "code",
   "execution_count": null,
   "metadata": {},
   "outputs": [],
   "source": [
    "my_calculator = Calculator()\n",
    "\n",
    "temp = my_calculator.addition(12, 78)\n",
    "print(temp)\n",
    "\n",
    "temp = my_calculator.subtraction(50, 23)\n",
    "print(temp)\n",
    "\n",
    "temp = my_calculator.multiplication(9, 19)\n",
    "print(temp)\n",
    "\n",
    "temp = my_calculator.division(400, 5)\n",
    "print(temp)\n",
    "\n",
    "temp = my_calculator.division(43, 0)\n",
    "print(temp)"
   ]
  },
  {
   "cell_type": "code",
   "execution_count": null,
   "metadata": {},
   "outputs": [],
   "source": [
    "class SuperCalculator(Calculator):\n",
    "    \"\"\"Child class of Calculator. Do square and cube.\"\"\"\n",
    "\n",
    "    def square(self, a):\n",
    "        return a * a\n",
    "\n",
    "    def cube(self, a):\n",
    "        return a * a * a"
   ]
  },
  {
   "cell_type": "code",
   "execution_count": 58,
   "metadata": {},
   "outputs": [
    {
     "ename": "NameError",
     "evalue": "name 'SuperCalculator' is not defined",
     "output_type": "error",
     "traceback": [
      "\u001b[1;31m---------------------------------------------------------------------------\u001b[0m",
      "\u001b[1;31mNameError\u001b[0m                                 Traceback (most recent call last)",
      "Cell \u001b[1;32mIn[58], line 1\u001b[0m\n\u001b[1;32m----> 1\u001b[0m my_calculator \u001b[38;5;241m=\u001b[39m \u001b[43mSuperCalculator\u001b[49m()\n\u001b[0;32m      3\u001b[0m temp \u001b[38;5;241m=\u001b[39m my_calculator\u001b[38;5;241m.\u001b[39maddition(\u001b[38;5;241m23\u001b[39m, \u001b[38;5;241m47\u001b[39m)\n\u001b[0;32m      4\u001b[0m \u001b[38;5;28mprint\u001b[39m(temp)\n",
      "\u001b[1;31mNameError\u001b[0m: name 'SuperCalculator' is not defined"
     ]
    }
   ],
   "source": [
    "my_calculator = SuperCalculator()\n",
    "\n",
    "temp = my_calculator.addition(23, 47)\n",
    "print(temp)\n",
    "\n",
    "temp = my_calculator.subtraction(87, 54)\n",
    "print(temp)\n",
    "\n",
    "temp = my_calculator.multiplication(65, 56)\n",
    "print(temp)\n",
    "\n",
    "temp = my_calculator.division(852, 76)\n",
    "print(temp)\n",
    "\n",
    "temp = my_calculator.square(7)\n",
    "print(temp)\n",
    "\n",
    "temp = my_calculator.cube(3)\n",
    "print(temp)"
   ]
  },
  {
   "cell_type": "code",
   "execution_count": null,
   "metadata": {},
   "outputs": [],
   "source": [
    "class Vector:\n",
    "  def __init__(self, *value):\n",
    "    self.dimension = len(value)\n",
    "    self.value = value\n",
    "\n",
    "  def scalar_multiplication(self, m):\n",
    "    res = []\n",
    "    for element in self.value:\n",
    "      res.append(element * m)\n",
    "    return res\n",
    "\n",
    "  def dot_product(self, b):\n",
    "    res = 0\n",
    "    for i in range(self.dimension):\n",
    "      res = res + self.value[i] * b.value[i]\n",
    "    return res\n"
   ]
  }
 ],
 "metadata": {
  "kernelspec": {
   "display_name": "Python 3",
   "language": "python",
   "name": "python3"
  },
  "language_info": {
   "codemirror_mode": {
    "name": "ipython",
    "version": 3
   },
   "file_extension": ".py",
   "mimetype": "text/x-python",
   "name": "python",
   "nbconvert_exporter": "python",
   "pygments_lexer": "ipython3",
   "version": "3.11.9"
  }
 },
 "nbformat": 4,
 "nbformat_minor": 2
}
