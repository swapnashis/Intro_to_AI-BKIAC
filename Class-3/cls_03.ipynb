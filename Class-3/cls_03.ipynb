{
 "cells": [
  {
   "cell_type": "code",
   "execution_count": 3,
   "metadata": {},
   "outputs": [
    {
     "name": "stdout",
     "output_type": "stream",
     "text": [
      "Kowshic\n",
      "Kowshic\n",
      "Kowshic\n",
      "Kowshic\n",
      "Kowshic\n",
      "Kowshic\n",
      "Kowshic\n",
      "Kowshic\n",
      "Kowshic\n",
      "Kowshic\n"
     ]
    }
   ],
   "source": [
    "for i in range(10):\n",
    "    print(\"Kowshic\")"
   ]
  },
  {
   "cell_type": "code",
   "execution_count": 15,
   "metadata": {},
   "outputs": [
    {
     "name": "stdout",
     "output_type": "stream",
     "text": [
      "Kowshic is said again. i = 0\n",
      "Kowshic is said again. i = 1\n",
      "Kowshic is said again. i = 2\n",
      "Kowshic is said again. i = 3\n",
      "Kowshic is said again. i = 4\n",
      "Kowshic is said again. i = 5\n",
      "Kowshic is said again. i = 6\n",
      "Kowshic is said again. i = 7\n",
      "Kowshic is said again. i = 8\n",
      "Kowshic is said again. i = 9\n",
      "Kowshic is said again. i = 10\n",
      "Kowshic is said again. i = 11\n",
      "Kowshic is said again. i = 12\n",
      "Kowshic is said again. i = 13\n",
      "Kowshic is said again. i = 14\n"
     ]
    }
   ],
   "source": [
    "name = \"Kowshic\"\n",
    "\n",
    "for i in range(15):\n",
    "    print(f\"{name} is said again. i = {i}\")"
   ]
  },
  {
   "cell_type": "code",
   "execution_count": 18,
   "metadata": {},
   "outputs": [
    {
     "name": "stdout",
     "output_type": "stream",
     "text": [
      "1th time saying Kowshic\n",
      "2th time saying Kowshic\n",
      "3th time saying Kowshic\n"
     ]
    }
   ],
   "source": [
    "for i in range(4):\n",
    "    if i == 0:\n",
    "        continue\n",
    "    print(f\"{i}th time saying {name}\")\n"
   ]
  },
  {
   "cell_type": "code",
   "execution_count": 20,
   "metadata": {},
   "outputs": [
    {
     "name": "stdout",
     "output_type": "stream",
     "text": [
      "Kowshic showed for the 0 time\n",
      "Kowshic showed for the 1 time\n",
      "Kowshic showed for the 2 time\n",
      "Kowshic showed for the 3 time\n",
      "Kowshic showed for the 4 time\n",
      "Kowshic showed for the 6 time\n",
      "Kowshic showed for the 7 time\n"
     ]
    }
   ],
   "source": [
    "for i in range (8):\n",
    "    if i == 5:\n",
    "        continue\n",
    "    print(f\"{name} showed for the {i} time\")"
   ]
  },
  {
   "cell_type": "code",
   "execution_count": 22,
   "metadata": {},
   "outputs": [
    {
     "name": "stdout",
     "output_type": "stream",
     "text": [
      "Kowshic showed for the 0 time\n",
      "Kowshic showed for the 1 time\n",
      "Kowshic showed for the 2 time\n",
      "Kowshic showed for the 3 time\n",
      "Kowshic showed for the 4 time\n"
     ]
    }
   ],
   "source": [
    "for i in range (8):\n",
    "    if i == 5:\n",
    "        break\n",
    "    print(f\"{name} showed for the {i} time\")"
   ]
  },
  {
   "cell_type": "code",
   "execution_count": 23,
   "metadata": {},
   "outputs": [
    {
     "name": "stdout",
     "output_type": "stream",
     "text": [
      "Kowshic showed for the 5 time\n",
      "Kowshic showed for the 6 time\n",
      "Kowshic showed for the 7 time\n"
     ]
    }
   ],
   "source": [
    "for i in range (8):\n",
    "    if i < 5:\n",
    "        continue\n",
    "    print(f\"{name} showed for the {i} time\")"
   ]
  },
  {
   "cell_type": "code",
   "execution_count": 24,
   "metadata": {},
   "outputs": [
    {
     "name": "stdout",
     "output_type": "stream",
     "text": [
      "3th time showing Kowshic\n",
      "4th time showing Kowshic\n",
      "5th time showing Kowshic\n",
      "6th time showing Kowshic\n",
      "7th time showing Kowshic\n",
      "8th time showing Kowshic\n",
      "9th time showing Kowshic\n"
     ]
    }
   ],
   "source": [
    "for i in range(3, 10):\n",
    "    print(f\"{i}th time showing {name}\")"
   ]
  },
  {
   "cell_type": "code",
   "execution_count": 26,
   "metadata": {},
   "outputs": [
    {
     "name": "stdout",
     "output_type": "stream",
     "text": [
      "3th Kowshic being shown\n",
      "6th Kowshic being shown\n",
      "9th Kowshic being shown\n"
     ]
    }
   ],
   "source": [
    "for i in range(3, 12, 3):\n",
    "    print(f\"{i}th {name} being shown\")"
   ]
  },
  {
   "cell_type": "code",
   "execution_count": 19,
   "metadata": {},
   "outputs": [
    {
     "name": "stdout",
     "output_type": "stream",
     "text": [
      "0\n",
      "1\n",
      "2\n",
      "3\n",
      "4\n",
      "5\n",
      "6\n",
      "7\n",
      "8\n",
      "9\n",
      "10\n",
      "11\n",
      "12\n",
      "13\n",
      "14\n",
      "26\n",
      "27\n",
      "28\n",
      "29\n",
      "30\n",
      "31\n",
      "32\n",
      "33\n",
      "34\n",
      "35\n",
      "36\n",
      "37\n",
      "38\n",
      "39\n",
      "40\n",
      "41\n",
      "42\n",
      "43\n",
      "44\n",
      "45\n",
      "46\n",
      "47\n",
      "48\n",
      "49\n"
     ]
    }
   ],
   "source": [
    "for i in range(50):\n",
    "    if i >= 15 and i <= 25:\n",
    "        continue\n",
    "    print(f\"{i}\")"
   ]
  },
  {
   "cell_type": "code",
   "execution_count": 33,
   "metadata": {},
   "outputs": [
    {
     "name": "stdout",
     "output_type": "stream",
     "text": [
      "1 x 7 = 7\n",
      "2 x 7 = 14\n",
      "3 x 7 = 21\n",
      "4 x 7 = 28\n",
      "5 x 7 = 35\n",
      "6 x 7 = 42\n",
      "7 x 7 = 49\n",
      "8 x 7 = 56\n",
      "9 x 7 = 63\n",
      "10 x 7 = 70\n"
     ]
    }
   ],
   "source": [
    "n = 7\n",
    "for i in range(11):\n",
    "    if i == 0:\n",
    "        continue\n",
    "    m = i * n\n",
    "    print(f\"{i} x {n} = {m}\")"
   ]
  },
  {
   "cell_type": "code",
   "execution_count": 35,
   "metadata": {},
   "outputs": [
    {
     "name": "stdout",
     "output_type": "stream",
     "text": [
      "1 x 6 = 6\n",
      "2 x 6 = 12\n",
      "3 x 6 = 18\n",
      "4 x 6 = 24\n",
      "5 x 6 = 30\n",
      "6 x 6 = 36\n",
      "7 x 6 = 42\n",
      "8 x 6 = 48\n",
      "9 x 6 = 54\n",
      "10 x 6 = 60\n"
     ]
    }
   ],
   "source": [
    "n = 6\n",
    "for i in range(1, 11):\n",
    "    m = i * n\n",
    "    print(f\"{i} x {n} = {m}\")"
   ]
  },
  {
   "cell_type": "code",
   "execution_count": 47,
   "metadata": {},
   "outputs": [
    {
     "name": "stdout",
     "output_type": "stream",
     "text": [
      "0 x 6 = 0\n",
      "1 x 6 = 6\n",
      "2 x 6 = 12\n",
      "3 x 6 = 18\n",
      "4 x 6 = 24\n",
      "5 x 6 = 30\n",
      "6 x 6 = 36\n",
      "7 x 6 = 42\n",
      "8 x 6 = 48\n",
      "9 x 6 = 54\n",
      "10 x 6 = 60\n"
     ]
    }
   ],
   "source": [
    "n = 6\n",
    "for i in range(11):\n",
    "    m = i * n\n",
    "    if i == 0:\n",
    "        pass\n",
    "    print(f\"{i} x {n} = {m}\")"
   ]
  },
  {
   "cell_type": "code",
   "execution_count": null,
   "metadata": {},
   "outputs": [
    {
     "name": "stdout",
     "output_type": "stream",
     "text": [
      "Multiplication table for 1\n",
      "1 x 1 = 1\n",
      "2 x 1 = 2\n",
      "3 x 1 = 3\n",
      "4 x 1 = 4\n",
      "5 x 1 = 5\n",
      "6 x 1 = 6\n",
      "7 x 1 = 7\n",
      "8 x 1 = 8\n",
      "9 x 1 = 9\n",
      "10 x 1 = 10\n",
      "====================\n",
      "Multiplication table for 2\n",
      "1 x 2 = 2\n",
      "2 x 2 = 4\n",
      "3 x 2 = 6\n",
      "4 x 2 = 8\n",
      "5 x 2 = 10\n",
      "6 x 2 = 12\n",
      "7 x 2 = 14\n",
      "8 x 2 = 16\n",
      "9 x 2 = 18\n",
      "10 x 2 = 20\n",
      "====================\n",
      "Multiplication table for 3\n",
      "1 x 3 = 3\n",
      "2 x 3 = 6\n",
      "3 x 3 = 9\n",
      "4 x 3 = 12\n",
      "5 x 3 = 15\n",
      "6 x 3 = 18\n",
      "7 x 3 = 21\n",
      "8 x 3 = 24\n",
      "9 x 3 = 27\n",
      "10 x 3 = 30\n",
      "====================\n",
      "Multiplication table for 4\n",
      "1 x 4 = 4\n",
      "2 x 4 = 8\n",
      "3 x 4 = 12\n",
      "4 x 4 = 16\n",
      "5 x 4 = 20\n",
      "6 x 4 = 24\n",
      "7 x 4 = 28\n",
      "8 x 4 = 32\n",
      "9 x 4 = 36\n",
      "10 x 4 = 40\n",
      "====================\n",
      "Multiplication table for 5\n",
      "1 x 5 = 5\n",
      "2 x 5 = 10\n",
      "3 x 5 = 15\n",
      "4 x 5 = 20\n",
      "5 x 5 = 25\n",
      "6 x 5 = 30\n",
      "7 x 5 = 35\n",
      "8 x 5 = 40\n",
      "9 x 5 = 45\n",
      "10 x 5 = 50\n",
      "====================\n",
      "Multiplication table for 6\n",
      "1 x 6 = 6\n",
      "2 x 6 = 12\n",
      "3 x 6 = 18\n",
      "4 x 6 = 24\n",
      "5 x 6 = 30\n",
      "6 x 6 = 36\n",
      "7 x 6 = 42\n",
      "8 x 6 = 48\n",
      "9 x 6 = 54\n",
      "10 x 6 = 60\n",
      "====================\n",
      "Multiplication table for 7\n",
      "1 x 7 = 7\n",
      "2 x 7 = 14\n",
      "3 x 7 = 21\n",
      "4 x 7 = 28\n",
      "5 x 7 = 35\n",
      "6 x 7 = 42\n",
      "7 x 7 = 49\n",
      "8 x 7 = 56\n",
      "9 x 7 = 63\n",
      "10 x 7 = 70\n",
      "====================\n",
      "Multiplication table for 8\n",
      "1 x 8 = 8\n",
      "2 x 8 = 16\n",
      "3 x 8 = 24\n",
      "4 x 8 = 32\n",
      "5 x 8 = 40\n",
      "6 x 8 = 48\n",
      "7 x 8 = 56\n",
      "8 x 8 = 64\n",
      "9 x 8 = 72\n",
      "10 x 8 = 80\n",
      "====================\n",
      "Multiplication table for 9\n",
      "1 x 9 = 9\n",
      "2 x 9 = 18\n",
      "3 x 9 = 27\n",
      "4 x 9 = 36\n",
      "5 x 9 = 45\n",
      "6 x 9 = 54\n",
      "7 x 9 = 63\n",
      "8 x 9 = 72\n",
      "9 x 9 = 81\n",
      "10 x 9 = 90\n",
      "====================\n",
      "Multiplication table for 10\n",
      "1 x 10 = 10\n",
      "2 x 10 = 20\n",
      "3 x 10 = 30\n",
      "4 x 10 = 40\n",
      "5 x 10 = 50\n",
      "6 x 10 = 60\n",
      "7 x 10 = 70\n",
      "8 x 10 = 80\n",
      "9 x 10 = 90\n",
      "10 x 10 = 100\n",
      "====================\n",
      "Multiplication table for 11\n",
      "1 x 11 = 11\n",
      "2 x 11 = 22\n",
      "3 x 11 = 33\n",
      "4 x 11 = 44\n",
      "5 x 11 = 55\n",
      "6 x 11 = 66\n",
      "7 x 11 = 77\n",
      "8 x 11 = 88\n",
      "9 x 11 = 99\n",
      "10 x 11 = 110\n",
      "====================\n",
      "Multiplication table for 12\n",
      "1 x 12 = 12\n",
      "2 x 12 = 24\n",
      "3 x 12 = 36\n",
      "4 x 12 = 48\n",
      "5 x 12 = 60\n",
      "6 x 12 = 72\n",
      "7 x 12 = 84\n",
      "8 x 12 = 96\n",
      "9 x 12 = 108\n",
      "10 x 12 = 120\n",
      "====================\n",
      "Multiplication table for 13\n",
      "1 x 13 = 13\n",
      "2 x 13 = 26\n",
      "3 x 13 = 39\n",
      "4 x 13 = 52\n",
      "5 x 13 = 65\n",
      "6 x 13 = 78\n",
      "7 x 13 = 91\n",
      "8 x 13 = 104\n",
      "9 x 13 = 117\n",
      "10 x 13 = 130\n",
      "====================\n",
      "Multiplication table for 14\n",
      "1 x 14 = 14\n",
      "2 x 14 = 28\n",
      "3 x 14 = 42\n",
      "4 x 14 = 56\n",
      "5 x 14 = 70\n",
      "6 x 14 = 84\n",
      "7 x 14 = 98\n",
      "8 x 14 = 112\n",
      "9 x 14 = 126\n",
      "10 x 14 = 140\n",
      "====================\n",
      "Multiplication table for 15\n",
      "1 x 15 = 15\n",
      "2 x 15 = 30\n",
      "3 x 15 = 45\n",
      "4 x 15 = 60\n",
      "5 x 15 = 75\n",
      "6 x 15 = 90\n",
      "7 x 15 = 105\n",
      "8 x 15 = 120\n",
      "9 x 15 = 135\n",
      "10 x 15 = 150\n",
      "====================\n",
      "Multiplication table for 16\n",
      "1 x 16 = 16\n",
      "2 x 16 = 32\n",
      "3 x 16 = 48\n",
      "4 x 16 = 64\n",
      "5 x 16 = 80\n",
      "6 x 16 = 96\n",
      "7 x 16 = 112\n",
      "8 x 16 = 128\n",
      "9 x 16 = 144\n",
      "10 x 16 = 160\n",
      "====================\n",
      "Multiplication table for 17\n",
      "1 x 17 = 17\n",
      "2 x 17 = 34\n",
      "3 x 17 = 51\n",
      "4 x 17 = 68\n",
      "5 x 17 = 85\n",
      "6 x 17 = 102\n",
      "7 x 17 = 119\n",
      "8 x 17 = 136\n",
      "9 x 17 = 153\n",
      "10 x 17 = 170\n",
      "====================\n",
      "Multiplication table for 18\n",
      "1 x 18 = 18\n",
      "2 x 18 = 36\n",
      "3 x 18 = 54\n",
      "4 x 18 = 72\n",
      "5 x 18 = 90\n",
      "6 x 18 = 108\n",
      "7 x 18 = 126\n",
      "8 x 18 = 144\n",
      "9 x 18 = 162\n",
      "10 x 18 = 180\n",
      "====================\n",
      "Multiplication table for 19\n",
      "1 x 19 = 19\n",
      "2 x 19 = 38\n",
      "3 x 19 = 57\n",
      "4 x 19 = 76\n",
      "5 x 19 = 95\n",
      "6 x 19 = 114\n",
      "7 x 19 = 133\n",
      "8 x 19 = 152\n",
      "9 x 19 = 171\n",
      "10 x 19 = 190\n",
      "====================\n",
      "Multiplication table for 20\n",
      "1 x 20 = 20\n",
      "2 x 20 = 40\n",
      "3 x 20 = 60\n",
      "4 x 20 = 80\n",
      "5 x 20 = 100\n",
      "6 x 20 = 120\n",
      "7 x 20 = 140\n",
      "8 x 20 = 160\n",
      "9 x 20 = 180\n",
      "10 x 20 = 200\n",
      "====================\n"
     ]
    }
   ],
   "source": [
    "for n in range (1, 21):\n",
    "    print(f\"Multiplication table for {n}\")\n",
    "    for i in range(1, 11):\n",
    "        m = i * n\n",
    "        print(f\"{i} x {n} = {m}\")\n",
    "    print(\"==\" * 10)"
   ]
  },
  {
   "cell_type": "code",
   "execution_count": 3,
   "metadata": {},
   "outputs": [],
   "source": [
    "with open(\"myFile.txt\", 'w') as f:\n",
    "    print(\"This is a demo on file\", file = f)"
   ]
  },
  {
   "cell_type": "code",
   "execution_count": 14,
   "metadata": {},
   "outputs": [
    {
     "name": "stdout",
     "output_type": "stream",
     "text": [
      "This is a demo on file\n",
      "\n"
     ]
    }
   ],
   "source": [
    "with open (\"myFile.txt\", 'r') as f:\n",
    "    content = f.read()\n",
    "    print(content)"
   ]
  },
  {
   "cell_type": "code",
   "execution_count": 21,
   "metadata": {},
   "outputs": [
    {
     "name": "stdout",
     "output_type": "stream",
     "text": [
      "This is a demo on file\n",
      "\n"
     ]
    }
   ],
   "source": [
    "with open(\"myFile.txt\", 'r') as f:\n",
    "    print(f.read())"
   ]
  },
  {
   "cell_type": "code",
   "execution_count": 20,
   "metadata": {},
   "outputs": [],
   "source": [
    "with open(\"MultiplicationFile.txt\", 'w') as f:\n",
    "    for i in range(1, 16):\n",
    "        print(f\"Multiplication Table of {i}\", file  = f)\n",
    "        for j in range (1, 11):\n",
    "            n = i * j\n",
    "            print(f\"{i} x {j} = {n}\", file = f)\n",
    "        print(\"==\" * 10, file = f)"
   ]
  },
  {
   "cell_type": "code",
   "execution_count": 26,
   "metadata": {},
   "outputs": [
    {
     "name": "stdout",
     "output_type": "stream",
     "text": [
      "5050\n"
     ]
    }
   ],
   "source": [
    "sum = 0\n",
    "for i in range(1, 101):\n",
    "    sum += i\n",
    "print(sum)"
   ]
  },
  {
   "cell_type": "code",
   "execution_count": 29,
   "metadata": {},
   "outputs": [
    {
     "name": "stdout",
     "output_type": "stream",
     "text": [
      "5\n",
      "15\n",
      "30\n",
      "50\n",
      "75\n",
      "105\n",
      "140\n",
      "180\n",
      "225\n",
      "275\n",
      "330\n",
      "390\n",
      "455\n",
      "525\n",
      "600\n",
      "680\n",
      "765\n",
      "855\n",
      "950\n",
      "1050\n"
     ]
    }
   ],
   "source": [
    "sum = 0 \n",
    "for i in range(1, 101):\n",
    "    if i % 5 == 0:\n",
    "        sum += i\n",
    "        print(sum)"
   ]
  },
  {
   "cell_type": "code",
   "execution_count": 30,
   "metadata": {},
   "outputs": [],
   "source": [
    "# def multiplicationTable():\n",
    "def add(a, b):\n",
    "    summation = a + b\n",
    "    return summation"
   ]
  },
  {
   "cell_type": "code",
   "execution_count": 31,
   "metadata": {},
   "outputs": [
    {
     "data": {
      "text/plain": [
       "11"
      ]
     },
     "execution_count": 31,
     "metadata": {},
     "output_type": "execute_result"
    }
   ],
   "source": [
    "add(5, 6)"
   ]
  },
  {
   "cell_type": "code",
   "execution_count": 35,
   "metadata": {},
   "outputs": [
    {
     "name": "stdout",
     "output_type": "stream",
     "text": [
      "0.9820137900379085\n"
     ]
    }
   ],
   "source": [
    "import math\n",
    "x = 4\n",
    "sigmoid = 1 / (1 + math.exp(-x))\n",
    "print(sigmoid)"
   ]
  },
  {
   "cell_type": "code",
   "execution_count": 36,
   "metadata": {},
   "outputs": [],
   "source": [
    "def sigmoid(x):\n",
    "    import math\n",
    "    val = 1 / (1 + math.exp(-x))\n",
    "    return val"
   ]
  },
  {
   "cell_type": "code",
   "execution_count": 43,
   "metadata": {},
   "outputs": [
    {
     "name": "stdout",
     "output_type": "stream",
     "text": [
      "Multiplication table for 8\n",
      "8 x 1 = 8\n",
      "8 x 2 = 16\n",
      "8 x 3 = 24\n",
      "8 x 4 = 32\n",
      "8 x 5 = 40\n",
      "8 x 6 = 48\n",
      "8 x 7 = 56\n",
      "8 x 8 = 64\n",
      "8 x 9 = 72\n",
      "8 x 10 = 80\n"
     ]
    }
   ],
   "source": [
    "def printMultiplicationTable(x):\n",
    "    print(f\"Multiplication table for {x}\")\n",
    "    for i in range(1, 11):\n",
    "        # m = i * x\n",
    "        # print(f\"{x} x {i} = {m}\")\n",
    "        print(f\"{x} x {i} = {x*i}\")\n",
    "    return\n",
    "    \n",
    "printMultiplicationTable(8)"
   ]
  },
  {
   "cell_type": "code",
   "execution_count": 44,
   "metadata": {},
   "outputs": [
    {
     "name": "stdout",
     "output_type": "stream",
     "text": [
      "parameter is {'a': 10, 'b': 15, 'c': 56}, type is <class 'dict'>\n",
      "b is 15\n",
      "m is 5\n",
      "n is 6\n",
      "b is 15\n"
     ]
    }
   ],
   "source": [
    "def randomFunction(m, n, **a):\n",
    "    print(f\"parameter is {a}, type is {type(a)}\")\n",
    "    print(f\"b is {a['b']}\")\n",
    "    print(f\"m is {m}\")\n",
    "    print(f\"n is {n}\")\n",
    "    print(f\"b is {a['b']}\")\n",
    "\n",
    "randomFunction(5, 6, a = 10, b = 15, c = 56)"
   ]
  },
  {
   "cell_type": "code",
   "execution_count": null,
   "metadata": {},
   "outputs": [],
   "source": [
    "def random_function(*args, **a):\n",
    "    print(f\"Parameter is {a}, type is {type(a)}\")"
   ]
  },
  {
   "cell_type": "code",
   "execution_count": 46,
   "metadata": {},
   "outputs": [
    {
     "name": "stdout",
     "output_type": "stream",
     "text": [
      "4 + 8 = 12\n",
      "9 + 11 = 20\n",
      "6 + 11 = 17\n"
     ]
    }
   ],
   "source": [
    "def add(a, b = 11):\n",
    "    print(f\"{a} + {b} = {a + b}\")\n",
    "\n",
    "add(4, 8)\n",
    "add(9)\n",
    "add(b = 11, a = 6)"
   ]
  },
  {
   "cell_type": "code",
   "execution_count": 1,
   "metadata": {},
   "outputs": [],
   "source": [
    "class Student:\n",
    "    def __init__(self, name, age):\n",
    "        self.name = name\n",
    "        self.age = age\n",
    "        self.designation = \"unemplyed\"\n",
    "    def doStudy(self, hour):\n",
    "        print(f\"{self.name} studied for {hour} hours\")"
   ]
  },
  {
   "cell_type": "code",
   "execution_count": 2,
   "metadata": {},
   "outputs": [
    {
     "name": "stdout",
     "output_type": "stream",
     "text": [
      "Kowshic\n",
      "66\n"
     ]
    },
    {
     "ename": "NameError",
     "evalue": "name 'doStudy' is not defined",
     "output_type": "error",
     "traceback": [
      "\u001b[1;31m---------------------------------------------------------------------------\u001b[0m",
      "\u001b[1;31mNameError\u001b[0m                                 Traceback (most recent call last)",
      "Cell \u001b[1;32mIn[2], line 4\u001b[0m\n\u001b[0;32m      2\u001b[0m \u001b[38;5;28mprint\u001b[39m(student1\u001b[38;5;241m.\u001b[39mname)\n\u001b[0;32m      3\u001b[0m \u001b[38;5;28mprint\u001b[39m(student1\u001b[38;5;241m.\u001b[39mage)\n\u001b[1;32m----> 4\u001b[0m student1 \u001b[38;5;241m=\u001b[39m \u001b[43mdoStudy\u001b[49m(\u001b[38;5;241m4\u001b[39m)\n",
      "\u001b[1;31mNameError\u001b[0m: name 'doStudy' is not defined"
     ]
    }
   ],
   "source": [
    "student1 = Student(\"Kowshic\", 66)\n",
    "print(student1.name)\n",
    "print(student1.age)\n",
    "student1 = doStudy(4)"
   ]
  },
  {
   "cell_type": "code",
   "execution_count": null,
   "metadata": {},
   "outputs": [],
   "source": [
    "class Calculator:\n",
    "    def __init__(self):\n",
    "        pass\n",
    "    def addition(self, num1, num2):\n",
    "        return num1 + num2\n",
    "    def substraction (self, num1, num2):\n",
    "        return num1 - num2\n",
    "    \n"
   ]
  },
  {
   "cell_type": "code",
   "execution_count": null,
   "metadata": {},
   "outputs": [],
   "source": [
    "class SuperCalculator(Calculator):\n",
    "    def addition(self, num1, num2):\n",
    "        return num1 + num2\n",
    "    def square(self, num):\n",
    "        num * num"
   ]
  },
  {
   "cell_type": "code",
   "execution_count": null,
   "metadata": {},
   "outputs": [],
   "source": [
    "myCalculator = Calculator()\n",
    "\n",
    "temp = myCalculator.addition(12, 67)\n",
    "print(temp)\n",
    "\n",
    "temp = myCalculator.substraction(35, 57)\n",
    "print(temp)\n",
    "\n",
    "temp = myCalculator.square(25)\n",
    "print(temp)\n",
    "\n",
    "print(myCalculator)"
   ]
  }
 ],
 "metadata": {
  "kernelspec": {
   "display_name": "Python 3",
   "language": "python",
   "name": "python3"
  },
  "language_info": {
   "codemirror_mode": {
    "name": "ipython",
    "version": 3
   },
   "file_extension": ".py",
   "mimetype": "text/x-python",
   "name": "python",
   "nbconvert_exporter": "python",
   "pygments_lexer": "ipython3",
   "version": "3.12.3"
  }
 },
 "nbformat": 4,
 "nbformat_minor": 2
}
