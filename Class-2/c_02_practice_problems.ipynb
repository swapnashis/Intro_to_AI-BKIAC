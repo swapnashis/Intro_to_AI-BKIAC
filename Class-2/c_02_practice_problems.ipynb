{
 "cells": [
  {
   "cell_type": "code",
   "execution_count": null,
   "metadata": {},
   "outputs": [],
   "source": []
  },
  {
   "cell_type": "markdown",
   "metadata": {},
   "source": [
    "Task 2A:\n",
    "\n",
    "A student fails in a subject if he gets a score less than 33 in a subject.\n",
    "You have to take a student's score in Bangla. Determine if he has failed or not."
   ]
  },
  {
   "cell_type": "code",
   "execution_count": null,
   "metadata": {},
   "outputs": [],
   "source": [
    "# take input a number\n",
    "\n",
    "# print the number\n",
    "\n",
    "# determine if he had failed or passed"
   ]
  },
  {
   "cell_type": "code",
   "execution_count": 3,
   "metadata": {},
   "outputs": [
    {
     "name": "stdout",
     "output_type": "stream",
     "text": [
      "15\n",
      "The student has Failed\n"
     ]
    }
   ],
   "source": [
    "mark = input()\n",
    "mark = int(mark)\n",
    "print(mark)\n",
    "\n",
    "if mark < 33:\n",
    "    print(f\"The student has Failed in Bangla\")\n",
    "else:\n",
    "    print(\"The Student has Passed in Bangla\")"
   ]
  },
  {
   "cell_type": "markdown",
   "metadata": {},
   "source": [
    "Taks 2B:\n",
    "\n",
    "A student fails in a class if he fails in any of the subjects. You have to take a student's scores in Bangla, English, and Math. Determine if he has failed or not."
   ]
  },
  {
   "cell_type": "code",
   "execution_count": 25,
   "metadata": {},
   "outputs": [
    {
     "name": "stdout",
     "output_type": "stream",
     "text": [
      "{'Bangla': 68, 'English': 25, 'Math': 39}\n"
     ]
    }
   ],
   "source": [
    "subject_marks = {}\n",
    "\n",
    "for subject in ['Bangla', 'English', 'Math']:\n",
    "    mark = int(input(f\"Enter the mark for {subject}: \"))\n",
    "    subject_marks[subject] = mark\n",
    "\n",
    "print(subject_marks)"
   ]
  },
  {
   "cell_type": "code",
   "execution_count": 5,
   "metadata": {},
   "outputs": [
    {
     "name": "stdout",
     "output_type": "stream",
     "text": [
      "Bangla\n",
      "English\n",
      "Math\n"
     ]
    }
   ],
   "source": [
    "# see what the following code does\n",
    "for subject in subject_marks:\n",
    "    print(subject)"
   ]
  },
  {
   "cell_type": "code",
   "execution_count": null,
   "metadata": {},
   "outputs": [],
   "source": [
    "# now determine if the student has passed or failed"
   ]
  },
  {
   "cell_type": "code",
   "execution_count": 28,
   "metadata": {},
   "outputs": [
    {
     "name": "stdout",
     "output_type": "stream",
     "text": [
      "The student has failed\n"
     ]
    }
   ],
   "source": [
    "failed = False\n",
    "for subject, mark in subject_marks.items():\n",
    "    if(mark < 33):\n",
    "        failed = True\n",
    "        break   \n",
    "\n",
    "if(failed):\n",
    "    print(\"The student has failed\")\n",
    "else:\n",
    "    print(\"The student has passed\")"
   ]
  },
  {
   "cell_type": "markdown",
   "metadata": {},
   "source": [
    "Task 3C:\n",
    "\n",
    "Take input from console until there is a negative number"
   ]
  },
  {
   "cell_type": "code",
   "execution_count": 29,
   "metadata": {},
   "outputs": [],
   "source": [
    "num = 0\n",
    "while(num >= 0):\n",
    "    num = int(input(num))"
   ]
  },
  {
   "cell_type": "markdown",
   "metadata": {},
   "source": [
    "Task 2D:\n",
    "\n",
    "Generate number until there is a negative number"
   ]
  },
  {
   "cell_type": "code",
   "execution_count": 1,
   "metadata": {},
   "outputs": [
    {
     "name": "stdout",
     "output_type": "stream",
     "text": [
      "20\n",
      "22\n",
      "38\n",
      "-6\n"
     ]
    }
   ],
   "source": [
    "import random\n",
    "\n",
    "while True:\n",
    "    num = random.randint(-10, 40)\n",
    "    print(num)\n",
    "    if num < 0:\n",
    "        break\n"
   ]
  }
 ],
 "metadata": {
  "kernelspec": {
   "display_name": "Python 3",
   "language": "python",
   "name": "python3"
  },
  "language_info": {
   "codemirror_mode": {
    "name": "ipython",
    "version": 3
   },
   "file_extension": ".py",
   "mimetype": "text/x-python",
   "name": "python",
   "nbconvert_exporter": "python",
   "pygments_lexer": "ipython3",
   "version": "3.12.3"
  }
 },
 "nbformat": 4,
 "nbformat_minor": 2
}
