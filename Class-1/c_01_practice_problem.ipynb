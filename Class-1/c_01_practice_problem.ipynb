{
 "cells": [
  {
   "cell_type": "code",
   "execution_count": null,
   "metadata": {},
   "outputs": [],
   "source": [
    "# given two points in 2D space, find the distance between them\n",
    "# (x1, y1) and (x2, y2) are the coordinates of the two points\n",
    "# distance = sqrt((x2 - x1)^2 + (y2 - y1)^2)"
   ]
  },
  {
   "cell_type": "code",
   "execution_count": 1,
   "metadata": {},
   "outputs": [],
   "source": [
    "(x1, y1) = (1, 2)\n",
    "(x2, y2) = (4, 6)"
   ]
  },
  {
   "cell_type": "code",
   "execution_count": 7,
   "metadata": {},
   "outputs": [
    {
     "data": {
      "text/plain": [
       "5.0"
      ]
     },
     "execution_count": 7,
     "metadata": {},
     "output_type": "execute_result"
    }
   ],
   "source": [
    "((x2 - x1)**2 + (y2 - y1)**2)**0.5"
   ]
  },
  {
   "cell_type": "code",
   "execution_count": 11,
   "metadata": {},
   "outputs": [],
   "source": [
    "distance = ((x2 - x1)**2 + (y2 - y1)**2)**0.5"
   ]
  },
  {
   "cell_type": "code",
   "execution_count": 15,
   "metadata": {},
   "outputs": [
    {
     "name": "stdout",
     "output_type": "stream",
     "text": [
      "1.3333333333333333\n",
      "0.6666666666666667\n"
     ]
    }
   ],
   "source": [
    "x1 = 1\n",
    "y1 = 2\n",
    "x2 = 4\n",
    "y2 = 6\n",
    "\n",
    "m = ((y2 - y1)/(x2 - x1))\n",
    "\n",
    "print(m)\n",
    "\n",
    "# since y1 = m*x1 + c\n",
    "\n",
    "c = y1 - (m * x1)\n",
    "\n",
    "print(c)"
   ]
  },
  {
   "cell_type": "markdown",
   "metadata": {},
   "source": [
    "# Task - 01A\n",
    "###### Now you are given the equation of a line in the form of y = mx + c.\n",
    "###### You are given the values of m and c.\n",
    "###### You have to find the value of y "
   ]
  },
  {
   "cell_type": "code",
   "execution_count": 18,
   "metadata": {},
   "outputs": [
    {
     "name": "stdout",
     "output_type": "stream",
     "text": [
      "2.0 \n",
      " 6.0\n"
     ]
    }
   ],
   "source": [
    "x1 = 1\n",
    "x2 = 4\n",
    "m = 1.3333333333333333\n",
    "c = 0.6666666666666667\n",
    "\n",
    "y1 = (m * x1) + c\n",
    "y2 = (m * x2) + c\n",
    "print(y1, \"\\n\" ,y2)"
   ]
  },
  {
   "cell_type": "markdown",
   "metadata": {},
   "source": []
  },
  {
   "cell_type": "markdown",
   "metadata": {},
   "source": []
  },
  {
   "cell_type": "markdown",
   "metadata": {},
   "source": [
    "# Task - 01B\n",
    "###### You are given only the x cordinates of the two points (x1, x2)\n",
    "###### Find the points \n",
    "###### Find the corresponding distance"
   ]
  },
  {
   "cell_type": "code",
   "execution_count": 19,
   "metadata": {},
   "outputs": [
    {
     "name": "stdout",
     "output_type": "stream",
     "text": [
      "5.0\n"
     ]
    }
   ],
   "source": [
    "x1 = 1\n",
    "x2 = 4\n",
    "m = 1.3333333333333333\n",
    "c = 0.6666666666666667\n",
    "\n",
    "y1 = (m * x1) + c\n",
    "y2 = (m * x2) + c\n",
    "\n",
    "distance = ((x2 - x1) ** 2 + (y2 - y1) ** 2) ** .5\n",
    "print(distance)"
   ]
  }
 ],
 "metadata": {
  "kernelspec": {
   "display_name": "Python 3",
   "language": "python",
   "name": "python3"
  },
  "language_info": {
   "codemirror_mode": {
    "name": "ipython",
    "version": 3
   },
   "file_extension": ".py",
   "mimetype": "text/x-python",
   "name": "python",
   "nbconvert_exporter": "python",
   "pygments_lexer": "ipython3",
   "version": "3.12.3"
  }
 },
 "nbformat": 4,
 "nbformat_minor": 2
}
