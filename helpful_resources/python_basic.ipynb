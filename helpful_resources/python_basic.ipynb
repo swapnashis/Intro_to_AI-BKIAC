{
  "nbformat": 4,
  "nbformat_minor": 0,
  "metadata": {
    "colab": {
      "provenance": []
    },
    "kernelspec": {
      "name": "python3",
      "display_name": "Python 3"
    },
    "language_info": {
      "name": "python"
    }
  },
  "cells": [
    {
      "cell_type": "markdown",
      "source": [
        "## Class-1"
      ],
      "metadata": {
        "id": "h2XcwNnsmI-7"
      }
    },
    {
      "cell_type": "code",
      "execution_count": null,
      "metadata": {
        "colab": {
          "base_uri": "https://localhost:8080/"
        },
        "id": "X5Yf32ZrUVI_",
        "outputId": "c86fbc09-044c-44b5-e24a-9bd1d13d1982"
      },
      "outputs": [
        {
          "output_type": "stream",
          "name": "stdout",
          "text": [
            "Hello World\n",
            "\n",
            "3rd line\n",
            "h\n",
            "\n",
            "ello156\n"
          ]
        }
      ],
      "source": [
        "print('''Hello World\n",
        "\n",
        "3rd line''')\n",
        "\n",
        "print(\"\"\"h\n",
        "\n",
        "ello\"\"\", end='')\n",
        "\n",
        "\n",
        "\n",
        "\n",
        "\n",
        "print(156)"
      ]
    },
    {
      "cell_type": "code",
      "source": [
        "print('\"hello\"')"
      ],
      "metadata": {
        "colab": {
          "base_uri": "https://localhost:8080/"
        },
        "id": "RS54HUelh08o",
        "outputId": "6f04d581-7224-4e93-c08b-c679379a06da"
      },
      "execution_count": null,
      "outputs": [
        {
          "output_type": "stream",
          "name": "stdout",
          "text": [
            "\"hello\"\n"
          ]
        }
      ]
    },
    {
      "cell_type": "code",
      "source": [
        "a = 10\n",
        "\n",
        "a"
      ],
      "metadata": {
        "colab": {
          "base_uri": "https://localhost:8080/"
        },
        "id": "Lpb0zt2Rbsfm",
        "outputId": "637d1d87-84a4-4623-d90f-8f1ba9246b4f"
      },
      "execution_count": null,
      "outputs": [
        {
          "output_type": "execute_result",
          "data": {
            "text/plain": [
              "10"
            ]
          },
          "metadata": {},
          "execution_count": 21
        }
      ]
    },
    {
      "cell_type": "code",
      "source": [
        "a = 50"
      ],
      "metadata": {
        "id": "Ra6DQzUDZLdJ"
      },
      "execution_count": null,
      "outputs": []
    },
    {
      "cell_type": "code",
      "source": [
        "a"
      ],
      "metadata": {
        "colab": {
          "base_uri": "https://localhost:8080/"
        },
        "id": "N2Yh37LCcjs2",
        "outputId": "5f9f35f9-4359-43f8-f9e2-6187581d6270"
      },
      "execution_count": null,
      "outputs": [
        {
          "output_type": "execute_result",
          "data": {
            "text/plain": [
              "50"
            ]
          },
          "metadata": {},
          "execution_count": 20
        }
      ]
    },
    {
      "cell_type": "code",
      "source": [
        "a=10\n",
        "b=50\n",
        "c=100\n",
        "print(a, b, c)\n",
        "print(a)\n",
        "print(b)\n",
        "print(c)\n",
        "\n",
        "a = 50\n",
        "b=10\n",
        "\n",
        "print(a, b)"
      ],
      "metadata": {
        "colab": {
          "base_uri": "https://localhost:8080/"
        },
        "id": "oZovXrXgczv2",
        "outputId": "afb3f254-da10-4bfa-b3d2-47869c05a844"
      },
      "execution_count": null,
      "outputs": [
        {
          "output_type": "stream",
          "name": "stdout",
          "text": [
            "10 50 100\n",
            "10\n",
            "50\n",
            "100\n",
            "50 10\n"
          ]
        }
      ]
    },
    {
      "cell_type": "code",
      "source": [
        "a=[100, 20, 30, 50, 60, 70, 100]\n",
        "print(a)\n",
        "print(a[1])\n",
        "print(a[-3])\n",
        "print(a[1:5])\n",
        "print(a[-5:-2])\n",
        "print(a[5:1])\n",
        "print(a[-1:-5])\n",
        "print(a[3:7])\n",
        "print(a[3:])"
      ],
      "metadata": {
        "colab": {
          "base_uri": "https://localhost:8080/"
        },
        "id": "QdP6BYtEdXnf",
        "outputId": "936ee3e7-4006-4e13-a400-32df6b047088"
      },
      "execution_count": null,
      "outputs": [
        {
          "output_type": "stream",
          "name": "stdout",
          "text": [
            "[100, 20, 30, 50, 60, 70, 100]\n",
            "20\n",
            "60\n",
            "[20, 30, 50, 60]\n",
            "[30, 50, 60]\n",
            "[]\n",
            "[]\n",
            "[50, 60, 70, 100]\n",
            "[50, 60, 70, 100]\n"
          ]
        }
      ]
    },
    {
      "cell_type": "code",
      "source": [],
      "metadata": {
        "id": "kH_HRM14cznm"
      },
      "execution_count": null,
      "outputs": []
    },
    {
      "cell_type": "markdown",
      "source": [
        "## Class-2"
      ],
      "metadata": {
        "id": "sJPWgydbOxlN"
      }
    },
    {
      "cell_type": "markdown",
      "source": [
        "### Topics\n",
        "\n",
        "\n",
        "*   Array operations\n",
        "*   Tuple\n",
        "*   Comments\n",
        "*   Dictionary\n",
        "*   Basic Operations\n",
        "*   User Input\n",
        "*   Membership Operator\n",
        "*   Conditional Statement\n",
        "\n"
      ],
      "metadata": {
        "id": "fSEda4zkO179"
      }
    },
    {
      "cell_type": "markdown",
      "source": [
        "### Data structures"
      ],
      "metadata": {
        "id": "vy38SiTi1-sO"
      }
    },
    {
      "cell_type": "code",
      "source": [
        "a= [10, 20, 30, 40, 25]"
      ],
      "metadata": {
        "id": "_b2h1LWDXqNx"
      },
      "execution_count": null,
      "outputs": []
    },
    {
      "cell_type": "code",
      "source": [
        "print(a)"
      ],
      "metadata": {
        "id": "BPLh5cnKPvDm",
        "colab": {
          "base_uri": "https://localhost:8080/"
        },
        "outputId": "a96c7da1-105f-4579-f94c-71ac60057de6"
      },
      "execution_count": null,
      "outputs": [
        {
          "output_type": "stream",
          "name": "stdout",
          "text": [
            "[100, 20, 30, 50, 60, 70, 100]\n"
          ]
        }
      ]
    },
    {
      "cell_type": "code",
      "source": [
        "a[1] = 5000"
      ],
      "metadata": {
        "id": "J1V469hIO0kr"
      },
      "execution_count": null,
      "outputs": []
    },
    {
      "cell_type": "code",
      "source": [
        "print(a)"
      ],
      "metadata": {
        "colab": {
          "base_uri": "https://localhost:8080/"
        },
        "id": "RzU52OgsWmBR",
        "outputId": "0b55b048-4e54-4f39-c83c-0afe3f2e83e4"
      },
      "execution_count": null,
      "outputs": [
        {
          "output_type": "stream",
          "name": "stdout",
          "text": [
            "10\n"
          ]
        }
      ]
    },
    {
      "cell_type": "code",
      "source": [
        "a = 10"
      ],
      "metadata": {
        "id": "Ow0ZpdcmWs4J"
      },
      "execution_count": null,
      "outputs": []
    },
    {
      "cell_type": "code",
      "source": [
        "a= [10, 20, 30, 40, 25]"
      ],
      "metadata": {
        "id": "l9KvXtHqW3fR"
      },
      "execution_count": null,
      "outputs": []
    },
    {
      "cell_type": "code",
      "source": [
        "print(a)"
      ],
      "metadata": {
        "colab": {
          "base_uri": "https://localhost:8080/"
        },
        "id": "swmb-gxSW7Yp",
        "outputId": "6775e74f-48f2-4001-b59f-ad8147b14af6"
      },
      "execution_count": null,
      "outputs": [
        {
          "output_type": "stream",
          "name": "stdout",
          "text": [
            "[10, 20, 30, 40, 25]\n"
          ]
        }
      ]
    },
    {
      "cell_type": "code",
      "source": [
        "a.append(5000)"
      ],
      "metadata": {
        "id": "6tHXJrvCW9YT"
      },
      "execution_count": null,
      "outputs": []
    },
    {
      "cell_type": "code",
      "source": [
        "print(a)"
      ],
      "metadata": {
        "colab": {
          "base_uri": "https://localhost:8080/"
        },
        "id": "qCzzgOWeXHu5",
        "outputId": "dbc187de-8b28-4b83-d82a-7b32bebae2f4"
      },
      "execution_count": null,
      "outputs": [
        {
          "output_type": "stream",
          "name": "stdout",
          "text": [
            "[10, 20, 30, 40, 25, 5000]\n"
          ]
        }
      ]
    },
    {
      "cell_type": "code",
      "source": [
        "print(a)\n",
        "a.extend([10, 466, 65])\n",
        "print(a)"
      ],
      "metadata": {
        "colab": {
          "base_uri": "https://localhost:8080/"
        },
        "id": "etC_1HeMXIhB",
        "outputId": "35b4c289-8a8c-468d-dba8-a7b00d7e9054"
      },
      "execution_count": null,
      "outputs": [
        {
          "output_type": "stream",
          "name": "stdout",
          "text": [
            "[10, 20, 30, 40, 25, 5000]\n",
            "[10, 20, 30, 40, 25, 5000, 10, 466, 65]\n"
          ]
        }
      ]
    },
    {
      "cell_type": "code",
      "source": [
        "print(a)\n",
        "a.insert(5, 6748676)\n",
        "print(a)"
      ],
      "metadata": {
        "colab": {
          "base_uri": "https://localhost:8080/"
        },
        "id": "xdcvU4_pZOQD",
        "outputId": "341d0972-ca19-4d0a-860f-89c0a99edef5"
      },
      "execution_count": null,
      "outputs": [
        {
          "output_type": "stream",
          "name": "stdout",
          "text": [
            "[10, 20, 30, 40, 25, 5000, 10, 466, 65]\n",
            "[10, 20, 30, 40, 25, 6748676, 5000, 10, 466, 65]\n"
          ]
        }
      ]
    },
    {
      "cell_type": "code",
      "source": [
        "print(a)\n",
        "a.remove(20)\n",
        "print(a)"
      ],
      "metadata": {
        "colab": {
          "base_uri": "https://localhost:8080/"
        },
        "id": "lVNQaEFxaBBE",
        "outputId": "77618bb0-df3a-47e0-e967-9a96357717fe"
      },
      "execution_count": null,
      "outputs": [
        {
          "output_type": "stream",
          "name": "stdout",
          "text": [
            "[10, 20, 30, 40, 25, 6748676, 5000, 10, 466, 65]\n",
            "[10, 30, 40, 25, 6748676, 5000, 10, 466, 65]\n"
          ]
        }
      ]
    },
    {
      "cell_type": "code",
      "source": [
        "print(a)\n",
        "a.remove(10)\n",
        "a.remove(25)\n",
        "print(a)"
      ],
      "metadata": {
        "colab": {
          "base_uri": "https://localhost:8080/"
        },
        "id": "Aa__mXeOaStT",
        "outputId": "d376e864-cb0d-4c26-d16a-172472ac876b"
      },
      "execution_count": null,
      "outputs": [
        {
          "output_type": "stream",
          "name": "stdout",
          "text": [
            "[30, 40, 25, 6748676, 5000, 10, 466, 65]\n",
            "[30, 40, 6748676, 5000, 466, 65]\n"
          ]
        }
      ]
    },
    {
      "cell_type": "code",
      "source": [
        "print(a)\n",
        "a.pop(3)\n",
        "print(a)"
      ],
      "metadata": {
        "colab": {
          "base_uri": "https://localhost:8080/"
        },
        "id": "mKutgLFAaXRL",
        "outputId": "8ba898d7-d7b0-4aad-8778-cde7505d4a11"
      },
      "execution_count": null,
      "outputs": [
        {
          "output_type": "stream",
          "name": "stdout",
          "text": [
            "[30, 40, 6748676, 5000, 466, 65]\n",
            "[30, 40, 6748676, 466, 65]\n"
          ]
        }
      ]
    },
    {
      "cell_type": "code",
      "source": [
        "t = (10, 50, 60)"
      ],
      "metadata": {
        "id": "w1fzIiiDa56j"
      },
      "execution_count": null,
      "outputs": []
    },
    {
      "cell_type": "code",
      "source": [
        "print(t)\n",
        "print(t[1])\n",
        "print(t[0:2])"
      ],
      "metadata": {
        "colab": {
          "base_uri": "https://localhost:8080/"
        },
        "id": "xR_kWlM3cRpO",
        "outputId": "10306780-e8c8-4e48-e221-f03cce1c2d84"
      },
      "execution_count": null,
      "outputs": [
        {
          "output_type": "stream",
          "name": "stdout",
          "text": [
            "(10, 50, 60)\n",
            "50\n",
            "(10, 50)\n"
          ]
        }
      ]
    },
    {
      "cell_type": "code",
      "source": [
        "t[1] = 50"
      ],
      "metadata": {
        "colab": {
          "base_uri": "https://localhost:8080/",
          "height": 176
        },
        "id": "nk8Bh5bscgcT",
        "outputId": "3b11b5df-2333-4fe9-8c54-6545997e657d"
      },
      "execution_count": null,
      "outputs": [
        {
          "output_type": "error",
          "ename": "TypeError",
          "evalue": "ignored",
          "traceback": [
            "\u001b[0;31m---------------------------------------------------------------------------\u001b[0m",
            "\u001b[0;31mTypeError\u001b[0m                                 Traceback (most recent call last)",
            "\u001b[0;32m<ipython-input-20-c4995f6891a9>\u001b[0m in \u001b[0;36m<cell line: 1>\u001b[0;34m()\u001b[0m\n\u001b[0;32m----> 1\u001b[0;31m \u001b[0mt\u001b[0m\u001b[0;34m[\u001b[0m\u001b[0;36m1\u001b[0m\u001b[0;34m]\u001b[0m \u001b[0;34m=\u001b[0m \u001b[0;36m50\u001b[0m\u001b[0;34m\u001b[0m\u001b[0;34m\u001b[0m\u001b[0m\n\u001b[0m",
            "\u001b[0;31mTypeError\u001b[0m: 'tuple' object does not support item assignment"
          ]
        }
      ]
    },
    {
      "cell_type": "code",
      "source": [
        "print(a)\n",
        "print(t)"
      ],
      "metadata": {
        "colab": {
          "base_uri": "https://localhost:8080/"
        },
        "id": "ujbWJZGGc12U",
        "outputId": "69fea9ca-61f9-4fa5-fc62-b70cd8ddb20d"
      },
      "execution_count": null,
      "outputs": [
        {
          "output_type": "stream",
          "name": "stdout",
          "text": [
            "[30, 40, 6748676, 466, 65]\n",
            "(10, 50, 60)\n"
          ]
        }
      ]
    },
    {
      "cell_type": "code",
      "source": [],
      "metadata": {
        "id": "980QnJQ7dKhc"
      },
      "execution_count": null,
      "outputs": []
    },
    {
      "cell_type": "code",
      "source": [
        "print(a)\n",
        "b = tuple(a)\n",
        "print(a)\n",
        "print(b)"
      ],
      "metadata": {
        "colab": {
          "base_uri": "https://localhost:8080/"
        },
        "id": "YwyShan9c7sk",
        "outputId": "a9f4abe6-1c87-4596-f1a4-312a2f035109"
      },
      "execution_count": null,
      "outputs": [
        {
          "output_type": "stream",
          "name": "stdout",
          "text": [
            "[30, 40, 6748676, 466, 65]\n",
            "(30, 40, 6748676, 466, 65)\n"
          ]
        }
      ]
    },
    {
      "cell_type": "code",
      "source": [
        "print(b[0:2])"
      ],
      "metadata": {
        "colab": {
          "base_uri": "https://localhost:8080/"
        },
        "id": "nZ9HIrHFdexs",
        "outputId": "2a502258-c3e0-41d9-bc94-44fbb01cc397"
      },
      "execution_count": null,
      "outputs": [
        {
          "output_type": "stream",
          "name": "stdout",
          "text": [
            "(30, 40)\n"
          ]
        }
      ]
    },
    {
      "cell_type": "code",
      "source": [
        "print(a)\n",
        "a = tuple(a)\n",
        "print(a)"
      ],
      "metadata": {
        "colab": {
          "base_uri": "https://localhost:8080/"
        },
        "id": "_HSbm3Gle5BV",
        "outputId": "cf76188c-77a6-4bbb-c8ae-febf1f443dc7"
      },
      "execution_count": null,
      "outputs": [
        {
          "output_type": "stream",
          "name": "stdout",
          "text": [
            "(30, 40, 6748676, 466, 65)\n",
            "(30, 40, 6748676, 466, 65)\n"
          ]
        }
      ]
    },
    {
      "cell_type": "code",
      "source": [
        "print(a)"
      ],
      "metadata": {
        "colab": {
          "base_uri": "https://localhost:8080/"
        },
        "id": "clDpR-tne6-V",
        "outputId": "e8bd240f-0e7a-4de6-de90-1dab64e4c3e1"
      },
      "execution_count": null,
      "outputs": [
        {
          "output_type": "stream",
          "name": "stdout",
          "text": [
            "(30, 40, 6748676, 466, 65)\n"
          ]
        }
      ]
    },
    {
      "cell_type": "code",
      "source": [
        "a[2] = 456456"
      ],
      "metadata": {
        "colab": {
          "base_uri": "https://localhost:8080/",
          "height": 176
        },
        "id": "hihnqYPEe9At",
        "outputId": "dce562c7-3448-4ec6-d8bf-904d4232f874"
      },
      "execution_count": null,
      "outputs": [
        {
          "output_type": "error",
          "ename": "TypeError",
          "evalue": "ignored",
          "traceback": [
            "\u001b[0;31m---------------------------------------------------------------------------\u001b[0m",
            "\u001b[0;31mTypeError\u001b[0m                                 Traceback (most recent call last)",
            "\u001b[0;32m<ipython-input-31-4180b17fe87f>\u001b[0m in \u001b[0;36m<cell line: 1>\u001b[0;34m()\u001b[0m\n\u001b[0;32m----> 1\u001b[0;31m \u001b[0ma\u001b[0m\u001b[0;34m[\u001b[0m\u001b[0;36m2\u001b[0m\u001b[0;34m]\u001b[0m \u001b[0;34m=\u001b[0m \u001b[0;36m456456\u001b[0m\u001b[0;34m\u001b[0m\u001b[0;34m\u001b[0m\u001b[0m\n\u001b[0m",
            "\u001b[0;31mTypeError\u001b[0m: 'tuple' object does not support item assignment"
          ]
        }
      ]
    },
    {
      "cell_type": "code",
      "source": [
        "c = list(t)\n",
        "print(c)"
      ],
      "metadata": {
        "colab": {
          "base_uri": "https://localhost:8080/"
        },
        "id": "dxfe8gvLe_bd",
        "outputId": "14f4ef1b-d3aa-43eb-dcef-a36cf02a89e8"
      },
      "execution_count": null,
      "outputs": [
        {
          "output_type": "stream",
          "name": "stdout",
          "text": [
            "[10, 50, 60]\n"
          ]
        }
      ]
    },
    {
      "cell_type": "code",
      "source": [
        "d = {\n",
        "    \"name\": \"abc\",\n",
        "    \"email\": 'aabc@gmail.com',\n",
        "    2: 500\n",
        "}\n",
        "print(d)"
      ],
      "metadata": {
        "colab": {
          "base_uri": "https://localhost:8080/"
        },
        "id": "5xhwX3i7kJIb",
        "outputId": "a2b0d8b1-c1f4-42a1-b81b-2677f99cdb5e"
      },
      "execution_count": null,
      "outputs": [
        {
          "output_type": "stream",
          "name": "stdout",
          "text": [
            "{'name': 'abc', 'email': 'aabc@gmail.com', 2: 500}\n"
          ]
        }
      ]
    },
    {
      "cell_type": "code",
      "source": [
        "print(d[\"name\"])"
      ],
      "metadata": {
        "colab": {
          "base_uri": "https://localhost:8080/"
        },
        "id": "Gcf6lluslWuv",
        "outputId": "2fc9d773-f319-4b0f-cf58-20244117bc80"
      },
      "execution_count": null,
      "outputs": [
        {
          "output_type": "stream",
          "name": "stdout",
          "text": [
            "abc\n"
          ]
        }
      ]
    },
    {
      "cell_type": "code",
      "source": [
        "print(d[0])"
      ],
      "metadata": {
        "colab": {
          "base_uri": "https://localhost:8080/",
          "height": 176
        },
        "id": "i_p0iQVAlZ7J",
        "outputId": "9a55bc41-a654-4538-ac5e-b3779d340311"
      },
      "execution_count": null,
      "outputs": [
        {
          "output_type": "error",
          "ename": "KeyError",
          "evalue": "ignored",
          "traceback": [
            "\u001b[0;31m---------------------------------------------------------------------------\u001b[0m",
            "\u001b[0;31mKeyError\u001b[0m                                  Traceback (most recent call last)",
            "\u001b[0;32m<ipython-input-38-c7332189be96>\u001b[0m in \u001b[0;36m<cell line: 1>\u001b[0;34m()\u001b[0m\n\u001b[0;32m----> 1\u001b[0;31m \u001b[0mprint\u001b[0m\u001b[0;34m(\u001b[0m\u001b[0md\u001b[0m\u001b[0;34m[\u001b[0m\u001b[0;36m0\u001b[0m\u001b[0;34m]\u001b[0m\u001b[0;34m)\u001b[0m\u001b[0;34m\u001b[0m\u001b[0;34m\u001b[0m\u001b[0m\n\u001b[0m",
            "\u001b[0;31mKeyError\u001b[0m: 0"
          ]
        }
      ]
    },
    {
      "cell_type": "code",
      "source": [
        "print(d.keys())"
      ],
      "metadata": {
        "colab": {
          "base_uri": "https://localhost:8080/"
        },
        "id": "Y5jP0xa4mFXJ",
        "outputId": "0acf29a7-e402-4707-e1bc-fa5bddb13c68"
      },
      "execution_count": null,
      "outputs": [
        {
          "output_type": "stream",
          "name": "stdout",
          "text": [
            "dict_keys(['name', 'email', 2])\n"
          ]
        }
      ]
    },
    {
      "cell_type": "code",
      "source": [
        "print(d.values())"
      ],
      "metadata": {
        "colab": {
          "base_uri": "https://localhost:8080/"
        },
        "id": "quOG9y0ZmH3b",
        "outputId": "f66b4037-54b6-440f-f6e2-2a210f648571"
      },
      "execution_count": null,
      "outputs": [
        {
          "output_type": "stream",
          "name": "stdout",
          "text": [
            "dict_values(['abc', 'aabc@gmail.com', 500])\n"
          ]
        }
      ]
    },
    {
      "cell_type": "code",
      "source": [
        "a = set([10, 20, 30, 40, 10])\n",
        "print(a)"
      ],
      "metadata": {
        "colab": {
          "base_uri": "https://localhost:8080/"
        },
        "id": "7WFLHxguns_p",
        "outputId": "c4769451-ce0f-4518-8008-1819a6309a41"
      },
      "execution_count": null,
      "outputs": [
        {
          "output_type": "stream",
          "name": "stdout",
          "text": [
            "{40, 10, 20, 30}\n"
          ]
        }
      ]
    },
    {
      "cell_type": "code",
      "source": [
        "print(set([1, 2, 3]) - set([5, 6, 1]))"
      ],
      "metadata": {
        "colab": {
          "base_uri": "https://localhost:8080/"
        },
        "id": "mi9InMq_n5UM",
        "outputId": "01eae5c1-3eca-42f5-d318-6a305decfd27"
      },
      "execution_count": null,
      "outputs": [
        {
          "output_type": "stream",
          "name": "stdout",
          "text": [
            "{2, 3}\n"
          ]
        }
      ]
    },
    {
      "cell_type": "code",
      "source": [
        "a = set([1, 2, 3])"
      ],
      "metadata": {
        "id": "NDFDZWbVoYR4"
      },
      "execution_count": null,
      "outputs": []
    },
    {
      "cell_type": "code",
      "source": [
        "print(a)"
      ],
      "metadata": {
        "colab": {
          "base_uri": "https://localhost:8080/"
        },
        "id": "R9I2l7ACox2R",
        "outputId": "dec06f4c-d9a7-4074-f3c2-2398415c07f4"
      },
      "execution_count": null,
      "outputs": [
        {
          "output_type": "stream",
          "name": "stdout",
          "text": [
            "{1, 2, 3}\n"
          ]
        }
      ]
    },
    {
      "cell_type": "code",
      "source": [
        "a.add(5)"
      ],
      "metadata": {
        "id": "SpuCciowozNS"
      },
      "execution_count": null,
      "outputs": []
    },
    {
      "cell_type": "code",
      "source": [
        "print(a)"
      ],
      "metadata": {
        "colab": {
          "base_uri": "https://localhost:8080/"
        },
        "id": "hv3CQNI6o1y9",
        "outputId": "0abca390-0709-4498-ecb8-b54958023c11"
      },
      "execution_count": null,
      "outputs": [
        {
          "output_type": "stream",
          "name": "stdout",
          "text": [
            "{1, 2, 3, 5}\n"
          ]
        }
      ]
    },
    {
      "cell_type": "code",
      "source": [
        "b = set([2, 8, 9])"
      ],
      "metadata": {
        "id": "TuqxvDCco8Mp"
      },
      "execution_count": null,
      "outputs": []
    },
    {
      "cell_type": "code",
      "source": [
        "a.union(b)"
      ],
      "metadata": {
        "colab": {
          "base_uri": "https://localhost:8080/"
        },
        "id": "W5WzO6f6o4EQ",
        "outputId": "146f2616-1d1d-424b-c02d-2a85bf5eeabb"
      },
      "execution_count": null,
      "outputs": [
        {
          "output_type": "execute_result",
          "data": {
            "text/plain": [
              "{1, 2, 3, 5, 8, 9}"
            ]
          },
          "metadata": {},
          "execution_count": 54
        }
      ]
    },
    {
      "cell_type": "code",
      "source": [
        "print(a)\n",
        "print(b)"
      ],
      "metadata": {
        "colab": {
          "base_uri": "https://localhost:8080/"
        },
        "id": "wRUjMPvopMBN",
        "outputId": "f3213e35-6008-4f4b-abb0-55981c840f92"
      },
      "execution_count": null,
      "outputs": [
        {
          "output_type": "stream",
          "name": "stdout",
          "text": [
            "{1, 2, 3, 5}\n",
            "{8, 9, 2}\n"
          ]
        }
      ]
    },
    {
      "cell_type": "code",
      "source": [
        "c = a.union(b)"
      ],
      "metadata": {
        "id": "1CIUkXF0pDoP"
      },
      "execution_count": null,
      "outputs": []
    },
    {
      "cell_type": "code",
      "source": [
        "print(a)\n",
        "print(b)\n",
        "print(c)"
      ],
      "metadata": {
        "colab": {
          "base_uri": "https://localhost:8080/"
        },
        "id": "MqYAyk_6pFex",
        "outputId": "34886e6f-ad1b-4943-eeff-cc661e8846c0"
      },
      "execution_count": null,
      "outputs": [
        {
          "output_type": "stream",
          "name": "stdout",
          "text": [
            "{1, 2, 3, 5}\n",
            "{8, 9, 2}\n",
            "{1, 2, 3, 5, 8, 9}\n"
          ]
        }
      ]
    },
    {
      "cell_type": "code",
      "source": [
        "d = a.intersection(b)\n",
        "print(d)"
      ],
      "metadata": {
        "colab": {
          "base_uri": "https://localhost:8080/"
        },
        "id": "SObwBoVaqexa",
        "outputId": "f384fe4d-c46c-4428-8578-d574bd16a07c"
      },
      "execution_count": null,
      "outputs": [
        {
          "output_type": "stream",
          "name": "stdout",
          "text": [
            "{2}\n"
          ]
        }
      ]
    },
    {
      "cell_type": "code",
      "source": [
        "e = a.difference(b)\n",
        "print(e)"
      ],
      "metadata": {
        "colab": {
          "base_uri": "https://localhost:8080/"
        },
        "id": "RHSjfKnOqjFH",
        "outputId": "42821d35-fa7a-4ea5-931b-e92e8f24fac8"
      },
      "execution_count": null,
      "outputs": [
        {
          "output_type": "stream",
          "name": "stdout",
          "text": [
            "{1, 3, 5}\n"
          ]
        }
      ]
    },
    {
      "cell_type": "code",
      "source": [
        "f = a-b\n",
        "print(f)"
      ],
      "metadata": {
        "colab": {
          "base_uri": "https://localhost:8080/"
        },
        "id": "m8zaJlrnqpOx",
        "outputId": "ae03027a-0955-45ee-ec24-159199a856d4"
      },
      "execution_count": null,
      "outputs": [
        {
          "output_type": "stream",
          "name": "stdout",
          "text": [
            "{1, 3, 5}\n"
          ]
        }
      ]
    },
    {
      "cell_type": "markdown",
      "source": [
        "### Operator"
      ],
      "metadata": {
        "id": "MhYugb6Xr58F"
      }
    },
    {
      "cell_type": "code",
      "source": [
        "a = 10\n",
        "b = 15"
      ],
      "metadata": {
        "id": "dXZvCO1ar2uz"
      },
      "execution_count": null,
      "outputs": []
    },
    {
      "cell_type": "code",
      "source": [
        "print(a+b)\n",
        "print(a-b)\n",
        "print(a*b)\n",
        "print(a/b)\n",
        "print(a//b)\n",
        "print(17/3)\n",
        "print(17//3)\n",
        "print(round(17/3))\n",
        "print(a%b)\n",
        "print(25%7)\n",
        "print(a**b)\n",
        "print(2**5)"
      ],
      "metadata": {
        "colab": {
          "base_uri": "https://localhost:8080/"
        },
        "id": "VZ_Bwfnhr-Sy",
        "outputId": "4b3478f3-358b-481f-a001-8b9d1935530c"
      },
      "execution_count": null,
      "outputs": [
        {
          "output_type": "stream",
          "name": "stdout",
          "text": [
            "25\n",
            "-5\n",
            "150\n",
            "0.6666666666666666\n",
            "0\n",
            "5.666666666666667\n",
            "5\n",
            "6\n",
            "10\n",
            "4\n",
            "1000000000000000\n",
            "32\n"
          ]
        }
      ]
    },
    {
      "cell_type": "code",
      "source": [
        "print(a)\n",
        "print(b)\n",
        "print(a>b)\n",
        "print(a>=b)\n",
        "print(a<b)\n",
        "print(a<=b)\n",
        "print(a==b)\n",
        "print(a!=b)\n"
      ],
      "metadata": {
        "colab": {
          "base_uri": "https://localhost:8080/"
        },
        "id": "jeE0qooAsASt",
        "outputId": "bd088c03-4205-459d-962c-cc72e874ac92"
      },
      "execution_count": null,
      "outputs": [
        {
          "output_type": "stream",
          "name": "stdout",
          "text": [
            "10\n",
            "15\n",
            "False\n",
            "False\n",
            "True\n",
            "True\n",
            "False\n",
            "True\n"
          ]
        }
      ]
    },
    {
      "cell_type": "code",
      "source": [
        "a = [10, 25, 60, 50]"
      ],
      "metadata": {
        "id": "0ka8-XMuuIgc"
      },
      "execution_count": null,
      "outputs": []
    },
    {
      "cell_type": "code",
      "source": [
        "print(10 in a)\n",
        "print(50 in a)\n",
        "print(500 in a)\n",
        "print(55 not in a)\n",
        "print(60 not in a)"
      ],
      "metadata": {
        "colab": {
          "base_uri": "https://localhost:8080/"
        },
        "id": "6S7_jdZIvQrp",
        "outputId": "7b7d6c93-ed4c-40f6-9baa-49147d29a2b2"
      },
      "execution_count": null,
      "outputs": [
        {
          "output_type": "stream",
          "name": "stdout",
          "text": [
            "True\n",
            "True\n",
            "False\n",
            "True\n",
            "False\n"
          ]
        }
      ]
    },
    {
      "cell_type": "code",
      "source": [
        "print(True and True)\n",
        "print(True and False)\n",
        "print(False and True)\n",
        "print(True or False)\n",
        "print(not True)"
      ],
      "metadata": {
        "colab": {
          "base_uri": "https://localhost:8080/"
        },
        "id": "FI9MuvZcxF40",
        "outputId": "e3a1c69f-2529-4c33-e1e3-0b319e1d9d8b"
      },
      "execution_count": null,
      "outputs": [
        {
          "output_type": "stream",
          "name": "stdout",
          "text": [
            "True\n",
            "False\n",
            "False\n",
            "True\n",
            "False\n"
          ]
        }
      ]
    },
    {
      "cell_type": "code",
      "source": [
        "print(bin(5))\n",
        "print(bin(2))\n",
        "print(bin(7))\n",
        "print(bin(0))"
      ],
      "metadata": {
        "colab": {
          "base_uri": "https://localhost:8080/"
        },
        "id": "ai1Luw99yp2Y",
        "outputId": "e2140574-1e14-4f75-a9d3-a422d7c4d4cf"
      },
      "execution_count": null,
      "outputs": [
        {
          "output_type": "stream",
          "name": "stdout",
          "text": [
            "0b101\n",
            "0b10\n",
            "0b111\n",
            "0b0\n"
          ]
        }
      ]
    },
    {
      "cell_type": "code",
      "source": [
        "print(5 | 2)\n",
        "print(5 & 2)"
      ],
      "metadata": {
        "colab": {
          "base_uri": "https://localhost:8080/"
        },
        "id": "4xtW5oZbxOlV",
        "outputId": "116fbdae-756f-4bc7-9fa9-c4392a10a9fe"
      },
      "execution_count": null,
      "outputs": [
        {
          "output_type": "stream",
          "name": "stdout",
          "text": [
            "7\n",
            "0\n"
          ]
        }
      ]
    },
    {
      "cell_type": "code",
      "source": [
        "print(bin(15))\n",
        "print(hex(15))\n",
        "print(oct(15))"
      ],
      "metadata": {
        "colab": {
          "base_uri": "https://localhost:8080/"
        },
        "id": "PFEJjmoIzp8V",
        "outputId": "f4f87dc1-6a7d-45f9-c05e-2817c4f51c0d"
      },
      "execution_count": null,
      "outputs": [
        {
          "output_type": "stream",
          "name": "stdout",
          "text": [
            "0b1111\n",
            "0xf\n",
            "0o17\n"
          ]
        }
      ]
    },
    {
      "cell_type": "code",
      "source": [],
      "metadata": {
        "id": "sXL_-0To0Aug"
      },
      "execution_count": null,
      "outputs": []
    },
    {
      "cell_type": "markdown",
      "source": [
        "### Commenting"
      ],
      "metadata": {
        "id": "pYf2mWvc0TNV"
      }
    },
    {
      "cell_type": "code",
      "source": [
        "a = 2\n",
        "b = 3\n",
        "print(a**b) # jhgkh g j  ** means power"
      ],
      "metadata": {
        "colab": {
          "base_uri": "https://localhost:8080/"
        },
        "id": "iRF_zsv-0VuW",
        "outputId": "7c5ddb18-ed5e-443a-a0a5-c6858c043fb5"
      },
      "execution_count": null,
      "outputs": [
        {
          "output_type": "stream",
          "name": "stdout",
          "text": [
            "8\n"
          ]
        }
      ]
    },
    {
      "cell_type": "code",
      "source": [
        "\"\"\"\n",
        "\n",
        "Summing a and b\n",
        "and storing result in c\n",
        "\n",
        "\"\"\"\n",
        "\n",
        "c = a+b\n",
        "print(c)"
      ],
      "metadata": {
        "colab": {
          "base_uri": "https://localhost:8080/"
        },
        "id": "iCBVfpPx0nHt",
        "outputId": "a44603f0-7d70-46c9-de84-527083a0e75f"
      },
      "execution_count": null,
      "outputs": [
        {
          "output_type": "stream",
          "name": "stdout",
          "text": [
            "5\n"
          ]
        }
      ]
    },
    {
      "cell_type": "markdown",
      "source": [
        "### User Input"
      ],
      "metadata": {
        "id": "dn3WIefe2Eyw"
      }
    },
    {
      "cell_type": "code",
      "source": [
        "a = input(\"Enter a: \")\n",
        "b = input(\"Enter b: \")\n",
        "\n",
        "print(a)\n",
        "print(b)\n",
        "print(type(a))\n",
        "print(type(b))\n",
        "print(int(a)+int(b))"
      ],
      "metadata": {
        "colab": {
          "base_uri": "https://localhost:8080/"
        },
        "id": "X1bHwIJq2ESu",
        "outputId": "356811fb-e320-4959-a4e7-c18a78b8e114"
      },
      "execution_count": null,
      "outputs": [
        {
          "output_type": "stream",
          "name": "stdout",
          "text": [
            "Enter a: 50\n",
            "Enter b: 60\n",
            "50\n",
            "60\n",
            "<class 'str'>\n",
            "<class 'str'>\n",
            "110\n"
          ]
        }
      ]
    },
    {
      "cell_type": "markdown",
      "source": [
        "### Conditional statement"
      ],
      "metadata": {
        "id": "suA1jCKs4tGc"
      }
    },
    {
      "cell_type": "code",
      "source": [
        "print(50)"
      ],
      "metadata": {
        "colab": {
          "base_uri": "https://localhost:8080/"
        },
        "id": "RacU37q24vzK",
        "outputId": "b459fc56-cd14-4d34-99cf-266d1c678644"
      },
      "execution_count": null,
      "outputs": [
        {
          "output_type": "stream",
          "name": "stdout",
          "text": [
            "50\n"
          ]
        }
      ]
    },
    {
      "cell_type": "code",
      "source": [
        "a = [10, 20, 60, 50]\n",
        "\n",
        "# either if or else will be executed\n",
        "if 30 in a:\n",
        "  a.remove(30)\n",
        "  print(\"we are in if block\")\n",
        "else:\n",
        "  print(\"Element not in the list\")\n",
        "\n",
        "print(a)"
      ],
      "metadata": {
        "colab": {
          "base_uri": "https://localhost:8080/"
        },
        "id": "e2pkfcAo58KY",
        "outputId": "048d7c82-144e-4d59-c7a1-7c28e7d339b9"
      },
      "execution_count": null,
      "outputs": [
        {
          "output_type": "stream",
          "name": "stdout",
          "text": [
            "Element not in the list\n",
            "[10, 20, 60, 50]\n"
          ]
        }
      ]
    },
    {
      "cell_type": "code",
      "source": [],
      "metadata": {
        "id": "9jarOnmP6Eef"
      },
      "execution_count": null,
      "outputs": []
    },
    {
      "cell_type": "markdown",
      "source": [
        "## Class-3"
      ],
      "metadata": {
        "id": "6e40Qh7e7S25"
      }
    },
    {
      "cell_type": "markdown",
      "source": [
        "### Topic\n",
        "\n",
        "\n",
        "*   Conditional Statement\n",
        "*   Range\n",
        "*   Loop Statement\n",
        "*   Class\n",
        "\n",
        "\n"
      ],
      "metadata": {
        "id": "SiCR7wB67U0b"
      }
    },
    {
      "cell_type": "markdown",
      "source": [
        "### Conditional Statement"
      ],
      "metadata": {
        "id": "RGDj1-eWE2Hd"
      }
    },
    {
      "cell_type": "code",
      "source": [
        "mark = int(input())\n",
        "\n",
        "if mark >= 33:\n",
        "  print(\"Passed\")\n",
        "else:\n",
        "  print(\"Failed\")"
      ],
      "metadata": {
        "colab": {
          "base_uri": "https://localhost:8080/"
        },
        "id": "Fmyg6jki7g-G",
        "outputId": "6e5277ab-9fe3-455e-cd28-8188c4447360"
      },
      "execution_count": null,
      "outputs": [
        {
          "output_type": "stream",
          "name": "stdout",
          "text": [
            "50\n",
            "Passed\n"
          ]
        }
      ]
    },
    {
      "cell_type": "code",
      "source": [
        "mark = int(input())\n",
        "\n",
        "if mark >= 80:\n",
        "  print(\"A+\")\n",
        "else:\n",
        "  if mark >= 70:\n",
        "    print(\"A\")\n",
        "  else:\n",
        "    if mark >= 60:\n",
        "      print(\"B\")\n",
        "    else:\n",
        "      if mark >= 50:\n",
        "        print(\"C\")\n",
        "      else:\n",
        "        if mark >= 40:\n",
        "          print(\"D\")\n",
        "        else:\n",
        "          print(\"F\")"
      ],
      "metadata": {
        "colab": {
          "base_uri": "https://localhost:8080/"
        },
        "id": "6xVq8MHB9vm8",
        "outputId": "edac7656-0be0-4d46-f925-cdd1c0f19fc9"
      },
      "execution_count": null,
      "outputs": [
        {
          "output_type": "stream",
          "name": "stdout",
          "text": [
            "56\n",
            "C\n"
          ]
        }
      ]
    },
    {
      "cell_type": "code",
      "source": [
        "mark = int(input())\n",
        "\n",
        "if mark >= 80:\n",
        "  print(\"A+\")\n",
        "elif mark >= 70:\n",
        "  print(\"A\")\n",
        "elif mark >= 60:\n",
        "  print(\"B\")\n",
        "elif mark >= 50:\n",
        "  print(\"C\")\n",
        "elif mark >= 40:\n",
        "  print(\"D\")\n",
        "else:\n",
        "  print(\"F\")"
      ],
      "metadata": {
        "colab": {
          "base_uri": "https://localhost:8080/"
        },
        "id": "R5H-4xtV-oKE",
        "outputId": "886116f1-1ff2-485e-d21a-73fb031ea916"
      },
      "execution_count": null,
      "outputs": [
        {
          "output_type": "stream",
          "name": "stdout",
          "text": [
            "56\n",
            "C\n"
          ]
        }
      ]
    },
    {
      "cell_type": "code",
      "source": [
        "mark = int(input())\n",
        "\n",
        "if mark >= 80:\n",
        "  print(\"A+\")\n",
        "if mark >= 70:\n",
        "  print(\"A\")\n",
        "if mark >= 60:\n",
        "  print(\"B\")\n",
        "if mark >= 50:\n",
        "  print(\"C\")\n",
        "if mark >= 40:\n",
        "  print(\"D\")\n",
        "else:\n",
        "  print(\"F\")"
      ],
      "metadata": {
        "colab": {
          "base_uri": "https://localhost:8080/"
        },
        "id": "qy5ggXL6DLji",
        "outputId": "3c7dc08a-6aea-4337-d743-336aa9590021"
      },
      "execution_count": null,
      "outputs": [
        {
          "output_type": "stream",
          "name": "stdout",
          "text": [
            "90\n",
            "A+\n",
            "A\n",
            "B\n",
            "C\n",
            "D\n"
          ]
        }
      ]
    },
    {
      "cell_type": "code",
      "source": [
        "mark = int(input())\n",
        "\n",
        "if mark <=100 and mark >= 80:\n",
        "  print(\"A+\")\n",
        "if mark < 80 and mark >= 70:\n",
        "  print(\"A\")\n",
        "if mark < 70 and mark >= 60:\n",
        "  print(\"B\")\n",
        "if mark < 60 and mark >= 50:\n",
        "  print(\"C\")\n",
        "if mark < 50 and mark >= 40:\n",
        "  print(\"D\")\n",
        "if mark < 40:\n",
        "  print(\"F\")"
      ],
      "metadata": {
        "colab": {
          "base_uri": "https://localhost:8080/"
        },
        "id": "t-oxVkEHDkTe",
        "outputId": "616b46ae-39ed-42a0-d4c8-dea875344e86"
      },
      "execution_count": null,
      "outputs": [
        {
          "output_type": "stream",
          "name": "stdout",
          "text": [
            "90\n",
            "A+\n"
          ]
        }
      ]
    },
    {
      "cell_type": "code",
      "source": [
        "mark = int(input())\n",
        "\n",
        "grade = \"passed\" if mark >= 40 else \"failed\"\n",
        "print(grade)"
      ],
      "metadata": {
        "colab": {
          "base_uri": "https://localhost:8080/"
        },
        "id": "M4tX0j_JEZJs",
        "outputId": "5dee6d5e-6990-43a9-b1ee-4e2c32345db0"
      },
      "execution_count": null,
      "outputs": [
        {
          "output_type": "stream",
          "name": "stdout",
          "text": [
            "50\n",
            "passed\n"
          ]
        }
      ]
    },
    {
      "cell_type": "markdown",
      "source": [
        "### range"
      ],
      "metadata": {
        "id": "VfM0R6OCFBPt"
      }
    },
    {
      "cell_type": "code",
      "source": [
        "a = range(0, 5, 1)\n",
        "print(list(a))"
      ],
      "metadata": {
        "colab": {
          "base_uri": "https://localhost:8080/"
        },
        "id": "8hnvFb-jFHCQ",
        "outputId": "0b9133b2-b4a4-4b4b-e9fa-0017f3d58c34"
      },
      "execution_count": null,
      "outputs": [
        {
          "output_type": "stream",
          "name": "stdout",
          "text": [
            "[0, 1, 2, 3, 4]\n"
          ]
        }
      ]
    },
    {
      "cell_type": "code",
      "source": [
        "print(list(range(0, 5, 1)))\n",
        "print(list(range(0, 5)))\n",
        "print(list(range(5)))"
      ],
      "metadata": {
        "colab": {
          "base_uri": "https://localhost:8080/"
        },
        "id": "d9dNbGm8HGdc",
        "outputId": "df9be193-777f-42c4-f600-9382471d1457"
      },
      "execution_count": null,
      "outputs": [
        {
          "output_type": "stream",
          "name": "stdout",
          "text": [
            "[0, 1, 2, 3, 4]\n",
            "[0, 1, 2, 3, 4]\n",
            "[0, 1, 2, 3, 4]\n"
          ]
        }
      ]
    },
    {
      "cell_type": "code",
      "source": [
        "print(list(range(100, 1000, 50)))"
      ],
      "metadata": {
        "colab": {
          "base_uri": "https://localhost:8080/"
        },
        "id": "mbQldIILHNR_",
        "outputId": "27b5710f-3e87-4afa-9953-f7e1b1f41505"
      },
      "execution_count": null,
      "outputs": [
        {
          "output_type": "stream",
          "name": "stdout",
          "text": [
            "[100, 150, 200, 250, 300, 350, 400, 450, 500, 550, 600, 650, 700, 750, 800, 850, 900, 950]\n"
          ]
        }
      ]
    },
    {
      "cell_type": "code",
      "source": [
        "print(list(range(500, 0, -10)))"
      ],
      "metadata": {
        "id": "F2etwF6fHXcz",
        "colab": {
          "base_uri": "https://localhost:8080/"
        },
        "outputId": "377b770b-8697-43e3-cba6-10ada5a4cad8"
      },
      "execution_count": null,
      "outputs": [
        {
          "output_type": "stream",
          "name": "stdout",
          "text": [
            "[500, 490, 480, 470, 460, 450, 440, 430, 420, 410, 400, 390, 380, 370, 360, 350, 340, 330, 320, 310, 300, 290, 280, 270, 260, 250, 240, 230, 220, 210, 200, 190, 180, 170, 160, 150, 140, 130, 120, 110, 100, 90, 80, 70, 60, 50, 40, 30, 20, 10]\n"
          ]
        }
      ]
    },
    {
      "cell_type": "markdown",
      "source": [
        "### Loop\n"
      ],
      "metadata": {
        "id": "0XMmZtZWI13n"
      }
    },
    {
      "cell_type": "code",
      "source": [
        "for i in range(5):\n",
        "  print(i, end=': ')\n",
        "  print(\"I am ASHRAFUL\")"
      ],
      "metadata": {
        "colab": {
          "base_uri": "https://localhost:8080/"
        },
        "id": "u4hqokkEI3uI",
        "outputId": "44fff790-858f-464f-d835-f4e19dc40f53"
      },
      "execution_count": null,
      "outputs": [
        {
          "output_type": "stream",
          "name": "stdout",
          "text": [
            "0: I am ASHRAFUL\n",
            "1: I am ASHRAFUL\n",
            "2: I am ASHRAFUL\n",
            "3: I am ASHRAFUL\n",
            "4: I am ASHRAFUL\n"
          ]
        }
      ]
    },
    {
      "cell_type": "code",
      "source": [
        "for i in range(1, 11):\n",
        "  print(\"5\", end=' x ')\n",
        "  print(i, end=' = ')\n",
        "  print(5*i)"
      ],
      "metadata": {
        "colab": {
          "base_uri": "https://localhost:8080/"
        },
        "id": "TpSlpoaCJnOx",
        "outputId": "3ac1df63-fa17-4780-d2ec-efba9274f739"
      },
      "execution_count": null,
      "outputs": [
        {
          "output_type": "stream",
          "name": "stdout",
          "text": [
            "5 x 1 = 5\n",
            "5 x 2 = 10\n",
            "5 x 3 = 15\n",
            "5 x 4 = 20\n",
            "5 x 5 = 25\n",
            "5 x 6 = 30\n",
            "5 x 7 = 35\n",
            "5 x 8 = 40\n",
            "5 x 9 = 45\n",
            "5 x 10 = 50\n"
          ]
        }
      ]
    },
    {
      "cell_type": "code",
      "source": [
        "for i in range(1, 11):\n",
        "  print(f\"5 x {i} = {5*i}\")"
      ],
      "metadata": {
        "colab": {
          "base_uri": "https://localhost:8080/"
        },
        "id": "Y8eyE0E8LEhq",
        "outputId": "0faceebf-5722-46fa-e135-1935cf094418"
      },
      "execution_count": null,
      "outputs": [
        {
          "output_type": "stream",
          "name": "stdout",
          "text": [
            "5 x 1 = 5\n",
            "5 x 2 = 10\n",
            "5 x 3 = 15\n",
            "5 x 4 = 20\n",
            "5 x 5 = 25\n",
            "5 x 6 = 30\n",
            "5 x 7 = 35\n",
            "5 x 8 = 40\n",
            "5 x 9 = 45\n",
            "5 x 10 = 50\n"
          ]
        }
      ]
    },
    {
      "cell_type": "code",
      "source": [
        "n = int(input())\n",
        "\n",
        "for i in range(1, 11):\n",
        "  print(f\"{n} x {i} = {n*i}\")"
      ],
      "metadata": {
        "colab": {
          "base_uri": "https://localhost:8080/"
        },
        "id": "nIktLh_YLyo3",
        "outputId": "2821d979-52e2-4008-a8fc-6f74c9e9aa5d"
      },
      "execution_count": null,
      "outputs": [
        {
          "output_type": "stream",
          "name": "stdout",
          "text": [
            "7\n",
            "7 x 1 = 7\n",
            "7 x 2 = 14\n",
            "7 x 3 = 21\n",
            "7 x 4 = 28\n",
            "7 x 5 = 35\n",
            "7 x 6 = 42\n",
            "7 x 7 = 49\n",
            "7 x 8 = 56\n",
            "7 x 9 = 63\n",
            "7 x 10 = 70\n"
          ]
        }
      ]
    },
    {
      "cell_type": "code",
      "source": [
        "for n in range(1, 21):\n",
        "  for i in range(1, 11):\n",
        "    print(f\"{n} x {i} = {n*i}\")\n",
        "\n",
        "  print()\n",
        "  print()"
      ],
      "metadata": {
        "colab": {
          "base_uri": "https://localhost:8080/"
        },
        "id": "hGfoGyzJMUqu",
        "outputId": "95cd29ed-dee2-4f0e-b030-4941117fac8a"
      },
      "execution_count": null,
      "outputs": [
        {
          "output_type": "stream",
          "name": "stdout",
          "text": [
            "1 x 1 = 1\n",
            "1 x 2 = 2\n",
            "1 x 3 = 3\n",
            "1 x 4 = 4\n",
            "1 x 5 = 5\n",
            "1 x 6 = 6\n",
            "1 x 7 = 7\n",
            "1 x 8 = 8\n",
            "1 x 9 = 9\n",
            "1 x 10 = 10\n",
            "\n",
            "\n",
            "2 x 1 = 2\n",
            "2 x 2 = 4\n",
            "2 x 3 = 6\n",
            "2 x 4 = 8\n",
            "2 x 5 = 10\n",
            "2 x 6 = 12\n",
            "2 x 7 = 14\n",
            "2 x 8 = 16\n",
            "2 x 9 = 18\n",
            "2 x 10 = 20\n",
            "\n",
            "\n",
            "3 x 1 = 3\n",
            "3 x 2 = 6\n",
            "3 x 3 = 9\n",
            "3 x 4 = 12\n",
            "3 x 5 = 15\n",
            "3 x 6 = 18\n",
            "3 x 7 = 21\n",
            "3 x 8 = 24\n",
            "3 x 9 = 27\n",
            "3 x 10 = 30\n",
            "\n",
            "\n",
            "4 x 1 = 4\n",
            "4 x 2 = 8\n",
            "4 x 3 = 12\n",
            "4 x 4 = 16\n",
            "4 x 5 = 20\n",
            "4 x 6 = 24\n",
            "4 x 7 = 28\n",
            "4 x 8 = 32\n",
            "4 x 9 = 36\n",
            "4 x 10 = 40\n",
            "\n",
            "\n",
            "5 x 1 = 5\n",
            "5 x 2 = 10\n",
            "5 x 3 = 15\n",
            "5 x 4 = 20\n",
            "5 x 5 = 25\n",
            "5 x 6 = 30\n",
            "5 x 7 = 35\n",
            "5 x 8 = 40\n",
            "5 x 9 = 45\n",
            "5 x 10 = 50\n",
            "\n",
            "\n",
            "6 x 1 = 6\n",
            "6 x 2 = 12\n",
            "6 x 3 = 18\n",
            "6 x 4 = 24\n",
            "6 x 5 = 30\n",
            "6 x 6 = 36\n",
            "6 x 7 = 42\n",
            "6 x 8 = 48\n",
            "6 x 9 = 54\n",
            "6 x 10 = 60\n",
            "\n",
            "\n",
            "7 x 1 = 7\n",
            "7 x 2 = 14\n",
            "7 x 3 = 21\n",
            "7 x 4 = 28\n",
            "7 x 5 = 35\n",
            "7 x 6 = 42\n",
            "7 x 7 = 49\n",
            "7 x 8 = 56\n",
            "7 x 9 = 63\n",
            "7 x 10 = 70\n",
            "\n",
            "\n",
            "8 x 1 = 8\n",
            "8 x 2 = 16\n",
            "8 x 3 = 24\n",
            "8 x 4 = 32\n",
            "8 x 5 = 40\n",
            "8 x 6 = 48\n",
            "8 x 7 = 56\n",
            "8 x 8 = 64\n",
            "8 x 9 = 72\n",
            "8 x 10 = 80\n",
            "\n",
            "\n",
            "9 x 1 = 9\n",
            "9 x 2 = 18\n",
            "9 x 3 = 27\n",
            "9 x 4 = 36\n",
            "9 x 5 = 45\n",
            "9 x 6 = 54\n",
            "9 x 7 = 63\n",
            "9 x 8 = 72\n",
            "9 x 9 = 81\n",
            "9 x 10 = 90\n",
            "\n",
            "\n",
            "10 x 1 = 10\n",
            "10 x 2 = 20\n",
            "10 x 3 = 30\n",
            "10 x 4 = 40\n",
            "10 x 5 = 50\n",
            "10 x 6 = 60\n",
            "10 x 7 = 70\n",
            "10 x 8 = 80\n",
            "10 x 9 = 90\n",
            "10 x 10 = 100\n",
            "\n",
            "\n",
            "11 x 1 = 11\n",
            "11 x 2 = 22\n",
            "11 x 3 = 33\n",
            "11 x 4 = 44\n",
            "11 x 5 = 55\n",
            "11 x 6 = 66\n",
            "11 x 7 = 77\n",
            "11 x 8 = 88\n",
            "11 x 9 = 99\n",
            "11 x 10 = 110\n",
            "\n",
            "\n",
            "12 x 1 = 12\n",
            "12 x 2 = 24\n",
            "12 x 3 = 36\n",
            "12 x 4 = 48\n",
            "12 x 5 = 60\n",
            "12 x 6 = 72\n",
            "12 x 7 = 84\n",
            "12 x 8 = 96\n",
            "12 x 9 = 108\n",
            "12 x 10 = 120\n",
            "\n",
            "\n",
            "13 x 1 = 13\n",
            "13 x 2 = 26\n",
            "13 x 3 = 39\n",
            "13 x 4 = 52\n",
            "13 x 5 = 65\n",
            "13 x 6 = 78\n",
            "13 x 7 = 91\n",
            "13 x 8 = 104\n",
            "13 x 9 = 117\n",
            "13 x 10 = 130\n",
            "\n",
            "\n",
            "14 x 1 = 14\n",
            "14 x 2 = 28\n",
            "14 x 3 = 42\n",
            "14 x 4 = 56\n",
            "14 x 5 = 70\n",
            "14 x 6 = 84\n",
            "14 x 7 = 98\n",
            "14 x 8 = 112\n",
            "14 x 9 = 126\n",
            "14 x 10 = 140\n",
            "\n",
            "\n",
            "15 x 1 = 15\n",
            "15 x 2 = 30\n",
            "15 x 3 = 45\n",
            "15 x 4 = 60\n",
            "15 x 5 = 75\n",
            "15 x 6 = 90\n",
            "15 x 7 = 105\n",
            "15 x 8 = 120\n",
            "15 x 9 = 135\n",
            "15 x 10 = 150\n",
            "\n",
            "\n",
            "16 x 1 = 16\n",
            "16 x 2 = 32\n",
            "16 x 3 = 48\n",
            "16 x 4 = 64\n",
            "16 x 5 = 80\n",
            "16 x 6 = 96\n",
            "16 x 7 = 112\n",
            "16 x 8 = 128\n",
            "16 x 9 = 144\n",
            "16 x 10 = 160\n",
            "\n",
            "\n",
            "17 x 1 = 17\n",
            "17 x 2 = 34\n",
            "17 x 3 = 51\n",
            "17 x 4 = 68\n",
            "17 x 5 = 85\n",
            "17 x 6 = 102\n",
            "17 x 7 = 119\n",
            "17 x 8 = 136\n",
            "17 x 9 = 153\n",
            "17 x 10 = 170\n",
            "\n",
            "\n",
            "18 x 1 = 18\n",
            "18 x 2 = 36\n",
            "18 x 3 = 54\n",
            "18 x 4 = 72\n",
            "18 x 5 = 90\n",
            "18 x 6 = 108\n",
            "18 x 7 = 126\n",
            "18 x 8 = 144\n",
            "18 x 9 = 162\n",
            "18 x 10 = 180\n",
            "\n",
            "\n",
            "19 x 1 = 19\n",
            "19 x 2 = 38\n",
            "19 x 3 = 57\n",
            "19 x 4 = 76\n",
            "19 x 5 = 95\n",
            "19 x 6 = 114\n",
            "19 x 7 = 133\n",
            "19 x 8 = 152\n",
            "19 x 9 = 171\n",
            "19 x 10 = 190\n",
            "\n",
            "\n",
            "20 x 1 = 20\n",
            "20 x 2 = 40\n",
            "20 x 3 = 60\n",
            "20 x 4 = 80\n",
            "20 x 5 = 100\n",
            "20 x 6 = 120\n",
            "20 x 7 = 140\n",
            "20 x 8 = 160\n",
            "20 x 9 = 180\n",
            "20 x 10 = 200\n",
            "\n",
            "\n"
          ]
        }
      ]
    },
    {
      "cell_type": "code",
      "source": [
        "# 1 + 2 + 3 + 4 + ... + n = ?\n",
        "# n <= input\n",
        "\n",
        "n = int(input())\n",
        "sum = 0\n",
        "for i in range(1, n+1):\n",
        "  sum = sum + i\n",
        "\n",
        "print(sum, (n*(n+1)) /2 )"
      ],
      "metadata": {
        "colab": {
          "base_uri": "https://localhost:8080/"
        },
        "id": "aleaSqnUOY0x",
        "outputId": "f9f43abf-1ecb-49b8-8d22-d4988bf5d8b0"
      },
      "execution_count": null,
      "outputs": [
        {
          "output_type": "stream",
          "name": "stdout",
          "text": [
            "60\n",
            "1830 1830.0\n"
          ]
        }
      ]
    },
    {
      "cell_type": "code",
      "source": [
        "# 1^2 + 2^2 + 3^2 + 4^2 + ... + n^2 = ?\n",
        "n = int(input())\n",
        "sum = 0\n",
        "for i in range(1, n+1):\n",
        "  sum = sum + i ** 2\n",
        "\n",
        "print(sum)"
      ],
      "metadata": {
        "colab": {
          "base_uri": "https://localhost:8080/"
        },
        "id": "KdbDZZiCS0F_",
        "outputId": "b5634a00-379c-4fbb-a899-3f783a7dbaec"
      },
      "execution_count": null,
      "outputs": [
        {
          "output_type": "stream",
          "name": "stdout",
          "text": [
            "5\n",
            "55\n"
          ]
        }
      ]
    },
    {
      "cell_type": "code",
      "source": [],
      "metadata": {
        "id": "9tD7KbbrXnzI"
      },
      "execution_count": null,
      "outputs": []
    },
    {
      "cell_type": "markdown",
      "source": [
        "### Function"
      ],
      "metadata": {
        "id": "dbRkpAdnYdXw"
      }
    },
    {
      "cell_type": "code",
      "source": [
        "def add(a,b):\n",
        "  sum = a+b\n",
        "  return sum\n",
        "\n",
        "print(add(5,6))"
      ],
      "metadata": {
        "colab": {
          "base_uri": "https://localhost:8080/"
        },
        "id": "wCtrsd5UYfrx",
        "outputId": "a7e83375-4d81-4fdc-d1d3-4849458a69e4"
      },
      "execution_count": null,
      "outputs": [
        {
          "output_type": "stream",
          "name": "stdout",
          "text": [
            "11\n"
          ]
        }
      ]
    },
    {
      "cell_type": "code",
      "source": [
        "a = 50\n",
        "b = 600\n",
        "\n",
        "c = add(a, b)"
      ],
      "metadata": {
        "id": "rCMzgAN5a_mK"
      },
      "execution_count": null,
      "outputs": []
    },
    {
      "cell_type": "code",
      "source": [
        "print(c)"
      ],
      "metadata": {
        "colab": {
          "base_uri": "https://localhost:8080/"
        },
        "id": "qTDzonqTbaPq",
        "outputId": "1f2c6b2b-74b9-416d-c793-116092a3d5a6"
      },
      "execution_count": null,
      "outputs": [
        {
          "output_type": "stream",
          "name": "stdout",
          "text": [
            "650\n"
          ]
        }
      ]
    },
    {
      "cell_type": "code",
      "source": [
        "def print_multiplication_table(n):\n",
        "  for i in range(1, 11):\n",
        "    print(f\"{n} x {i} = {n*i}\")"
      ],
      "metadata": {
        "id": "MqvRn_qgbCxa"
      },
      "execution_count": null,
      "outputs": []
    },
    {
      "cell_type": "code",
      "source": [
        "print_multiplication_table(5)"
      ],
      "metadata": {
        "colab": {
          "base_uri": "https://localhost:8080/"
        },
        "id": "__wCeKiJbq1T",
        "outputId": "1b039cd5-9221-4371-9d4f-b07058525344"
      },
      "execution_count": null,
      "outputs": [
        {
          "output_type": "stream",
          "name": "stdout",
          "text": [
            "5 x 1 = 5\n",
            "5 x 2 = 10\n",
            "5 x 3 = 15\n",
            "5 x 4 = 20\n",
            "5 x 5 = 25\n",
            "5 x 6 = 30\n",
            "5 x 7 = 35\n",
            "5 x 8 = 40\n",
            "5 x 9 = 45\n",
            "5 x 10 = 50\n"
          ]
        }
      ]
    },
    {
      "cell_type": "code",
      "source": [
        "def summation(a):\n",
        "  sum = 0\n",
        "  for i in range(len(a)):\n",
        "    sum = sum + a[i]\n",
        "  # print(sum)\n",
        "  return sum"
      ],
      "metadata": {
        "id": "7Q78ATIhdanM"
      },
      "execution_count": null,
      "outputs": []
    },
    {
      "cell_type": "code",
      "source": [
        "print(summation([5]))"
      ],
      "metadata": {
        "colab": {
          "base_uri": "https://localhost:8080/"
        },
        "id": "qVyevsYpd-T5",
        "outputId": "2afc101e-e91b-418c-e914-0aa894bd797e"
      },
      "execution_count": null,
      "outputs": [
        {
          "output_type": "stream",
          "name": "stdout",
          "text": [
            "5\n"
          ]
        }
      ]
    },
    {
      "cell_type": "code",
      "source": [
        "def summation(a):\n",
        "  sum = 0\n",
        "  for element in a:\n",
        "    sum = sum + element\n",
        "  return sum"
      ],
      "metadata": {
        "id": "PQRcXHAWda4H"
      },
      "execution_count": null,
      "outputs": []
    },
    {
      "cell_type": "code",
      "source": [
        "print(summation([5, 4, 6, 9]))"
      ],
      "metadata": {
        "colab": {
          "base_uri": "https://localhost:8080/"
        },
        "id": "feunXRY1gKRN",
        "outputId": "f51d3233-51a2-4725-fb99-c6b933abf275"
      },
      "execution_count": null,
      "outputs": [
        {
          "output_type": "stream",
          "name": "stdout",
          "text": [
            "24\n"
          ]
        }
      ]
    },
    {
      "cell_type": "code",
      "source": [
        "print(max([5, 6, 5]))\n",
        "print(min([5, 6, 1]))\n",
        "print(sum([5, 6, 1]))"
      ],
      "metadata": {
        "colab": {
          "base_uri": "https://localhost:8080/"
        },
        "id": "YEaKnXJkiOUm",
        "outputId": "0f2e9a3d-8194-4788-bba7-e4c58047e782"
      },
      "execution_count": null,
      "outputs": [
        {
          "output_type": "stream",
          "name": "stdout",
          "text": [
            "6\n",
            "1\n",
            "12\n"
          ]
        }
      ]
    },
    {
      "cell_type": "code",
      "source": [
        "a = 10\n",
        "b = 15\n",
        "def add():\n",
        "  return a + b\n"
      ],
      "metadata": {
        "id": "gSh0enmUit6_"
      },
      "execution_count": null,
      "outputs": []
    },
    {
      "cell_type": "code",
      "source": [
        "a = 155\n",
        "print(add())"
      ],
      "metadata": {
        "colab": {
          "base_uri": "https://localhost:8080/"
        },
        "id": "VP20ueFGi15b",
        "outputId": "6b36df30-d47c-42f5-d1d9-bc25984f853f"
      },
      "execution_count": null,
      "outputs": [
        {
          "output_type": "stream",
          "name": "stdout",
          "text": [
            "170\n"
          ]
        }
      ]
    },
    {
      "cell_type": "code",
      "source": [
        "def add(a, b):\n",
        "  return a+b"
      ],
      "metadata": {
        "id": "lg1XtHthjWWn"
      },
      "execution_count": null,
      "outputs": []
    },
    {
      "cell_type": "code",
      "source": [
        "a=5000\n",
        "print(add(5, 4))"
      ],
      "metadata": {
        "colab": {
          "base_uri": "https://localhost:8080/"
        },
        "id": "6-dHDkSHjY7Q",
        "outputId": "8510c3f7-9f9b-4dd8-8a9a-0cdef5a5b361"
      },
      "execution_count": null,
      "outputs": [
        {
          "output_type": "stream",
          "name": "stdout",
          "text": [
            "9\n"
          ]
        }
      ]
    },
    {
      "cell_type": "markdown",
      "source": [
        "### Class-4"
      ],
      "metadata": {
        "id": "bc-FbweP-xYf"
      }
    },
    {
      "cell_type": "markdown",
      "source": [
        "#### Function"
      ],
      "metadata": {
        "id": "anqlKtPMF7XF"
      }
    },
    {
      "cell_type": "code",
      "source": [
        "def subtraction(a, b):\n",
        "  return a - b"
      ],
      "metadata": {
        "id": "WcD3vWhx-zFw"
      },
      "execution_count": null,
      "outputs": []
    },
    {
      "cell_type": "code",
      "source": [
        "print(subtraction(b=5, a=10))"
      ],
      "metadata": {
        "colab": {
          "base_uri": "https://localhost:8080/"
        },
        "id": "GgcQpe2vGEOq",
        "outputId": "23befe50-941e-4003-e691-0f5e8a164dc8"
      },
      "execution_count": null,
      "outputs": [
        {
          "output_type": "stream",
          "name": "stdout",
          "text": [
            "5\n"
          ]
        }
      ]
    },
    {
      "cell_type": "code",
      "source": [
        "def random_func(a, b, c, d, e):\n",
        "  return a*b + c*d - e"
      ],
      "metadata": {
        "id": "_cVu2dv1HAFj"
      },
      "execution_count": null,
      "outputs": []
    },
    {
      "cell_type": "code",
      "source": [
        "print(random_func(b=10, a=50, c=60, e=5, d=3))"
      ],
      "metadata": {
        "colab": {
          "base_uri": "https://localhost:8080/"
        },
        "id": "YPOLgxp7HH8i",
        "outputId": "9469941f-9a8d-476e-94bd-aa87bdc595a4"
      },
      "execution_count": null,
      "outputs": [
        {
          "output_type": "stream",
          "name": "stdout",
          "text": [
            "675\n"
          ]
        }
      ]
    },
    {
      "cell_type": "code",
      "source": [
        "def add_sub(a, b):\n",
        "  return a+b, a-b"
      ],
      "metadata": {
        "id": "siHEqgO7Hm4X"
      },
      "execution_count": null,
      "outputs": []
    },
    {
      "cell_type": "code",
      "source": [
        "print(add_sub(15, 10))"
      ],
      "metadata": {
        "colab": {
          "base_uri": "https://localhost:8080/"
        },
        "id": "Y3P7ATGOGEFG",
        "outputId": "5b5a9c74-dccd-4754-8987-f5d3852259f1"
      },
      "execution_count": null,
      "outputs": [
        {
          "output_type": "stream",
          "name": "stdout",
          "text": [
            "(25, 5)\n"
          ]
        }
      ]
    },
    {
      "cell_type": "code",
      "source": [
        "m, n = add_sub(15, 10)\n",
        "print(m)\n",
        "print(n)"
      ],
      "metadata": {
        "colab": {
          "base_uri": "https://localhost:8080/"
        },
        "id": "0qFb8Ij7H-gA",
        "outputId": "66820c4b-b1f9-486c-a2a7-38a9c9669ce0"
      },
      "execution_count": null,
      "outputs": [
        {
          "output_type": "stream",
          "name": "stdout",
          "text": [
            "25\n",
            "5\n"
          ]
        }
      ]
    },
    {
      "cell_type": "code",
      "source": [
        "a, b, c = 15, 20, 6\n",
        "print(a)\n",
        "print(b)\n",
        "print(c)"
      ],
      "metadata": {
        "colab": {
          "base_uri": "https://localhost:8080/"
        },
        "id": "hUhSLwjeIv7r",
        "outputId": "b820aedd-8299-42cb-b71c-454a011af209"
      },
      "execution_count": null,
      "outputs": [
        {
          "output_type": "stream",
          "name": "stdout",
          "text": [
            "15\n",
            "20\n",
            "6\n"
          ]
        }
      ]
    },
    {
      "cell_type": "code",
      "source": [
        "a, b, c = [15, 20, 6]\n",
        "print(a)\n",
        "print(b)\n",
        "print(c)"
      ],
      "metadata": {
        "colab": {
          "base_uri": "https://localhost:8080/"
        },
        "id": "0Px3i2IhICTV",
        "outputId": "90d0aba2-27f6-4244-c740-d1bd4609278e"
      },
      "execution_count": null,
      "outputs": [
        {
          "output_type": "stream",
          "name": "stdout",
          "text": [
            "15\n",
            "20\n",
            "6\n"
          ]
        }
      ]
    },
    {
      "cell_type": "code",
      "source": [
        "a, b, c = (15, 20, 6)\n",
        "print(a)\n",
        "print(b)\n",
        "print(c)"
      ],
      "metadata": {
        "colab": {
          "base_uri": "https://localhost:8080/"
        },
        "id": "kG9fokIII8UY",
        "outputId": "46977cba-9d77-4cee-908e-5cd9ba47dc7e"
      },
      "execution_count": null,
      "outputs": [
        {
          "output_type": "stream",
          "name": "stdout",
          "text": [
            "15\n",
            "20\n",
            "6\n"
          ]
        }
      ]
    },
    {
      "cell_type": "code",
      "source": [
        "l = [15, 20, 6]\n",
        "a, b, c = l\n",
        "print(a)\n",
        "print(b)\n",
        "print(c)"
      ],
      "metadata": {
        "colab": {
          "base_uri": "https://localhost:8080/"
        },
        "id": "SCWDJdYsJA2Q",
        "outputId": "a9463fef-b602-4283-f96e-2ce201164d34"
      },
      "execution_count": null,
      "outputs": [
        {
          "output_type": "stream",
          "name": "stdout",
          "text": [
            "15\n",
            "20\n",
            "6\n"
          ]
        }
      ]
    },
    {
      "cell_type": "code",
      "source": [
        "l = [15, 20, 6, 50]\n",
        "a, b, c, _ = l # _ underscore to ignore\n",
        "print(a)\n",
        "print(b)\n",
        "print(c)"
      ],
      "metadata": {
        "colab": {
          "base_uri": "https://localhost:8080/"
        },
        "id": "pFsU6c5mJRPw",
        "outputId": "000b860c-1c4f-4961-feeb-c8d09355bba9"
      },
      "execution_count": null,
      "outputs": [
        {
          "output_type": "stream",
          "name": "stdout",
          "text": [
            "15\n",
            "20\n",
            "6\n"
          ]
        }
      ]
    },
    {
      "cell_type": "code",
      "source": [],
      "metadata": {
        "id": "GbcxpCLHKtqM"
      },
      "execution_count": null,
      "outputs": []
    },
    {
      "cell_type": "code",
      "source": [
        "l = [60, 56, 78, 35]\n",
        "a, _, _, c  = l # _ underscore to ignore\n",
        "print(a)\n",
        "print(c)"
      ],
      "metadata": {
        "colab": {
          "base_uri": "https://localhost:8080/"
        },
        "id": "UaKTLkEYKbtY",
        "outputId": "59b57628-2fa6-4841-8936-823e80b8b574"
      },
      "execution_count": null,
      "outputs": [
        {
          "output_type": "stream",
          "name": "stdout",
          "text": [
            "60\n",
            "35\n"
          ]
        }
      ]
    },
    {
      "cell_type": "code",
      "source": [
        "print(b)"
      ],
      "metadata": {
        "colab": {
          "base_uri": "https://localhost:8080/",
          "height": 176
        },
        "id": "laixPGtgLlUJ",
        "outputId": "542e6d3c-60ac-4152-ff9a-248ca0f00845"
      },
      "execution_count": null,
      "outputs": [
        {
          "output_type": "error",
          "ename": "NameError",
          "evalue": "ignored",
          "traceback": [
            "\u001b[0;31m---------------------------------------------------------------------------\u001b[0m",
            "\u001b[0;31mNameError\u001b[0m                                 Traceback (most recent call last)",
            "\u001b[0;32m<ipython-input-35-67e500defa1b>\u001b[0m in \u001b[0;36m<cell line: 1>\u001b[0;34m()\u001b[0m\n\u001b[0;32m----> 1\u001b[0;31m \u001b[0mprint\u001b[0m\u001b[0;34m(\u001b[0m\u001b[0mb\u001b[0m\u001b[0;34m)\u001b[0m\u001b[0;34m\u001b[0m\u001b[0;34m\u001b[0m\u001b[0m\n\u001b[0m",
            "\u001b[0;31mNameError\u001b[0m: name 'b' is not defined"
          ]
        }
      ]
    },
    {
      "cell_type": "code",
      "source": [
        "del b"
      ],
      "metadata": {
        "colab": {
          "base_uri": "https://localhost:8080/",
          "height": 176
        },
        "id": "ALVilSnmLo18",
        "outputId": "f809dc0a-889a-4d47-d4f5-4e1d9f1a8158"
      },
      "execution_count": null,
      "outputs": [
        {
          "output_type": "error",
          "ename": "NameError",
          "evalue": "ignored",
          "traceback": [
            "\u001b[0;31m---------------------------------------------------------------------------\u001b[0m",
            "\u001b[0;31mNameError\u001b[0m                                 Traceback (most recent call last)",
            "\u001b[0;32m<ipython-input-36-c74590171a89>\u001b[0m in \u001b[0;36m<cell line: 1>\u001b[0;34m()\u001b[0m\n\u001b[0;32m----> 1\u001b[0;31m \u001b[0;32mdel\u001b[0m \u001b[0mb\u001b[0m\u001b[0;34m\u001b[0m\u001b[0;34m\u001b[0m\u001b[0m\n\u001b[0m",
            "\u001b[0;31mNameError\u001b[0m: name 'b' is not defined"
          ]
        }
      ]
    },
    {
      "cell_type": "code",
      "source": [
        "a, b = 5, 50\n",
        "print(a)\n",
        "print(b)"
      ],
      "metadata": {
        "colab": {
          "base_uri": "https://localhost:8080/"
        },
        "id": "y9EQVzrwMGdk",
        "outputId": "83b3206d-2a0e-4a0e-9bc2-8d87b9291a7a"
      },
      "execution_count": null,
      "outputs": [
        {
          "output_type": "stream",
          "name": "stdout",
          "text": [
            "5\n",
            "50\n"
          ]
        }
      ]
    },
    {
      "cell_type": "code",
      "source": [
        "a, b = b, a\n",
        "print(a)\n",
        "print(b)"
      ],
      "metadata": {
        "colab": {
          "base_uri": "https://localhost:8080/"
        },
        "id": "b5Z-T65FMQ0r",
        "outputId": "1e3582a3-aab9-431e-bf53-59681dc9816a"
      },
      "execution_count": null,
      "outputs": [
        {
          "output_type": "stream",
          "name": "stdout",
          "text": [
            "50\n",
            "5\n"
          ]
        }
      ]
    },
    {
      "cell_type": "markdown",
      "source": [
        "#### args, kargs"
      ],
      "metadata": {
        "id": "cIm_Qg4UN4ns"
      }
    },
    {
      "cell_type": "code",
      "source": [
        "def random_func(*a):\n",
        "  print(a)"
      ],
      "metadata": {
        "id": "gEiMDU7dN1Ym"
      },
      "execution_count": null,
      "outputs": []
    },
    {
      "cell_type": "code",
      "source": [
        "random_func(5, \"hello\", 2, 6, 5)"
      ],
      "metadata": {
        "colab": {
          "base_uri": "https://localhost:8080/"
        },
        "id": "WjHY95SzOLc3",
        "outputId": "249079a8-33c6-42d3-91ad-c97680e25146"
      },
      "execution_count": null,
      "outputs": [
        {
          "output_type": "stream",
          "name": "stdout",
          "text": [
            "(5, 'hello', 2, 6, 5)\n"
          ]
        }
      ]
    },
    {
      "cell_type": "code",
      "source": [
        "def vectorScalarMultiplication(m, *a):\n",
        "  res = []\n",
        "  for element in a:\n",
        "    res.append(element * m)\n",
        "  return res"
      ],
      "metadata": {
        "id": "RguDkYcYPqGF"
      },
      "execution_count": null,
      "outputs": []
    },
    {
      "cell_type": "code",
      "source": [
        "print(vectorScalarMultiplication(5, 2, 3))"
      ],
      "metadata": {
        "colab": {
          "base_uri": "https://localhost:8080/"
        },
        "id": "KqPyRTk8Pzwh",
        "outputId": "1f52f83e-2538-44cd-9f76-bf6b036b52b6"
      },
      "execution_count": null,
      "outputs": [
        {
          "output_type": "stream",
          "name": "stdout",
          "text": [
            "[10, 15]\n"
          ]
        }
      ]
    },
    {
      "cell_type": "code",
      "source": [
        "print(vectorScalarMultiplication(5, 2, 3, 50))"
      ],
      "metadata": {
        "colab": {
          "base_uri": "https://localhost:8080/"
        },
        "id": "Q8AV2TfdQulm",
        "outputId": "ab6843a3-13cb-4441-8136-c0814216881c"
      },
      "execution_count": null,
      "outputs": [
        {
          "output_type": "stream",
          "name": "stdout",
          "text": [
            "[10, 15, 250]\n"
          ]
        }
      ]
    },
    {
      "cell_type": "code",
      "source": [
        "print(vectorScalarMultiplication(5, 2, 3, 5, 6, 5))"
      ],
      "metadata": {
        "colab": {
          "base_uri": "https://localhost:8080/"
        },
        "id": "cOg1Lb3eQwDq",
        "outputId": "ca96f94d-1a38-4353-a894-3e70838a6a4d"
      },
      "execution_count": null,
      "outputs": [
        {
          "output_type": "stream",
          "name": "stdout",
          "text": [
            "[10, 15, 25, 30, 25]\n"
          ]
        }
      ]
    },
    {
      "cell_type": "code",
      "source": [
        "def random_func(**a):\n",
        "  return a"
      ],
      "metadata": {
        "id": "DGaaYyajRqn-"
      },
      "execution_count": null,
      "outputs": []
    },
    {
      "cell_type": "code",
      "source": [
        "print(random_func(b=10, a=50, c=60, e=5, d=3))"
      ],
      "metadata": {
        "colab": {
          "base_uri": "https://localhost:8080/"
        },
        "id": "z2F37frVRqNH",
        "outputId": "54f6e781-29c0-4ea9-9e09-f0c4a99c27c1"
      },
      "execution_count": null,
      "outputs": [
        {
          "output_type": "stream",
          "name": "stdout",
          "text": [
            "{'b': 10, 'a': 50, 'c': 60, 'e': 5, 'd': 3}\n"
          ]
        }
      ]
    },
    {
      "cell_type": "code",
      "source": [
        "def random_func(m, **a):\n",
        "  res = []\n",
        "  for i in a:\n",
        "    res.append(m * a[i])\n",
        "  return res"
      ],
      "metadata": {
        "id": "kXp19ZCwSsvW"
      },
      "execution_count": null,
      "outputs": []
    },
    {
      "cell_type": "code",
      "source": [
        "print(random_func(5, a=10, b=15, c=56))"
      ],
      "metadata": {
        "colab": {
          "base_uri": "https://localhost:8080/"
        },
        "id": "oij7ldZYS809",
        "outputId": "02417fd3-d36d-465b-890f-18e597b6c12d"
      },
      "execution_count": null,
      "outputs": [
        {
          "output_type": "stream",
          "name": "stdout",
          "text": [
            "[50, 75, 280]\n"
          ]
        }
      ]
    },
    {
      "cell_type": "markdown",
      "source": [
        "#### default value in input/parameter"
      ],
      "metadata": {
        "id": "eUgt9CLXh2CR"
      }
    },
    {
      "cell_type": "code",
      "source": [
        "def add(a=50, b=60):\n",
        "  return a+b"
      ],
      "metadata": {
        "id": "FrXkM32kh0q8"
      },
      "execution_count": null,
      "outputs": []
    },
    {
      "cell_type": "code",
      "source": [
        "print(add())\n",
        "print(add(a=500))\n",
        "print(add(b=100))\n",
        "print(add(a=500, b=100))"
      ],
      "metadata": {
        "colab": {
          "base_uri": "https://localhost:8080/"
        },
        "id": "qvxBWBGHh-Ky",
        "outputId": "51d4c0e7-57c6-4085-a01e-60b2c3b06c9f"
      },
      "execution_count": null,
      "outputs": [
        {
          "output_type": "stream",
          "name": "stdout",
          "text": [
            "110\n",
            "560\n",
            "150\n",
            "600\n"
          ]
        }
      ]
    },
    {
      "cell_type": "code",
      "source": [
        "print(add(500))"
      ],
      "metadata": {
        "colab": {
          "base_uri": "https://localhost:8080/"
        },
        "id": "4oilbdEei9p7",
        "outputId": "ec3b5152-ed32-4472-85f3-327fbff975b5"
      },
      "execution_count": null,
      "outputs": [
        {
          "output_type": "stream",
          "name": "stdout",
          "text": [
            "560\n"
          ]
        }
      ]
    },
    {
      "cell_type": "code",
      "source": [],
      "metadata": {
        "id": "pvDhYFbHiPCI"
      },
      "execution_count": null,
      "outputs": []
    },
    {
      "cell_type": "markdown",
      "source": [
        "#### class"
      ],
      "metadata": {
        "id": "8TcQALEiT0Mu"
      }
    },
    {
      "cell_type": "code",
      "source": [
        "class Student:\n",
        "  def __init__(self):\n",
        "    self.name = 'name'\n",
        "    self.roll = 0\n",
        "    self.level = 4\n",
        "    self.term = 2\n"
      ],
      "metadata": {
        "id": "9aH_9CFBXWjx"
      },
      "execution_count": null,
      "outputs": []
    },
    {
      "cell_type": "code",
      "source": [
        "class Student:\n",
        "  def __init__(self, name='ashraful', roll=0, level=1, term=1):\n",
        "    self.name = name\n",
        "    self.roll = roll\n",
        "    self.level = level\n",
        "    self.term = term\n"
      ],
      "metadata": {
        "id": "Jti-vNsgT1uG"
      },
      "execution_count": null,
      "outputs": []
    },
    {
      "cell_type": "code",
      "source": [
        "a = Student()\n",
        "\n",
        "print(a.name)\n",
        "print(a.roll)\n",
        "print(a.level)\n",
        "print(a.term)"
      ],
      "metadata": {
        "colab": {
          "base_uri": "https://localhost:8080/"
        },
        "id": "wNDnvyI2iuAS",
        "outputId": "39f324b6-9748-4f55-e257-a2e129ca7ca8"
      },
      "execution_count": null,
      "outputs": [
        {
          "output_type": "stream",
          "name": "stdout",
          "text": [
            "ashraful\n",
            "0\n",
            "1\n",
            "1\n"
          ]
        }
      ]
    },
    {
      "cell_type": "code",
      "source": [
        "a = Student(roll=50, name='ashraful', level=4, term=2)\n",
        "\n",
        "print(a.name)\n",
        "print(a.roll)\n",
        "print(a.level)\n",
        "print(a.term)"
      ],
      "metadata": {
        "colab": {
          "base_uri": "https://localhost:8080/"
        },
        "id": "AjCdICIWVr7t",
        "outputId": "1d2b8395-101d-48fc-eebc-423586126084"
      },
      "execution_count": null,
      "outputs": [
        {
          "output_type": "stream",
          "name": "stdout",
          "text": [
            "ashraful\n",
            "50\n",
            "4\n",
            "2\n"
          ]
        }
      ]
    },
    {
      "cell_type": "code",
      "source": [
        "b = Student(roll=65, name='rashid', level=4, term=2)\n",
        "\n",
        "print(b.name)\n",
        "print(b.roll)\n",
        "print(b.level)\n",
        "print(b.term)"
      ],
      "metadata": {
        "colab": {
          "base_uri": "https://localhost:8080/"
        },
        "id": "lh8--k1tZWAZ",
        "outputId": "c6a3126c-0e93-4d54-b297-bb2733bb6608"
      },
      "execution_count": null,
      "outputs": [
        {
          "output_type": "stream",
          "name": "stdout",
          "text": [
            "rashid\n",
            "65\n",
            "4\n",
            "2\n"
          ]
        }
      ]
    },
    {
      "cell_type": "code",
      "source": [
        "class Vector:\n",
        "  def __init__(self, *value):\n",
        "    self.dimension = len(value)\n",
        "    self.value = value\n",
        "\n",
        "  def scalar_multiplication(self, m):\n",
        "    res = []\n",
        "    for element in self.value:\n",
        "      res.append(element * m)\n",
        "    return res\n",
        "\n",
        "  def dot_product(self, b):\n",
        "    res = 0\n",
        "    for i in range(self.dimension):\n",
        "      res = res + self.value[i] * b.value[i]\n",
        "    return res\n"
      ],
      "metadata": {
        "id": "fnN2ZOk-ZjHC"
      },
      "execution_count": null,
      "outputs": []
    },
    {
      "cell_type": "code",
      "source": [
        "a = Vector(5, 6)\n",
        "b = Vector(2, 3)\n",
        "\n",
        "print(a.scalar_multiplication(5))\n",
        "print(a.dot_product(b))"
      ],
      "metadata": {
        "colab": {
          "base_uri": "https://localhost:8080/"
        },
        "id": "8qq08iQtfo6x",
        "outputId": "4c98adaf-a8e3-41e8-9938-c19c89429e32"
      },
      "execution_count": null,
      "outputs": [
        {
          "output_type": "stream",
          "name": "stdout",
          "text": [
            "[25, 30]\n",
            "28\n"
          ]
        }
      ]
    },
    {
      "cell_type": "code",
      "source": [
        "a = Vector(2, 3)\n",
        "print(a.dimension)\n",
        "print(a.value)"
      ],
      "metadata": {
        "colab": {
          "base_uri": "https://localhost:8080/"
        },
        "id": "azTQuWKqbnBx",
        "outputId": "08280e44-6f42-4804-c35c-9daa6a62808e"
      },
      "execution_count": null,
      "outputs": [
        {
          "output_type": "stream",
          "name": "stdout",
          "text": [
            "2\n",
            "(2, 3)\n"
          ]
        }
      ]
    },
    {
      "cell_type": "code",
      "source": [
        "b = Vector(2, 3, 5)\n",
        "print(b.dimension)\n",
        "print(b.value)"
      ],
      "metadata": {
        "colab": {
          "base_uri": "https://localhost:8080/"
        },
        "id": "gi902ReObsXJ",
        "outputId": "a07a2ffd-0277-48e6-d698-82fd9be2608e"
      },
      "execution_count": null,
      "outputs": [
        {
          "output_type": "stream",
          "name": "stdout",
          "text": [
            "3\n",
            "(2, 3, 5)\n"
          ]
        }
      ]
    },
    {
      "cell_type": "code",
      "source": [],
      "metadata": {
        "id": "wiz8NOWJhzFC"
      },
      "execution_count": null,
      "outputs": []
    }
  ]
}